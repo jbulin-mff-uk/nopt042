{
 "cells": [
  {
   "cell_type": "markdown",
   "id": "0d8742c9",
   "metadata": {
    "editable": false,
    "slideshow": {
     "slide_type": "slide"
    },
    "tags": []
   },
   "source": [
    "# NOPT042 Constraint programming: Tutorial 8 - Global constraints, Routing"
   ]
  },
  {
   "cell_type": "markdown",
   "id": "bef62de1-2d58-4c41-a4fd-0f52bb2378f6",
   "metadata": {
    "editable": false,
    "slideshow": {
     "slide_type": ""
    },
    "tags": []
   },
   "source": [
    "### What was in the lecture? Nothing, the lecture was canceled."
   ]
  },
  {
   "cell_type": "code",
   "execution_count": 1,
   "id": "ebb50602",
   "metadata": {
    "editable": true,
    "execution": {
     "iopub.execute_input": "2025-09-30T12:10:07.482789Z",
     "iopub.status.busy": "2025-09-30T12:10:07.482164Z",
     "iopub.status.idle": "2025-09-30T12:10:07.528883Z",
     "shell.execute_reply": "2025-09-30T12:10:07.525710Z"
    },
    "scrolled": true,
    "slideshow": {
     "slide_type": "skip"
    },
    "tags": []
   },
   "outputs": [
    {
     "data": {
      "application/javascript": [
       "\"use strict\";\n",
       "\n",
       "CodeMirror.defineMode(\"text/picat\", function(config) {\n",
       "\n",
       "  var isOperatorChar = /[+\\-*=\\@\\&|\\:#<>\\/]/;\n",
       "\n",
       "  var keywords = {\"else\":true,\n",
       "  \"end\":true,\n",
       "  \"foreach\":true,\n",
       "  \"if\":true,\n",
       "  \"in\":true,\n",
       "  \"then\":true\n",
       "  }\n",
       "\n",
       "  var specials = {\"acyclic_term\":true,\n",
       "  \"and_to_list\":true,\n",
       "  \"append\":true,\n",
       "  \"apply\":true,\n",
       "  \"arity\":true,\n",
       "  \"array\":true,\n",
       "  \"atom\":true,\n",
       "  \"atom_chars\":true,\n",
       "  \"atom_codes\":true,\n",
       "  \"atomic\":true,\n",
       "  \"attr_var\":true,\n",
       "  \"between\":true,\n",
       "  \"bind_vars\":true,\n",
       "  \"call\":true,\n",
       "  \"call_cleanup\":true,\n",
       "  \"catch\":true,\n",
       "  \"char\":true,\n",
       "  \"chr\":true,\n",
       "  \"clear\":true,\n",
       "  \"compare_terms\":true,\n",
       "  \"compound\":true,\n",
       "  \"copy_term\":true,\n",
       "  \"count_all\":true,\n",
       "  \"delete\":true,\n",
       "  \"delete_all\":true,\n",
       "  \"different_term\":true,\n",
       "  \"digit\":true,\n",
       "  \"div\":true,\n",
       "  \"dvar\":true,\n",
       "  \"dvar_or_int\":true,\n",
       "//   \"end\":true,\n",
       "  \"fail\":true,\n",
       "  \"false\":true,\n",
       "  \"find_all\":true,\n",
       "  \"findall\":true,\n",
       "  \"first\":true,\n",
       "  \"flatten\":true,\n",
       "  \"float\":true,\n",
       "  \"fold\":true,\n",
       "//   \"foreach\":true,\n",
       "  \"freeze\":true,\n",
       "  \"get\":true,\n",
       "  \"get_attr\":true,\n",
       "  \"get_global_map\":true,\n",
       "  \"get_heap_map\":true,\n",
       "  \"get_table_map\":true,\n",
       "  \"ground\":true,\n",
       "  \"handle_exception\":true,\n",
       "  \"has_key\":true,\n",
       "  \"hash_code\":true,\n",
       "  \"head\":true,\n",
       "  \"heap_is_empty\":true,\n",
       "  \"heap_pop\":true,\n",
       "  \"heap_push\":true,\n",
       "  \"heap_size\":true,\n",
       "  \"heap_to_list\":true,\n",
       "  \"heap_top\":true,\n",
       "  \"import\":true,    \n",
       "//   \"in\":true,\n",
       "  \"insert\":true,\n",
       "  \"insert_all\":true,\n",
       "  \"insert_ordered\":true,\n",
       "  \"insert_ordered_down\":true,\n",
       "  \"int\":true,\n",
       "  \"integer\":true,\n",
       "  \"is\":true,\n",
       "  \"keys\":true,\n",
       "  \"last\":true,\n",
       "  \"len\":true,\n",
       "  \"length\":true,\n",
       "  \"list\":true,\n",
       "  \"list_to_and\":true,\n",
       "  \"lowercase\":true,\n",
       "  \"map\":true,\n",
       "  \"map_to_list\":true,\n",
       "  \"max\":true,\n",
       "  \"maxint_small\":true,\n",
       "  \"maxof\":true,\n",
       "  \"maxof_inc\":true,\n",
       "  \"membchk\":true,\n",
       "  \"member\":true,\n",
       "  \"min\":true,\n",
       "  \"minint_small\":true,\n",
       "  \"minof\":true,\n",
       "  \"minof_inc\":true,\n",
       "  \"mod\":true,\n",
       "  \"name\":true,\n",
       "  \"new_array\":true,\n",
       "  \"new_list\":true,\n",
       "  \"new_map\":true,\n",
       "  \"new_max_heap\":true,\n",
       "  \"new_min_heap\":true,\n",
       "  \"new_set\":true,\n",
       "  \"new_struct\":true,\n",
       "  \"nonvar\":true,\n",
       "  \"not\":true,\n",
       "  \"notin\":true,\n",
       "  \"nth\":true,\n",
       "  \"number\":true,\n",
       "  \"number_char\":true,\n",
       "  \"number_codes\":true,\n",
       "  \"number_vars\":true,\n",
       "  \"once\":true,\n",
       "  \"ord\":true,\n",
       "  \"parse_radix_string\":true,\n",
       "  \"parse_term\":true,\n",
       "  \"post_event\":true,\n",
       "  \"post_event_any\":true,\n",
       "  \"post_event_bound\":true,\n",
       "  \"post_event_dom\":true,\n",
       "  \"post_event_ins\":true,\n",
       "  \"print\":true,\n",
       "  \"println\":true,\n",
       "  \"prod\":true,\n",
       "  \"put\":true,\n",
       "  \"put_attr\":true,\n",
       "  \"real\":true,\n",
       "  \"reduce\":true,\n",
       "  \"rem\":true,\n",
       "  \"remove_dumps\":true,\n",
       "  \"repeat\":true,\n",
       "  \"reverse\":true,\n",
       "  \"second\":true,\n",
       "  \"select\":true,\n",
       "  \"size\":true,\n",
       "  \"slice\":true,\n",
       "  \"sort\":true,\n",
       "  \"sort_down\":true,\n",
       "  \"sort_down_remove_dups\":true,\n",
       "  \"sort_remove_dups\":true,\n",
       "  \"sorted\":true,\n",
       "  \"sorted_down\":true,\n",
       "  \"string\":true,\n",
       "  \"struct\":true,\n",
       "  \"subsumes\":true,\n",
       "  \"sum\":true,\n",
       "  \"tail\":true,\n",
       "  \"throw\":true,\n",
       "  \"to_array\":true,\n",
       "  \"to_atom\":true,\n",
       "  \"to_binary_string\":true,\n",
       "  \"to_code\":true,\n",
       "  \"to_fstring\":true,\n",
       "  \"to_hex_string\":true,\n",
       "  \"to_int\":true,\n",
       "  \"to_integer\":true,\n",
       "  \"to_list\":true,\n",
       "  \"to_lowercase\":true,\n",
       "  \"to_number\":true,\n",
       "  \"to_oct_string\":true,\n",
       "  \"to_radix_string\":true,\n",
       "  \"to_real\":true,\n",
       "  \"to_string\":true,\n",
       "  \"to_uppercase\":true,\n",
       "  \"true\":true,\n",
       "  \"uppercase\":true,\n",
       "  \"values\":true,\n",
       "  \"var\":true,\n",
       "  \"variant\":true,\n",
       "  \"vars\":true,\n",
       "  \"zip\":true,\n",
       "\n",
       "  \"abs\":true,\n",
       "  \"acos\":true,\n",
       "  \"acosh\":true,\n",
       "  \"acot\":true,\n",
       "  \"acoth\":true,\n",
       "  \"acsc\":true,\n",
       "  \"acsch\":true,\n",
       "  \"asec\":true,\n",
       "  \"asech\":true,\n",
       "  \"asin\":true,\n",
       "  \"asinh\":true,\n",
       "  \"atan\":true,\n",
       "  \"atan2\":true,\n",
       "  \"atanh\":true,\n",
       "  \"ceiling\":true,\n",
       "  \"cos\":true,\n",
       "  \"cosh\":true,\n",
       "  \"cot\":true,\n",
       "  \"coth\":true,\n",
       "  \"csc\":true,\n",
       "  \"csch\":true,\n",
       "  \"e\":true,\n",
       "  \"even\":true,\n",
       "  \"exp\":true,\n",
       "  \"floor\":true,\n",
       "  \"frand\":true,\n",
       "  \"gcd\":true,\n",
       "  \"log\":true,\n",
       "  \"log10\":true,\n",
       "  \"log2\":true,\n",
       "  \"modf\":true,\n",
       "  \"odd\":true,\n",
       "  \"pi\":true,\n",
       "  \"pow\":true,\n",
       "  \"pow_mod\":true,\n",
       "  \"prime\":true,\n",
       "  \"primes\":true,\n",
       "  \"max\":true,\n",
       "  \"random\":true,\n",
       "  \"random2\":true,\n",
       "  \"round\":true,\n",
       "  \"sec\":true,\n",
       "  \"sech\":true,\n",
       "  \"sign\":true,\n",
       "  \"sin\":true,\n",
       "  \"sinh\":true,\n",
       "  \"sqrt\":true,\n",
       "  \"tan\":true,\n",
       "  \"tanh\":true,\n",
       "  \"to_degrees\":true,\n",
       "  \"to_radians\":true,\n",
       "  \"truncate\":true,\n",
       "    \n",
       " \n",
       "  \"xor\":true};\n",
       "\n",
       "  var punc = \":;,.(){}[]\";\n",
       "\n",
       "  function tokenBase(stream, state) {\n",
       "    var ch = stream.next();\n",
       "    if (ch == '\"') {\n",
       "      state.tokenize.push(tokenString);\n",
       "      return tokenString(stream, state);\n",
       "    }\n",
       "    if (/[\\d\\.]/.test(ch)) {\n",
       "      if (ch == \".\") {\n",
       "        stream.match(/^[0-9]+([eE][\\-+]?[0-9]+)?/);\n",
       "      } else if (ch == \"0\") {\n",
       "        stream.match(/^[xX][0-9a-fA-F]+/) || stream.match(/^0[0-7]+/);\n",
       "      } else {\n",
       "        stream.match(/^[0-9]*\\.?[0-9]*([eE][\\-+]?[0-9]+)?/);\n",
       "      }\n",
       "      return \"number\";\n",
       "    }\n",
       "    if (ch == \"/\") {\n",
       "      if (stream.eat(\"*\")) {\n",
       "        state.tokenize.push(tokenComment);\n",
       "        return tokenComment(stream, state);\n",
       "      }\n",
       "    }\n",
       "    if (ch == \"%\") {\n",
       "      stream.skipToEnd();\n",
       "      return \"comment\";\n",
       "    }\n",
       "    if (isOperatorChar.test(ch)) {\n",
       "      stream.eatWhile(isOperatorChar);\n",
       "      return \"operator\";\n",
       "    }\n",
       "    if (punc.indexOf(ch) > -1) {\n",
       "      return \"punctuation\";\n",
       "    }\n",
       "    stream.eatWhile(/[\\w\\$_\\xa1-\\uffff]/);\n",
       "    var cur = stream.current();\n",
       "    if (keywords.propertyIsEnumerable(cur)) {\n",
       "      return \"keyword\";\n",
       "    }\n",
       "    return \"variable\";\n",
       "  }\n",
       "\n",
       "  function tokenComment(stream, state) {\n",
       "    var maybeEnd = false, ch;\n",
       "    while (ch = stream.next()) {\n",
       "      if (ch == \"/\" && maybeEnd) {\n",
       "        state.tokenize.pop();\n",
       "        break;\n",
       "      }\n",
       "      maybeEnd = (ch == \"*\");\n",
       "    }\n",
       "    return \"comment\";\n",
       "  }\n",
       "\n",
       "  function tokenUntilClosingParen() {\n",
       "    var depth = 0;\n",
       "    return function(stream, state, prev) {\n",
       "      var inner = tokenBase(stream, state, prev);\n",
       "      console.log(\"untilClosing\",inner,stream.current());\n",
       "      if (inner == \"punctuation\") {\n",
       "        if (stream.current() == \"(\") {\n",
       "          ++depth;\n",
       "        } else if (stream.current() == \")\") {\n",
       "          if (depth == 0) {\n",
       "            stream.backUp(1)\n",
       "            state.tokenize.pop()\n",
       "            return state.tokenize[state.tokenize.length - 1](stream, state)\n",
       "          } else {\n",
       "            --depth;\n",
       "          }\n",
       "        }\n",
       "      }\n",
       "      return inner;\n",
       "    }\n",
       "  }\n",
       "\n",
       "  function tokenString(stream, state) {\n",
       "    var escaped = false, next, end = false;\n",
       "    while ((next = stream.next()) != null) {\n",
       "      if (next=='(' && escaped) {\n",
       "        state.tokenize.push(tokenUntilClosingParen());\n",
       "        return \"string\";\n",
       "      }\n",
       "      if (next == '\"' && !escaped) {end = true; break;}\n",
       "      escaped = !escaped && next == \"\\\\\";\n",
       "    }\n",
       "    if (end || !escaped)\n",
       "      state.tokenize.pop();\n",
       "    return \"string\";\n",
       "  }\n",
       "\n",
       "  return {\n",
       "    startState: function(basecolumn) {\n",
       "      return {\n",
       "        tokenize: []\n",
       "      };\n",
       "    },\n",
       "\n",
       "    token: function(stream, state) {\n",
       "      if (stream.eatSpace()) return null;\n",
       "      var style = (state.tokenize[state.tokenize.length - 1] || tokenBase)(stream, state);\n",
       "      console.log(\"token\",style);\n",
       "      return style;\n",
       "    },\n",
       "\n",
       "    blockCommentStart: \"/*\",\n",
       "    blockCommentEnd: \"*/\",\n",
       "    lineComment: \"%\"\n",
       "  };\n",
       "});\n",
       "\n",
       "CodeMirror.defineMIME(\"text/picat\", \"text/picat\");\n",
       "\n",
       "Jupyter.CodeCell.options_default.highlight_modes['magic_text/picat'] = {'reg':[/^%%picat/]} ;\n",
       "\n",
       "Jupyter.notebook.get_cells().map(function(cell){\n",
       "  if (cell.cell_type == 'code'){ cell.auto_highlight(); }\n",
       "}) ;"
      ],
      "text/plain": [
       "<IPython.core.display.Javascript object>"
      ]
     },
     "metadata": {},
     "output_type": "display_data"
    },
    {
     "name": "stdout",
     "output_type": "stream",
     "text": [
      "Picat version 3.9\n"
     ]
    }
   ],
   "source": [
    "%load_ext ipicat"
   ]
  },
  {
   "cell_type": "markdown",
   "id": "85c3fd0f",
   "metadata": {
    "editable": false,
    "slideshow": {
     "slide_type": "slide"
    },
    "tags": []
   },
   "source": [
    "## Exercise: Magic sequence\n",
    "\n",
    "A magic sequence of length $n$ is a sequence of integers $x_0,\\dots,x_{n−1}$ between $0$ and $n-1$, such\n",
    "that for all $i\\in\\{0,\\dots,n-1\\}$, the number $i$ occurs exactly $x_i$-times in the sequence. For instance,\n",
    "6,2,1,0,0,0,1,0,0,0 is a magic sequence since 0 occurs 6 times in it, 1 occurs twice, etc.\n",
    "\n",
    "(Problem from [the book](http://picat-lang.org/picatbook2015/constraint_solving_and_planning_with_picat.pdf).)\n",
    "\n",
    "We want to maximize the sum of the numbers in the sequence. Write a constraint model that does that (for a given length $n$)."
   ]
  },
  {
   "cell_type": "markdown",
   "id": "29c94f8e",
   "metadata": {
    "editable": false,
    "slideshow": {
     "slide_type": "subslide"
    },
    "tags": []
   },
   "source": [
    "## The constraint `global_cardinality`\n",
    "\n",
    "```\n",
    "global_cardinality(List, Pairs)\n",
    "```\n",
    "Let `List` be a list of integer-domain variables\n",
    "`[X1, . . ., Xd]`, and `Pairs` be a list of pairs `[K1-V1, . . ., Kn-Vn]`, where each key\n",
    "`Ki` is a unique integer, and each `Vi` is an integer-domain variable. The constraint is true if\n",
    "every element of List is equal to some key, and, for each pair `Ki-Vi`, exactly `Vi` elements\n",
    "of `List` are equal to `Ki`. This constraint can be defined as follows:\n",
    "\n",
    "```\n",
    "global_cardinality(List,Pairs) =>\n",
    "    foreach($Key-V in Pairs) \n",
    "        sum([B : E in List, B#<=>(E#=Key)]) #= V\n",
    "    end.\n",
    "```\n",
    "\n",
    "---from [the guide](http://picat-lang.org/download/picat_guide.pdf)\n",
    "\n"
   ]
  },
  {
   "cell_type": "code",
   "execution_count": 2,
   "id": "71439a72",
   "metadata": {
    "editable": true,
    "execution": {
     "iopub.execute_input": "2025-09-30T12:10:07.535502Z",
     "iopub.status.busy": "2025-09-30T12:10:07.534827Z",
     "iopub.status.idle": "2025-09-30T12:10:07.908832Z",
     "shell.execute_reply": "2025-09-30T12:10:07.907230Z"
    },
    "scrolled": true,
    "slideshow": {
     "slide_type": "subslide"
    },
    "tags": []
   },
   "outputs": [
    {
     "name": "stdout",
     "output_type": "stream",
     "text": [
      "\r\n",
      "CPU time 0.0 seconds. Backtracks: 2\r\n",
      "\r\n",
      "[1,2,1,0]\r\n",
      "\r\n",
      "real\t0m0.024s\r\n",
      "user\t0m0.008s\r\n",
      "sys\t0m0.013s\r\n"
     ]
    }
   ],
   "source": [
    "!time picat magic-sequence/.solution/magic-sequence.pi 4"
   ]
  },
  {
   "cell_type": "code",
   "execution_count": 3,
   "id": "1739bacf",
   "metadata": {
    "editable": true,
    "execution": {
     "iopub.execute_input": "2025-09-30T12:10:07.912988Z",
     "iopub.status.busy": "2025-09-30T12:10:07.912597Z",
     "iopub.status.idle": "2025-09-30T12:10:08.257267Z",
     "shell.execute_reply": "2025-09-30T12:10:08.253854Z"
    },
    "scrolled": true,
    "slideshow": {
     "slide_type": "subslide"
    },
    "tags": []
   },
   "outputs": [
    {
     "name": "stdout",
     "output_type": "stream",
     "text": [
      "% Adapted from Constraint Solving and Planning with Picat, Springer \r\n",
      "% by Neng-Fa Zhou, Hakan Kjellerstrand, and Jonathan Fruhman\r\n",
      "import cp.\r\n",
      "\r\n",
      "main([N]) =>\r\n",
      "  N := N.to_int,\r\n",
      "  magic_sequence(N,Sequence),\r\n",
      "  println(Sequence).\r\n",
      "\r\n",
      "magic_sequence(N, Sequence) =>\r\n",
      "  Sequence = new_list(N),\r\n",
      "  Sequence :: 0..N-1,\r\n",
      "\r\n",
      "  % create list: [0-Sequence[1], 1-Sequence[2], ...]\r\n",
      "  Pairs = [$I-Sequence[I+1] : I in 0..N-1],\r\n",
      "  global_cardinality(Sequence,Pairs),\r\n",
      "\r\n",
      "  time2(solve(Sequence)).\r\n"
     ]
    }
   ],
   "source": [
    "!cat magic-sequence/.solution/magic-sequence.pi"
   ]
  },
  {
   "cell_type": "code",
   "execution_count": 4,
   "id": "39f8864e",
   "metadata": {
    "editable": true,
    "execution": {
     "iopub.execute_input": "2025-09-30T12:10:08.264227Z",
     "iopub.status.busy": "2025-09-30T12:10:08.263350Z",
     "iopub.status.idle": "2025-09-30T12:10:27.538283Z",
     "shell.execute_reply": "2025-09-30T12:10:27.534784Z"
    },
    "scrolled": true,
    "slideshow": {
     "slide_type": "subslide"
    },
    "tags": []
   },
   "outputs": [
    {
     "name": "stdout",
     "output_type": "stream",
     "text": [
      "\r\n",
      "CPU time 12.676 seconds. Backtracks: 1980\r\n",
      "\r\n",
      "[60,2,1,0,0,0,0,0,0,0,0,0,0,0,0,0,0,0,0,0,0,0,0,0,0,0,0,0,0,0,0,0,0,0,0,0,0,0,0,0,0,0,0,0,0,0,0,0,0,0,0,0,0,0,0,0,0,0,0,0,1,0,0,0]\r\n",
      "\r\n",
      "real\t0m11.281s\r\n",
      "user\t0m12.698s\r\n",
      "sys\t0m0.006s\r\n"
     ]
    },
    {
     "name": "stdout",
     "output_type": "stream",
     "text": [
      "\r\n",
      "CPU time 0.006 seconds. Backtracks: 7\r\n",
      "\r\n",
      "[60,2,1,0,0,0,0,0,0,0,0,0,0,0,0,0,0,0,0,0,0,0,0,0,0,0,0,0,0,0,0,0,0,0,0,0,0,0,0,0,0,0,0,0,0,0,0,0,0,0,0,0,0,0,0,0,0,0,0,0,1,0,0,0]\r\n",
      "\r\n",
      "real\t0m0.048s\r\n",
      "user\t0m0.035s\r\n",
      "sys\t0m0.008s\r\n"
     ]
    },
    {
     "name": "stdout",
     "output_type": "stream",
     "text": [
      "\r\n",
      "CPU time 0.235 seconds. Backtracks: 7\r\n",
      "\r\n",
      "[396,2,1,0,0,0,0,0,0,0,0,0,0,0,0,0,0,0,0,0,0,0,0,0,0,0,0,0,0,0,0,0,0,0,0,0,0,0,0,0,0,0,0,0,0,0,0,0,0,0,0,0,0,0,0,0,0,0,0,0,0,0,0,0,0,0,0,0,0,0,0,0,0,0,0,0,0,0,0,0,0,0,0,0,0,0,0,0,0,0,0,0,0,0,0,0,0,0,0,0,0,0,0,0,0,0,0,0,0,0,0,0,0,0,0,0,0,0,0,0,0,0,0,0,0,0,0,0,0,0,0,0,0,0,0,0,0,0,0,0,0,0,0,0,0,0,0,0,0,0,0,0,0,0,0,0,0,0,0,0,0,0,0,0,0,0,0,0,0,0,0,0,0,0,0,0,0,0,0,0,0,0,0,0,0,0,0,0,0,0,0,0,0,0,0,0,0,0,0,0,0,0,0,0,0,0,0,0,0,0,0,0,0,0,0,0,0,0,0,0,0,0,0,0,0,0,0,0,0,0,0,0,0,0,0,0,0,0,0,0,0,0,0,0,0,0,0,0,0,0,0,0,0,0,0,0,0,0,0,0,0,0,0,0,0,0,0,0,0,0,0,0,0,0,0,0,0,0,0,0,0,0,0,0,0,0,0,0,0,0,0,0,0,0,0,0,0,0,0,0,0,0,0,0,0,0,0,0,0,0,0,0,0,0,0,0,0,0,0,0,0,0,0,0,0,0,0,0,0,0,0,0,0,0,0,0,0,0,0,0,0,0,0,0,0,0,0,0,0,0,0,0,0,0,0,0,0,0,0,0,0,0,0,0,0,0,0,0,0,0,0,0,0,0,0,0,0,0,0,0,0,0,0,0,0,0,0,0,0,0,0,0,0,0,0,0,1,0,0,0]\r\n",
      "\r\n",
      "real\t0m7.006s\r\n",
      "user\t0m5.943s\r\n",
      "sys\t0m0.525s\r\n"
     ]
    }
   ],
   "source": [
    "!time picat magic-sequence/.solution/magic-sequence.pi 64\n",
    "!time picat magic-sequence/.solution/magic-sequence2.pi 64\n",
    "!time picat magic-sequence/.solution/magic-sequence2.pi 400"
   ]
  },
  {
   "cell_type": "code",
   "execution_count": 5,
   "id": "e6d75260",
   "metadata": {
    "editable": true,
    "execution": {
     "iopub.execute_input": "2025-09-30T12:10:27.545645Z",
     "iopub.status.busy": "2025-09-30T12:10:27.544591Z",
     "iopub.status.idle": "2025-09-30T12:10:27.861416Z",
     "shell.execute_reply": "2025-09-30T12:10:27.858420Z"
    },
    "scrolled": true,
    "slideshow": {
     "slide_type": "subslide"
    },
    "tags": []
   },
   "outputs": [
    {
     "name": "stdout",
     "output_type": "stream",
     "text": [
      "% Adapted from Constraint Solving and Planning with Picat, Springer \r\n",
      "% by Neng-Fa Zhou, Hakan Kjellerstrand, and Jonathan Fruhman\r\n",
      "import cp.\r\n",
      "\r\n",
      "main([N]) =>\r\n",
      "  N := N.to_int,\r\n",
      "  magic_sequence(N,Sequence),\r\n",
      "  println(Sequence).\r\n",
      "\r\n",
      "magic_sequence(N, Sequence) =>\r\n",
      "  Sequence = new_list(N),\r\n",
      "  Sequence :: 0..N-1,\r\n",
      "\r\n",
      "  % create list: [0-Sequence[1], 1-Sequence[2], ...]\r\n",
      "  Pairs = [$I-Sequence[I+1] : I in 0..N-1],\r\n",
      "  global_cardinality(Sequence,Pairs),\r\n",
      "\r\n",
      "  % extra/redudant (implicit) constraints to speed up the model\r\n",
      "  N #= sum(Sequence),\r\n",
      "  Integers = [I : I in 0..N-1],\r\n",
      "  scalar_product(Integers, Sequence, N),\r\n",
      "\r\n",
      "  time2(solve([ff], Sequence)). \r\n"
     ]
    }
   ],
   "source": [
    "!cat magic-sequence/.solution/magic-sequence2.pi"
   ]
  },
  {
   "cell_type": "code",
   "execution_count": 6,
   "id": "fa2b4e4b",
   "metadata": {
    "editable": true,
    "execution": {
     "iopub.execute_input": "2025-09-30T12:10:27.868316Z",
     "iopub.status.busy": "2025-09-30T12:10:27.867611Z",
     "iopub.status.idle": "2025-09-30T12:14:14.198169Z",
     "shell.execute_reply": "2025-09-30T12:14:14.194234Z"
    },
    "scrolled": true,
    "slideshow": {
     "slide_type": "subslide"
    },
    "tags": []
   },
   "outputs": [
    {
     "name": "stdout",
     "output_type": "stream",
     "text": [
      "\r\n",
      "CPU time 3.298 seconds. Backtracks: 7\r\n",
      "\r\n",
      "[1020,2,1,0,0,0,0,0,0,0,0,0,0,0,0,0,0,0,0,0,0,0,0,0,0,0,0,0,0,0,0,0,0,0,0,0,0,0,0,0,0,0,0,0,0,0,0,0,0,0,0,0,0,0,0,0,0,0,0,0,0,0,0,0,0,0,0,0,0,0,0,0,0,0,0,0,0,0,0,0,0,0,0,0,0,0,0,0,0,0,0,"
     ]
    },
    {
     "name": "stdout",
     "output_type": "stream",
     "text": [
      "0,0,0,0,0,0,0,0,0,0,0,0,0,0,0,0,0,0,0,0,0,0,0,0,0,0,0,0,0,0,0,0,0,0,0,0,0,0,0,0,0,0,0,0,0,0,0,0,0,0,0,0,0,0,0,0,0,0,0,0,0,0,0,0,0,0,0,0,0,0,0,0,0,0,0,0,0,0,0,0,0,0,0,0,0,0,0,0,0,0,0,0,0,0,0,0,0,0,0,0,0,0,0,0,0,0,0,0,0,0,0,0,0,0,0,0,0,0,0,0,0,0,0,0,0,0,0,0,0,0,0,0,0,0,0,0,0,0,0,0,0,0,0,0,0,0,0,0,0,0,0,0,0,0,0,0,0,0,0,0,0,0,0,0,0,0,0,0,0,0,0,0,0,0,0,0,0,0,0,0,0,0,0,0,0,0,0,0,0,0,0,0,0,0,0,0,0,0,0,0,0,0,0,0,0,0,0,0,0,0,0,0,0,0,0,0,0,0,0,0,0,0,0,0,0,0,0,0,0,0,0,0,0,0,0,0,0,0,0,0,0,0,0,0,0,0,0,0,0,0,0,0,0,0,0,0,0,0,0,0,0,0,0,0,0,0,0,0,0,0,0,0,0,0,0,0,0,0,0,0,0,0,0,0,0,0,0,0,0,0,0,0,0,0,0,0,0,0,0,0,0,0,0,0,0,0,0,0,0,0,0,0,0,0,0,0,0,0,0,0,0,0,0,0,0,0,0,0,0,0,0,0,0,0,0,0,0,0,0,0,0,0,0,0,0,0,0,0,0,0,0,0,0,0,0,0,0,0,0,0,0,0,0,0,0,0,0,0,0,0,0,0,0,0,0,0,0,0,0,0,0,0,0,0,0,0,0,0,0,0,0,0,0,0,0,0,0,0,0,0,0,0,0,0,0,0,0,0,0,0,0,0,0,0,0,0,0,0,0,0,0,0,0,0,0,0,0,0,0,0,0,0,0,0,0,0,0,0,0,0,0,0,0,0,0,0,0,0,0,0,0,0,0,0,0,0,0,0,0,0,0,0,0,0,0,0,0,0,0,0,0,0,0,0,0,0,0,0,0,0,0,0,0,0,0,0,0,0,0,0,0,0,0,0,0,0,0,0,0,0,0,0,0,0,0,0,0,0,0,0,0,0,0,0,0,0,0,0,0,0,0,0,0,0,0,0,0,0,0,0,0,0,0,0,0,0,0,0,0,0,0,0,0,0,0,0,0,0,0,0,0,0,0,0,0,0,0,0,0,0,0,0,0,0,0,0,0,0,0,0,0,0,0,0,0,0,0,0,0,0,0,0,0,0,0,0,0,0,0,0,0,0,0,0,0,0,0,0,0,0,0,0,0,0,0,0,0,0,0,0,0,0,0,0,0,0,0,0,0,0,0,0,0,0,0,0,0,0,0,0,0,0,0,0,0,0,0,0,0,0,0,0,0,0,0,0,0,0,0,0,0,0,0,0,0,0,0,0,0,0,0,0,0,0,0,0,0,0,0,0,0,0,0,0,0,0,0,0,0,0,0,0,0,0,0,0,0,0,0,0,0,0,0,0,0,0,0,0,0,0,0,0,0,0,0,0,0,0,0,0,0,0,0,0,0,0,0,0,0,0,0,0,0,0,0,0,0,0,0,0,0,0,0,0,0,0,0,0,0,0,0,0,0,0,0,0,0,0,0,0,0,0,0,0,0,0,0,0,0,0,0,0,0,0,0,0,0,0,0,0,0,0,0,0,0,0,0,0,0,0,0,0,0,0,0,0,0,0,0,0,0,0,0,0,0,0,0,0,0,0,0,0,0,0,0,0,0,0,0,0,0,0,0,0,0,0,0,0,0,0,0,0,0,0,0,0,0,0,0,0,0,0,0,0,0,0,0,0,0,0,0,0,0,0,0,0,0,0,0,0,0,0,0,0,0,0,0,0,0,0,0,0,0,0,0,0,0,0,0,0,0,0,0,0,0,0,0,0,0,0,0,0,0,0,0,0,0,0,0,0,0,0,0,0,0,0,0,0,0,0,0,0,0,0,0,0,0,0,0,0,0,0,0,0,0,0,0,0,0,0,0,0,0,0,0,0,0,0,0,1,0,0,0]\r\n"
     ]
    },
    {
     "name": "stdout",
     "output_type": "stream",
     "text": [
      "\r\n",
      "real\t3m43.417s\r\n",
      "user\t3m15.928s\r\n",
      "sys\t0m26.249s\r\n"
     ]
    },
    {
     "name": "stdout",
     "output_type": "stream",
     "text": [
      "\r\n",
      "CPU time 0.73 seconds. Backtracks: 7\r\n",
      "\r\n",
      "[1020,2,1,0,0,0,0,0,0,0,0,0,0,0,0,0,0,0,0,0,0,0,0,0,0,0,0,0,0,0,0,0,0,0,0,0,0,0,0,0,0,0,0,0,0,0,0,0,0,0,0,0,0,0,0,0,0,0,0,0,0,0,0,0,0,0,0,0,0,0,0,0,0,0,0,0,0,0,0,0,0,0,0,0,0,0,0,0,0,0,0,0,0,0,0,0,0,0,0,0,0,0,0,0,0,0,0,0,0,0,0,0,0,0,0,0,0,0,0,0,0,0,0,0,0,0,0,0,0,0,0,0,0,0,0,0,0,0,0,0,0,0,0,0,0,0,0,0,0,0,0,0,0,0,0,0,0,0,0,0,0,0,0,0,0,0,0,0,0,0,0,0,0,0,0,0,0,0,0,0,0,0,0,0,0,0,0,0,0,0,0,0,0,0,0,0,0,0,0,0,0,0,0,0,0,0,0,0,0,0,0,0,0,0,0,0,0,0,0,0,0,0,0,0,0,0,0,0,0,0,0,0,0,0,0,0,0,0,0,0,0,0,0,0,0,0,0,0,0,0,0,0,0,0,0,0,0,0,0,0,0,0,0,0,0,0,0,0,0,0,0,0,0,0,0,0,0,0,0,0,0,0,0,0,0,0,0,0,0,0,0,0,0,0,0,0,0,0,0,0,0,0,0,0,0,0,0,0,0,0,0,0,0,0,0,0,0,0,0,0,0,0,0,0,0,0,0,0,0,0,0,0,0,0,0,0,0,0,0,0,0,0,0,0,0,0,0,0,0,0,0,0,0,0,0,0,0,0,0,0,0,0,0,0,0,0,0,0,0,0,0,0,0,0,0,0,0,0,0,0,0,0,0,0,0,0,0,0,0,0,0,0,0,0,0,0,0,0,0,0,0,0,0,0,0,0,0,0,0,0,0,0,0,0,0,0,0,0,0,0,0,0,0,0,0,0,0,0,0,0,0,0,0,0,0,0,0,0,0,0,0,0,0,0,0,0,0,0,0,0,0,0,0,0,0,0,0,0,0,0,0,0,0,0,0,0,0,0,0,0,0,0,0,0,0,0,0,0,0,0,0,0,0,0,0,0,0,0,0,0,0,0,0,0,0,0,0,0,0,0,0,0,0,0,0,0,0,0,0,0,0,0,0,0,0,0,0,0,0,0,0,0,0,0,0,0,0,0,0,0,0,0,0,0,0,0,0,0,0,0,0,0,0,0,0,0,0,0,0,0,0,0,0,0,0,0,0,0,0,0,0,0,0,0,0,0,0,0,0,0,0,0,0,0,0,0,0,0,0,0,0,0,0,0,0,0,0,0,0,0,0,0,0,0,0,0,0,0,0,0,0,0,0,0,0,0,0,0,0,0,0,0,0,0,0,0,0,0,0,0,0,0,0,0,0,0,0,0,0,0,0,0,0,0,0,0,0,0,0,0,0,0,0,0,0,0,0,0,0,0,0,0,0,0,0,0,0,0,0,0,0,0,0,0,0,0,0,0,0,0,0,0,0,0,0,0,0,0,0,0,0,0,0,0,0,0,0,0,0,0,0,0,0,0,0,0,0,0,0,0,0,0,0,0,0,0,0,0,0,0,0,0,0,0,0,0,0,0,0,0,0,0,0,0,0,0,0,0,0,0,0,0,0,0,0,0,0,0,0,0,0,0,0,0,0,0,0,0,0,0,0,0,0,0,0,0,0,0,0,0,0,0,0,0,0,0,0,0,0,0,0,0,0,0,0,0,0,0,0,0,0,0,0,0,0,0,0,0,0,0,0,0,0,0,0,0,0,0,0,0,0,0,0,0,0,0,0,0,0,0,0,0,0,0,0,0,0,0,0,0,0,0,0,0,0,0,0,0,0,0,0,0,0,0,0,0,0,0,0,0,0,0,0,0,0,0,0,0,0,0,0,0,0,0,0,0,0,0,0,0,0,0,0,0,0,0,0,0,0,0,0,0,0,0,0,0,0,0,0,0,0,0,0,0,0,0,0,0,0,0,0,0,0,0,0,0,0,0,0,0,0,0,0,0,0,0,0,0,0,0,0,0,0,0,0,0,0,0,0,0,0,0,0,0,0,0,0,0,0,0,0,0,0,0,0,0,0,0,0,0,0,0,0,0,0,0,0,0,0,0,0,0,0,0,0,0,0,0,0,0,0,0,0,0,0,0,0,0,0,0,0,0,0,0,0,0,0,0,0,0,0,0,0,0,0,0,0,0,0,0,0,0,0,0,0,0,0,0,0,0,0,0,0,0,0,0,0,0,0,0,0,0,0,0,0,0,0,0,0,0,1,0,0,0]\r\n",
      "\r\n",
      "real\t0m2.241s\r\n",
      "user\t0m3.858s\r\n",
      "sys\t0m0.498s\r\n"
     ]
    }
   ],
   "source": [
    "!time picat magic-sequence/.solution/magic-sequence2.pi 1024\n",
    "!time picat magic-sequence/.solution/magic-sequence3.pi 1024"
   ]
  },
  {
   "cell_type": "code",
   "execution_count": 7,
   "id": "084c900b",
   "metadata": {
    "editable": true,
    "execution": {
     "iopub.execute_input": "2025-09-30T12:14:14.207258Z",
     "iopub.status.busy": "2025-09-30T12:14:14.206443Z",
     "iopub.status.idle": "2025-09-30T12:14:14.587760Z",
     "shell.execute_reply": "2025-09-30T12:14:14.585368Z"
    },
    "scrolled": true,
    "slideshow": {
     "slide_type": "subslide"
    },
    "tags": []
   },
   "outputs": [
    {
     "name": "stdout",
     "output_type": "stream",
     "text": [
      "% Adapted from Constraint Solving and Planning with Picat, Springer \r\n",
      "% by Neng-Fa Zhou, Hakan Kjellerstrand, and Jonathan Fruhman\r\n",
      "import cp.\r\n",
      "\r\n",
      "main([N]) =>\r\n",
      "  N := N.to_int,\r\n",
      "  magic_sequence(N,Sequence),\r\n",
      "  println(Sequence).\r\n",
      "\r\n",
      "magic_sequence(N, Sequence) =>\r\n",
      "  Sequence = new_list(N),\r\n",
      "  Sequence :: 0..N-1,\r\n",
      "\r\n",
      "  % extra/redudant (implicit) constraints to speed up the model\r\n",
      "  N #= sum(Sequence),\r\n",
      "  Integers = [I : I in 0..N-1],\r\n",
      "  scalar_product(Integers, Sequence, N),\r\n",
      "\r\n",
      "  % % create list: [0-Sequence[1], 1-Sequence[2], ...]\r\n",
      "  Pairs = [$I-Sequence[I+1] : I in 0..N-1],\r\n",
      "  global_cardinality(Sequence,Pairs),\r\n",
      "\r\n",
      "  time2(solve([ff], Sequence)).\r\n"
     ]
    }
   ],
   "source": [
    "!cat magic-sequence/.solution/magic-sequence3.pi"
   ]
  },
  {
   "cell_type": "markdown",
   "id": "6473ec2d",
   "metadata": {
    "editable": false,
    "slideshow": {
     "slide_type": "slide"
    },
    "tags": []
   },
   "source": [
    "## The order of constraints\n",
    "\n",
    "The order might matter to the solver, the above model is an example. When the `cp` solver parses a constraint, it tries to reduce the domains. The implicit (redundant) constranint using `scalar_product` can reduce the model a lot, which is much better to do before parsing `global_cardinality`. (Note: e.g. MiniZinc doesn't preserve the order of constraints during compilation, the behaviour is a bit unpredictable.)\n",
    "\n",
    "*Heuristic:* easy constraints and constraints that are strong [in reducing the search space] should go first (?)"
   ]
  },
  {
   "cell_type": "markdown",
   "id": "a04b4923-44c4-41ad-9bdc-369cf72759f4",
   "metadata": {
    "editable": false,
    "jp-MarkdownHeadingCollapsed": true,
    "slideshow": {
     "slide_type": "slide"
    },
    "tags": []
   },
   "source": [
    "## Routing\n",
    "\n",
    "Routing, aka the [Arc Routing Problem](https://en.wikipedia.org/wiki/Arc_routing), refers to a variety of constraint satisfaction problems related to the well-known [Vehicle Routing Problem](https://en.wikipedia.org/wiki/Vehicle_routing_problem). Such problems appear in a variety of applications such as public transport (bus routing), garbage collection (not that one), snow ploughing, and many others."
   ]
  },
  {
   "cell_type": "markdown",
   "id": "d565ab18",
   "metadata": {
    "editable": false,
    "slideshow": {
     "slide_type": "slide"
    },
    "tags": []
   },
   "source": [
    "## Exercise: Knight tour\n",
    "\n",
    "Given an integer $N$, plan a tour of the knight on an $N\\times N$ chessboard such that the knight visits every field exactly once and then returns to the starting field. You can assume that $N$ is even.\n",
    "\n",
    "(Hint: For a matrix `M` is a matrix, you can use `M.vars()` to extract its elements into a list.)"
   ]
  },
  {
   "cell_type": "markdown",
   "id": "02519751",
   "metadata": {
    "editable": false,
    "slideshow": {
     "slide_type": "subslide"
    },
    "tags": []
   },
   "source": [
    "## The `circuit` constraint\n",
    "\n",
    "The constraint `circuit(L)` requires that the list $L$ represents a permutation of $1,\\dots,n$ consisting of a single cycle, i.e., the graph with edges $i\\to L[i]$ is a cycle. A similar constraint is `subcircuit(L)` which requires that elements for which $L[i]\\neq i$ form a cycle."
   ]
  },
  {
   "cell_type": "code",
   "execution_count": 8,
   "id": "e926d5b0",
   "metadata": {
    "editable": true,
    "execution": {
     "iopub.execute_input": "2025-09-30T12:14:14.595582Z",
     "iopub.status.busy": "2025-09-30T12:14:14.594919Z",
     "iopub.status.idle": "2025-09-30T12:14:14.934772Z",
     "shell.execute_reply": "2025-09-30T12:14:14.931486Z"
    },
    "scrolled": true,
    "slideshow": {
     "slide_type": "subslide"
    },
    "tags": []
   },
   "outputs": [
    {
     "name": "stdout",
     "output_type": "stream",
     "text": [
      "x = {{11,12,13,10,15,21,22,14},{3,20,26,18,23,4,30,6},{2,1,29,5,27,32,8,7},{19,9,37,34,35,40,16,38},{43,17,50,53,52,28,24,46},{51,25,49,61,60,36,62,31},{59,33,57,58,63,64,45,39},{42,41,44,54,55,56,48,47}}\r\n",
      "X:\r\n",
      " 11 12 13 10 15 21 22 14\r\n",
      "  3 20 26 18 23  4 30  6\r\n",
      "  2  1 29  5 27 32  8  7\r\n",
      " 19  9 37 34 35 40 16 38\r\n",
      " 43 17 50 53 52 28 24 46\r\n",
      " 51 25 49 61 60 36 62 31\r\n",
      " 59 33 57 58 63 64 45 39\r\n",
      " 42 41 44 54 55 56 48 47\r\n",
      "\r\n",
      "Tour:\r\n",
      "  1 62  5 10 13 24 55  8\r\n",
      "  4 11  2 63  6  9 14 23\r\n",
      " 61 64 35 12 25 56  7 54\r\n",
      " 34  3 26 59 36 15 22 57\r\n",
      " 39 60 37 18 27 58 53 16\r\n",
      " 30 33 40 43 46 17 50 21\r\n",
      " 41 38 31 28 19 48 45 52\r\n",
      " 32 29 42 47 44 51 20 49\r\n",
      "\r\n"
     ]
    }
   ],
   "source": [
    "!picat knight-tour/.solution/knight-tour.pi 8"
   ]
  },
  {
   "cell_type": "code",
   "execution_count": 9,
   "id": "9bb6197f",
   "metadata": {
    "editable": true,
    "execution": {
     "iopub.execute_input": "2025-09-30T12:14:14.941551Z",
     "iopub.status.busy": "2025-09-30T12:14:14.940902Z",
     "iopub.status.idle": "2025-09-30T12:14:15.258062Z",
     "shell.execute_reply": "2025-09-30T12:14:15.256212Z"
    },
    "scrolled": true,
    "slideshow": {
     "slide_type": "subslide"
    },
    "tags": []
   },
   "outputs": [
    {
     "name": "stdout",
     "output_type": "stream",
     "text": [
      "/***********************************************************\r\n",
      "  Adapted from\r\n",
      "  knight_tour.pi\r\n",
      "  from Constraint Solving and Planning with Picat, Springer \r\n",
      "  by Neng-Fa Zhou, Hakan Kjellerstrand, and Jonathan Fruhman \r\n",
      "***********************************************************/\r\n",
      "import cp.\r\n",
      "\r\n",
      "main([N]) =>\r\n",
      "  N := N.to_int,\r\n",
      "  knight(N,X),\r\n",
      "  println(x=X),\r\n",
      "  println(\"X:\"),\r\n",
      "  print_matrix(X),\r\n",
      "  extract_tour(X,Tour),\r\n",
      "  println(\"Tour:\"),\r\n",
      "  print_matrix(Tour).\r\n",
      "\r\n",
      "% Knight's tour for even N*N.\r\n",
      "knight(N, X) =>\r\n",
      "  X = new_array(N,N),\r\n",
      "  X :: 1..N*N,\r\n",
      "  XVars = X.vars(),\r\n",
      "  % restrict the domains of each square\r\n",
      "  foreach (I in 1..N, J in 1..N)\r\n",
      "     D = [-1,-2,1,2],\r\n",
      "     Dom = [(I+A-1)*N + J+B : A in D, B in D, \r\n",
      "             abs(A) + abs(B) == 3, \r\n",
      "             member(I+A,1..N), member(J+B,1..N)],\r\n",
      "     Dom.length > 0,\r\n",
      "     X[I,J] :: Dom\r\n",
      "  end,\r\n",
      "  circuit(XVars),\r\n",
      "  solve([ff,split],XVars). \r\n",
      "\r\n",
      "extract_tour(X,Tour) =>\r\n",
      "  N = X.length,\r\n",
      "  Tour = new_array(N,N),\r\n",
      "  K = 1,\r\n",
      "  Tour[1,1] := K,\r\n",
      "  Next = X[1,1],\r\n",
      "  while (K < N*N) \r\n",
      "    K := K + 1,\r\n",
      "    I = 1+((Next-1) div N),\r\n",
      "    J = 1+((Next-1) mod N),\r\n",
      "    Tour[I,J] := K,\r\n",
      "    Next := X[I,J]\r\n",
      "  end.\r\n",
      "  \r\n",
      "print_matrix(M) =>\r\n",
      "  N = M.length,\r\n",
      "  V = (N*N).to_string().length,\r\n",
      "  Format = \"% \" ++ (V+1).to_string() ++ \"d\",\r\n",
      "  foreach(I in 1..N)\r\n",
      "     foreach(J in 1..N)\r\n",
      "        printf(Format,M[I,J])\r\n",
      "     end,\r\n",
      "     nl\r\n",
      "  end,\r\n",
      "  nl.\r\n"
     ]
    }
   ],
   "source": [
    "!cat knight-tour/.solution/knight-tour.pi"
   ]
  },
  {
   "cell_type": "markdown",
   "id": "27894353-4678-42f5-8bec-c347eabc8664",
   "metadata": {
    "editable": false,
    "slideshow": {
     "slide_type": "slide"
    },
    "tags": []
   },
   "source": [
    "## Exercise: Chinese Postman\n",
    "\n",
    "Given a weighted graph, find the shortest closed path that traverses every edge at least once. (Assume that the graph is undirected, loopless, and the distances are positive integers and satisfy the triangle inequality.) See [Wikipedia](https://en.wikipedia.org/wiki/Chinese_postman_problem) for a sample solved instance. Unlike the [Eulerian Circuit Problem](https://en.wikipedia.org/wiki/Eulerian_path) (where each edge has to be traversed exactly once), there is a polynomial-time algorithm for the Chinese Postman. But our goal is to write a constraint model."
   ]
  },
  {
   "cell_type": "code",
   "execution_count": 10,
   "id": "933bc713-5113-4ea4-a2b3-749570b26968",
   "metadata": {
    "editable": true,
    "execution": {
     "iopub.execute_input": "2025-09-30T12:14:15.262742Z",
     "iopub.status.busy": "2025-09-30T12:14:15.262305Z",
     "iopub.status.idle": "2025-09-30T12:14:15.581084Z",
     "shell.execute_reply": "2025-09-30T12:14:15.578510Z"
    },
    "scrolled": true,
    "slideshow": {
     "slide_type": "fragment"
    },
    "tags": []
   },
   "outputs": [
    {
     "name": "stdout",
     "output_type": "stream",
     "text": [
      "instance(NumVertices, AdjacencyMatrixWithWeights) =>\r\n",
      "    NumVertices = 5,\r\n",
      "    AdjacencyMatrixWithWeights = [\r\n",
      "        [0, 7, 0, 5, 1],\r\n",
      "        [7, 0, 6, 0, 3],\r\n",
      "        [0, 6, 0, 8, 4],\r\n",
      "        [5, 0, 8, 0, 2],\r\n",
      "        [1, 3, 4, 2, 0]\r\n",
      "    ].\r\n",
      "% optimal length: 45, shortest closed path: [1,2,3,4,5,3,2,5,1,5,4,1]"
     ]
    }
   ],
   "source": [
    "!cat chinese-postman/instance.pi"
   ]
  }
 ],
 "metadata": {
  "celltoolbar": "Slideshow",
  "kernelspec": {
   "display_name": "Python 3 (ipykernel)",
   "language": "python",
   "name": "python3"
  },
  "language_info": {
   "codemirror_mode": {
    "name": "ipython",
    "version": 3
   },
   "file_extension": ".py",
   "mimetype": "text/x-python",
   "name": "python",
   "nbconvert_exporter": "python",
   "pygments_lexer": "ipython3",
   "version": "3.10.18"
  },
  "vscode": {
   "interpreter": {
    "hash": "916dbcbb3f70747c44a77c7bcd40155683ae19c65e1c03b4aa3499c5328201f1"
   }
  }
 },
 "nbformat": 4,
 "nbformat_minor": 5
}
