{
 "cells": [
  {
   "cell_type": "markdown",
   "id": "eb7f8c1f",
   "metadata": {
    "editable": false,
    "slideshow": {
     "slide_type": "slide"
    },
    "tags": []
   },
   "source": [
    "# NOPT042 Constraint programming: Tutorial 11 - Tabling"
   ]
  },
  {
   "cell_type": "markdown",
   "id": "982f8b24-202b-4158-b6eb-825ce744234e",
   "metadata": {
    "editable": false,
    "slideshow": {
     "slide_type": "slide"
    },
    "tags": []
   },
   "source": [
    "### What was in Lecture 8?\n",
    "\n",
    "Combining search and inference\n",
    "* search (complete, slow) + consistency (incomplete, fast)\n",
    "* integrate other solving techniques (e.g. integer programming)\n",
    "* look-back: maintain consistency among already instantiated vars\n",
    "* forward-checking: (partial/full) look-ahead, preventing failure better than checking"
   ]
  },
  {
   "cell_type": "markdown",
   "id": "5572bef4-14c0-4b47-a21a-797ee19a6a6c",
   "metadata": {
    "editable": false,
    "slideshow": {
     "slide_type": "subslide"
    },
    "tags": []
   },
   "source": [
    "Variable ordering\n",
    "* important!\n",
    "* FAIL FIRST (smaller domain first)\n",
    "* harder first: most constrained variables, more constraints to past variables\n",
    "\n",
    "Value ordering\n",
    "* SUCEED FIRST (prefer values belonging to a solution)\n",
    "* prefer value with more supports (from AC-4)\n",
    "* prefer value leading to less domain reduction (compute singleton consistency)\n",
    "* problem-driven heuristics are better"
   ]
  },
  {
   "cell_type": "markdown",
   "id": "850fc995-ff7f-4980-8ea0-545880b31a1e",
   "metadata": {
    "editable": false,
    "slideshow": {
     "slide_type": "subslide"
    },
    "tags": []
   },
   "source": [
    "Branching strategies\n",
    "* enumeration (X#=0 or X#=1 or ... or X#=N-1)\n",
    "* step labeling (X#=i or X#!=i)\n",
    "* bisection/domain-splitting (X#<=i or X#>i)\n",
    "\n",
    "Cycle cutset\n",
    "* acyclic constraint network can be solved by backtrack-free AC\n",
    "* make it acyclic labeling variables on cycles\n",
    "* cycle cutset = set of vertices whose removal splits all cycles\n",
    "* heuristics to find: order vertices by degrees, while G cyclic remove first V\n",
    "* MAC Extended (MACE): combine AC with cycle cutset"
   ]
  },
  {
   "cell_type": "markdown",
   "id": "10ae95bf",
   "metadata": {
    "editable": false,
    "slideshow": {
     "slide_type": "slide"
    },
    "tags": []
   },
   "source": [
    "# Dynamic programming with tabling\n",
    "\n",
    "The \"t\" in Picat stands for \"tabling\": storing and resusing subcomputations, most typically used in dynamic programming (divide & conquer). We have already seen the following classical example of usefulness of tabling:"
   ]
  },
  {
   "cell_type": "markdown",
   "id": "1b25f3a5",
   "metadata": {
    "editable": false,
    "slideshow": {
     "slide_type": "subslide"
    },
    "tags": []
   },
   "source": [
    "### Example: Fibonacci sequence"
   ]
  },
  {
   "cell_type": "code",
   "execution_count": 1,
   "id": "712857f7",
   "metadata": {
    "editable": true,
    "execution": {
     "iopub.execute_input": "2025-09-30T12:18:42.366499Z",
     "iopub.status.busy": "2025-09-30T12:18:42.366128Z",
     "iopub.status.idle": "2025-09-30T12:18:42.392815Z",
     "shell.execute_reply": "2025-09-30T12:18:42.391722Z"
    },
    "slideshow": {
     "slide_type": "skip"
    },
    "tags": []
   },
   "outputs": [
    {
     "data": {
      "application/javascript": [
       "\"use strict\";\n",
       "\n",
       "CodeMirror.defineMode(\"text/picat\", function(config) {\n",
       "\n",
       "  var isOperatorChar = /[+\\-*=\\@\\&|\\:#<>\\/]/;\n",
       "\n",
       "  var keywords = {\"else\":true,\n",
       "  \"end\":true,\n",
       "  \"foreach\":true,\n",
       "  \"if\":true,\n",
       "  \"in\":true,\n",
       "  \"then\":true\n",
       "  }\n",
       "\n",
       "  var specials = {\"acyclic_term\":true,\n",
       "  \"and_to_list\":true,\n",
       "  \"append\":true,\n",
       "  \"apply\":true,\n",
       "  \"arity\":true,\n",
       "  \"array\":true,\n",
       "  \"atom\":true,\n",
       "  \"atom_chars\":true,\n",
       "  \"atom_codes\":true,\n",
       "  \"atomic\":true,\n",
       "  \"attr_var\":true,\n",
       "  \"between\":true,\n",
       "  \"bind_vars\":true,\n",
       "  \"call\":true,\n",
       "  \"call_cleanup\":true,\n",
       "  \"catch\":true,\n",
       "  \"char\":true,\n",
       "  \"chr\":true,\n",
       "  \"clear\":true,\n",
       "  \"compare_terms\":true,\n",
       "  \"compound\":true,\n",
       "  \"copy_term\":true,\n",
       "  \"count_all\":true,\n",
       "  \"delete\":true,\n",
       "  \"delete_all\":true,\n",
       "  \"different_term\":true,\n",
       "  \"digit\":true,\n",
       "  \"div\":true,\n",
       "  \"dvar\":true,\n",
       "  \"dvar_or_int\":true,\n",
       "//   \"end\":true,\n",
       "  \"fail\":true,\n",
       "  \"false\":true,\n",
       "  \"find_all\":true,\n",
       "  \"findall\":true,\n",
       "  \"first\":true,\n",
       "  \"flatten\":true,\n",
       "  \"float\":true,\n",
       "  \"fold\":true,\n",
       "//   \"foreach\":true,\n",
       "  \"freeze\":true,\n",
       "  \"get\":true,\n",
       "  \"get_attr\":true,\n",
       "  \"get_global_map\":true,\n",
       "  \"get_heap_map\":true,\n",
       "  \"get_table_map\":true,\n",
       "  \"ground\":true,\n",
       "  \"handle_exception\":true,\n",
       "  \"has_key\":true,\n",
       "  \"hash_code\":true,\n",
       "  \"head\":true,\n",
       "  \"heap_is_empty\":true,\n",
       "  \"heap_pop\":true,\n",
       "  \"heap_push\":true,\n",
       "  \"heap_size\":true,\n",
       "  \"heap_to_list\":true,\n",
       "  \"heap_top\":true,\n",
       "  \"import\":true,    \n",
       "//   \"in\":true,\n",
       "  \"insert\":true,\n",
       "  \"insert_all\":true,\n",
       "  \"insert_ordered\":true,\n",
       "  \"insert_ordered_down\":true,\n",
       "  \"int\":true,\n",
       "  \"integer\":true,\n",
       "  \"is\":true,\n",
       "  \"keys\":true,\n",
       "  \"last\":true,\n",
       "  \"len\":true,\n",
       "  \"length\":true,\n",
       "  \"list\":true,\n",
       "  \"list_to_and\":true,\n",
       "  \"lowercase\":true,\n",
       "  \"map\":true,\n",
       "  \"map_to_list\":true,\n",
       "  \"max\":true,\n",
       "  \"maxint_small\":true,\n",
       "  \"maxof\":true,\n",
       "  \"maxof_inc\":true,\n",
       "  \"membchk\":true,\n",
       "  \"member\":true,\n",
       "  \"min\":true,\n",
       "  \"minint_small\":true,\n",
       "  \"minof\":true,\n",
       "  \"minof_inc\":true,\n",
       "  \"mod\":true,\n",
       "  \"name\":true,\n",
       "  \"new_array\":true,\n",
       "  \"new_list\":true,\n",
       "  \"new_map\":true,\n",
       "  \"new_max_heap\":true,\n",
       "  \"new_min_heap\":true,\n",
       "  \"new_set\":true,\n",
       "  \"new_struct\":true,\n",
       "  \"nonvar\":true,\n",
       "  \"not\":true,\n",
       "  \"notin\":true,\n",
       "  \"nth\":true,\n",
       "  \"number\":true,\n",
       "  \"number_char\":true,\n",
       "  \"number_codes\":true,\n",
       "  \"number_vars\":true,\n",
       "  \"once\":true,\n",
       "  \"ord\":true,\n",
       "  \"parse_radix_string\":true,\n",
       "  \"parse_term\":true,\n",
       "  \"post_event\":true,\n",
       "  \"post_event_any\":true,\n",
       "  \"post_event_bound\":true,\n",
       "  \"post_event_dom\":true,\n",
       "  \"post_event_ins\":true,\n",
       "  \"print\":true,\n",
       "  \"println\":true,\n",
       "  \"prod\":true,\n",
       "  \"put\":true,\n",
       "  \"put_attr\":true,\n",
       "  \"real\":true,\n",
       "  \"reduce\":true,\n",
       "  \"rem\":true,\n",
       "  \"remove_dumps\":true,\n",
       "  \"repeat\":true,\n",
       "  \"reverse\":true,\n",
       "  \"second\":true,\n",
       "  \"select\":true,\n",
       "  \"size\":true,\n",
       "  \"slice\":true,\n",
       "  \"sort\":true,\n",
       "  \"sort_down\":true,\n",
       "  \"sort_down_remove_dups\":true,\n",
       "  \"sort_remove_dups\":true,\n",
       "  \"sorted\":true,\n",
       "  \"sorted_down\":true,\n",
       "  \"string\":true,\n",
       "  \"struct\":true,\n",
       "  \"subsumes\":true,\n",
       "  \"sum\":true,\n",
       "  \"tail\":true,\n",
       "  \"throw\":true,\n",
       "  \"to_array\":true,\n",
       "  \"to_atom\":true,\n",
       "  \"to_binary_string\":true,\n",
       "  \"to_code\":true,\n",
       "  \"to_fstring\":true,\n",
       "  \"to_hex_string\":true,\n",
       "  \"to_int\":true,\n",
       "  \"to_integer\":true,\n",
       "  \"to_list\":true,\n",
       "  \"to_lowercase\":true,\n",
       "  \"to_number\":true,\n",
       "  \"to_oct_string\":true,\n",
       "  \"to_radix_string\":true,\n",
       "  \"to_real\":true,\n",
       "  \"to_string\":true,\n",
       "  \"to_uppercase\":true,\n",
       "  \"true\":true,\n",
       "  \"uppercase\":true,\n",
       "  \"values\":true,\n",
       "  \"var\":true,\n",
       "  \"variant\":true,\n",
       "  \"vars\":true,\n",
       "  \"zip\":true,\n",
       "\n",
       "  \"abs\":true,\n",
       "  \"acos\":true,\n",
       "  \"acosh\":true,\n",
       "  \"acot\":true,\n",
       "  \"acoth\":true,\n",
       "  \"acsc\":true,\n",
       "  \"acsch\":true,\n",
       "  \"asec\":true,\n",
       "  \"asech\":true,\n",
       "  \"asin\":true,\n",
       "  \"asinh\":true,\n",
       "  \"atan\":true,\n",
       "  \"atan2\":true,\n",
       "  \"atanh\":true,\n",
       "  \"ceiling\":true,\n",
       "  \"cos\":true,\n",
       "  \"cosh\":true,\n",
       "  \"cot\":true,\n",
       "  \"coth\":true,\n",
       "  \"csc\":true,\n",
       "  \"csch\":true,\n",
       "  \"e\":true,\n",
       "  \"even\":true,\n",
       "  \"exp\":true,\n",
       "  \"floor\":true,\n",
       "  \"frand\":true,\n",
       "  \"gcd\":true,\n",
       "  \"log\":true,\n",
       "  \"log10\":true,\n",
       "  \"log2\":true,\n",
       "  \"modf\":true,\n",
       "  \"odd\":true,\n",
       "  \"pi\":true,\n",
       "  \"pow\":true,\n",
       "  \"pow_mod\":true,\n",
       "  \"prime\":true,\n",
       "  \"primes\":true,\n",
       "  \"max\":true,\n",
       "  \"random\":true,\n",
       "  \"random2\":true,\n",
       "  \"round\":true,\n",
       "  \"sec\":true,\n",
       "  \"sech\":true,\n",
       "  \"sign\":true,\n",
       "  \"sin\":true,\n",
       "  \"sinh\":true,\n",
       "  \"sqrt\":true,\n",
       "  \"tan\":true,\n",
       "  \"tanh\":true,\n",
       "  \"to_degrees\":true,\n",
       "  \"to_radians\":true,\n",
       "  \"truncate\":true,\n",
       "    \n",
       " \n",
       "  \"xor\":true};\n",
       "\n",
       "  var punc = \":;,.(){}[]\";\n",
       "\n",
       "  function tokenBase(stream, state) {\n",
       "    var ch = stream.next();\n",
       "    if (ch == '\"') {\n",
       "      state.tokenize.push(tokenString);\n",
       "      return tokenString(stream, state);\n",
       "    }\n",
       "    if (/[\\d\\.]/.test(ch)) {\n",
       "      if (ch == \".\") {\n",
       "        stream.match(/^[0-9]+([eE][\\-+]?[0-9]+)?/);\n",
       "      } else if (ch == \"0\") {\n",
       "        stream.match(/^[xX][0-9a-fA-F]+/) || stream.match(/^0[0-7]+/);\n",
       "      } else {\n",
       "        stream.match(/^[0-9]*\\.?[0-9]*([eE][\\-+]?[0-9]+)?/);\n",
       "      }\n",
       "      return \"number\";\n",
       "    }\n",
       "    if (ch == \"/\") {\n",
       "      if (stream.eat(\"*\")) {\n",
       "        state.tokenize.push(tokenComment);\n",
       "        return tokenComment(stream, state);\n",
       "      }\n",
       "    }\n",
       "    if (ch == \"%\") {\n",
       "      stream.skipToEnd();\n",
       "      return \"comment\";\n",
       "    }\n",
       "    if (isOperatorChar.test(ch)) {\n",
       "      stream.eatWhile(isOperatorChar);\n",
       "      return \"operator\";\n",
       "    }\n",
       "    if (punc.indexOf(ch) > -1) {\n",
       "      return \"punctuation\";\n",
       "    }\n",
       "    stream.eatWhile(/[\\w\\$_\\xa1-\\uffff]/);\n",
       "    var cur = stream.current();\n",
       "    if (keywords.propertyIsEnumerable(cur)) {\n",
       "      return \"keyword\";\n",
       "    }\n",
       "    return \"variable\";\n",
       "  }\n",
       "\n",
       "  function tokenComment(stream, state) {\n",
       "    var maybeEnd = false, ch;\n",
       "    while (ch = stream.next()) {\n",
       "      if (ch == \"/\" && maybeEnd) {\n",
       "        state.tokenize.pop();\n",
       "        break;\n",
       "      }\n",
       "      maybeEnd = (ch == \"*\");\n",
       "    }\n",
       "    return \"comment\";\n",
       "  }\n",
       "\n",
       "  function tokenUntilClosingParen() {\n",
       "    var depth = 0;\n",
       "    return function(stream, state, prev) {\n",
       "      var inner = tokenBase(stream, state, prev);\n",
       "      console.log(\"untilClosing\",inner,stream.current());\n",
       "      if (inner == \"punctuation\") {\n",
       "        if (stream.current() == \"(\") {\n",
       "          ++depth;\n",
       "        } else if (stream.current() == \")\") {\n",
       "          if (depth == 0) {\n",
       "            stream.backUp(1)\n",
       "            state.tokenize.pop()\n",
       "            return state.tokenize[state.tokenize.length - 1](stream, state)\n",
       "          } else {\n",
       "            --depth;\n",
       "          }\n",
       "        }\n",
       "      }\n",
       "      return inner;\n",
       "    }\n",
       "  }\n",
       "\n",
       "  function tokenString(stream, state) {\n",
       "    var escaped = false, next, end = false;\n",
       "    while ((next = stream.next()) != null) {\n",
       "      if (next=='(' && escaped) {\n",
       "        state.tokenize.push(tokenUntilClosingParen());\n",
       "        return \"string\";\n",
       "      }\n",
       "      if (next == '\"' && !escaped) {end = true; break;}\n",
       "      escaped = !escaped && next == \"\\\\\";\n",
       "    }\n",
       "    if (end || !escaped)\n",
       "      state.tokenize.pop();\n",
       "    return \"string\";\n",
       "  }\n",
       "\n",
       "  return {\n",
       "    startState: function(basecolumn) {\n",
       "      return {\n",
       "        tokenize: []\n",
       "      };\n",
       "    },\n",
       "\n",
       "    token: function(stream, state) {\n",
       "      if (stream.eatSpace()) return null;\n",
       "      var style = (state.tokenize[state.tokenize.length - 1] || tokenBase)(stream, state);\n",
       "      console.log(\"token\",style);\n",
       "      return style;\n",
       "    },\n",
       "\n",
       "    blockCommentStart: \"/*\",\n",
       "    blockCommentEnd: \"*/\",\n",
       "    lineComment: \"%\"\n",
       "  };\n",
       "});\n",
       "\n",
       "CodeMirror.defineMIME(\"text/picat\", \"text/picat\");\n",
       "\n",
       "Jupyter.CodeCell.options_default.highlight_modes['magic_text/picat'] = {'reg':[/^%%picat/]} ;\n",
       "\n",
       "Jupyter.notebook.get_cells().map(function(cell){\n",
       "  if (cell.cell_type == 'code'){ cell.auto_highlight(); }\n",
       "}) ;"
      ],
      "text/plain": [
       "<IPython.core.display.Javascript object>"
      ]
     },
     "metadata": {},
     "output_type": "display_data"
    },
    {
     "name": "stdout",
     "output_type": "stream",
     "text": [
      "Picat version 3.9\n"
     ]
    }
   ],
   "source": [
    "%load_ext ipicat"
   ]
  },
  {
   "cell_type": "code",
   "execution_count": 2,
   "id": "5fc03d85",
   "metadata": {
    "editable": true,
    "execution": {
     "iopub.execute_input": "2025-09-30T12:18:42.397107Z",
     "iopub.status.busy": "2025-09-30T12:18:42.396701Z",
     "iopub.status.idle": "2025-09-30T12:18:42.403162Z",
     "shell.execute_reply": "2025-09-30T12:18:42.401229Z"
    },
    "slideshow": {
     "slide_type": "fragment"
    },
    "tags": []
   },
   "outputs": [],
   "source": [
    "%%picat -n fib\n",
    "fib(0, F) => F = 0.\n",
    "fib(1, F) => F = 1.\n",
    "fib(N, F), N > 1 => fib(N - 1, F1), fib(N - 2, F2), F = F1 + F2.\n"
   ]
  },
  {
   "cell_type": "code",
   "execution_count": 3,
   "id": "c2dc9f76",
   "metadata": {
    "editable": true,
    "execution": {
     "iopub.execute_input": "2025-09-30T12:18:42.407456Z",
     "iopub.status.busy": "2025-09-30T12:18:42.406839Z",
     "iopub.status.idle": "2025-09-30T12:18:42.413206Z",
     "shell.execute_reply": "2025-09-30T12:18:42.411400Z"
    },
    "slideshow": {
     "slide_type": "fragment"
    },
    "tags": []
   },
   "outputs": [],
   "source": [
    "%%picat -n fib_tabled\n",
    "table\n",
    "fib_tabled(0, F) => F = 0.\n",
    "fib_tabled(1, F) => F = 1.\n",
    "fib_tabled(N, F), N > 1 => fib_tabled(N - 1, F1), fib_tabled(N - 2, F2), F = F1 + F2."
   ]
  },
  {
   "cell_type": "markdown",
   "id": "8a76b9a7",
   "metadata": {
    "editable": false,
    "slideshow": {
     "slide_type": "subslide"
    },
    "tags": []
   },
   "source": [
    "Compare the performance:"
   ]
  },
  {
   "cell_type": "code",
   "execution_count": 4,
   "id": "e2be0164",
   "metadata": {
    "editable": true,
    "execution": {
     "iopub.execute_input": "2025-09-30T12:18:42.416975Z",
     "iopub.status.busy": "2025-09-30T12:18:42.416572Z",
     "iopub.status.idle": "2025-09-30T12:19:11.681278Z",
     "shell.execute_reply": "2025-09-30T12:19:11.679261Z"
    },
    "slideshow": {
     "slide_type": "fragment"
    },
    "tags": []
   },
   "outputs": [
    {
     "name": "stdout",
     "output_type": "stream",
     "text": [
      "\n",
      "CPU time 0.0 seconds.\n",
      "\n",
      "267914296\n",
      "\n",
      "CPU time 26.988 seconds.\n",
      "\n",
      "267914296\n",
      "\n"
     ]
    }
   ],
   "source": [
    "%%picat\n",
    "main =>\n",
    "    time(fib_tabled(42, F)),\n",
    "    println(F),\n",
    "    time(fib(42, F)),\n",
    "    println(F)."
   ]
  },
  {
   "cell_type": "markdown",
   "id": "4f68b845",
   "metadata": {
    "editable": false,
    "slideshow": {
     "slide_type": "slide"
    },
    "tags": []
   },
   "source": [
    "## Example: shortest path\n",
    "\n",
    "Find the shortest path from source to target in a weighted digraph. Code from [the book](https://picat-lang.org/picatbook2015/constraint_solving_and_planning_with_picat.pdf):\n",
    "\n",
    "```\n",
    "table(+,+,-,min)\n",
    "\n",
    "sp(X,Y,Path,W) ?=>\n",
    "  Path = [(X,Y)],\n",
    "  edge(X,Y,W).\n",
    "\n",
    "sp(X,Y,Path,W) =>\n",
    "  Path = [(X,Z)|Path1],\n",
    "  edge(X,Z,Wxz),\n",
    "  sp(Z,Y,Path1,W1),\n",
    "  W = Wxz+W1.\n",
    "```\n",
    "Recall that `?=>` means a backtrackable rule. Consider the following simple instance:\n",
    "```\n",
    "index (+,-,-)\n",
    "edge(a,b,5).  \n",
    "edge(b,c,3).  \n",
    "edge(c,a,9).\n",
    "\n",
    "source(a).\n",
    "target(c).\n",
    "```"
   ]
  },
  {
   "cell_type": "code",
   "execution_count": 5,
   "id": "2b0b063d",
   "metadata": {
    "editable": true,
    "execution": {
     "iopub.execute_input": "2025-09-30T12:19:11.686323Z",
     "iopub.status.busy": "2025-09-30T12:19:11.685993Z",
     "iopub.status.idle": "2025-09-30T12:19:12.016886Z",
     "shell.execute_reply": "2025-09-30T12:19:12.012991Z"
    },
    "scrolled": true,
    "slideshow": {
     "slide_type": "subslide"
    },
    "tags": []
   },
   "outputs": [
    {
     "name": "stdout",
     "output_type": "stream",
     "text": [
      "edge(1, 2, 1).\r\n",
      "edge(1, 4, 8).\r\n",
      "edge(1, 7, 6).\r\n",
      "edge(2, 4, 2).\r\n",
      "edge(3, 2, 14).\r\n",
      "edge(3, 4, 10).\r\n",
      "edge(3, 5, 6).\r\n",
      "edge(3, 6, 19).\r\n",
      "edge(4, 5, 8).\r\n",
      "edge(4, 8, 13).\r\n",
      "edge(5, 8, 12).\r\n",
      "edge(6, 5, 7).\r\n",
      "edge(7, 4, 5).\r\n",
      "edge(8, 6, 4).\r\n",
      "edge(8, 7, 10).\r\n",
      "\r\n",
      "source(1).\r\n",
      "target(6).\r\n",
      "\r\n"
     ]
    }
   ],
   "source": [
    "!cat shortest-path/instance2.pi"
   ]
  },
  {
   "cell_type": "code",
   "execution_count": 6,
   "id": "e1a375f3-e614-4b5d-822f-e17a78b4d875",
   "metadata": {
    "editable": true,
    "execution": {
     "iopub.execute_input": "2025-09-30T12:19:12.025339Z",
     "iopub.status.busy": "2025-09-30T12:19:12.024122Z",
     "iopub.status.idle": "2025-09-30T12:19:09.917870Z",
     "shell.execute_reply": "2025-09-30T12:19:09.913356Z"
    },
    "slideshow": {
     "slide_type": ""
    },
    "tags": []
   },
   "outputs": [
    {
     "name": "stdout",
     "output_type": "stream",
     "text": [
      "path = [(1,2),(2,4),(4,8),(8,6)]\r\n",
      "w = 20\r\n"
     ]
    }
   ],
   "source": [
    "!picat shortest-path/shortest-path instance2"
   ]
  },
  {
   "cell_type": "code",
   "execution_count": 7,
   "id": "c114306d",
   "metadata": {
    "editable": true,
    "execution": {
     "iopub.execute_input": "2025-09-30T12:19:09.925890Z",
     "iopub.status.busy": "2025-09-30T12:19:09.925195Z",
     "iopub.status.idle": "2025-09-30T12:19:10.258248Z",
     "shell.execute_reply": "2025-09-30T12:19:10.255036Z"
    },
    "slideshow": {
     "slide_type": "subslide"
    },
    "tags": []
   },
   "outputs": [
    {
     "name": "stdout",
     "output_type": "stream",
     "text": [
      "% Adapted from Constraint Solving and Planning with Picat, Springer \r\n",
      "% by Neng-Fa Zhou, Hakan Kjellerstrand, and Jonathan Fruhman\r\n",
      "\r\n",
      "main([Filename]) =>\r\n",
      "  cl(Filename),\r\n",
      "  source(S),\r\n",
      "  target(T),\r\n",
      "  sp(S,T,Path,W),\r\n",
      "  println(path = Path),\r\n",
      "  println(w = W).\r\n",
      "\r\n",
      "\r\n",
      "table(+,+,-,min)\r\n",
      "\r\n",
      "sp(X,Y,Path,W) ?=>\r\n",
      "  Path = [(X,Y)],\r\n",
      "  edge(X,Y,W).\r\n",
      "\r\n",
      "sp(X,Y,Path,W) =>\r\n",
      "  Path = [(X,Z)|Path1],\r\n",
      "  edge(X,Z,Wxz),\r\n",
      "  sp(Z,Y,Path1,W1),\r\n",
      "  W = Wxz+W1.\r\n"
     ]
    }
   ],
   "source": [
    "!cat shortest-path/shortest-path.pi"
   ]
  },
  {
   "cell_type": "markdown",
   "id": "55096287",
   "metadata": {
    "editable": false,
    "slideshow": {
     "slide_type": "slide"
    },
    "tags": []
   },
   "source": [
    "## Table mode declaration\n",
    "\n",
    "We can tell Picat what to table using a _table mode declaration_:\n",
    "```\n",
    "table(s1,s2,...,sn)\n",
    "my_predicate(X1,...,Xn) => ...\n",
    "```\n",
    "where `si` is one of the following: \n",
    "* `+` : input, the row/column/etc. where to store\n",
    "* `-` : output, the value to store\n",
    "* `min` or `max` : objective, only store outputs with smallest/largest value of this\n",
    "* `nt`: not tabled, as if this argument was not passed; last coordinate only, you can use this for global data that do not change in the subproblems, or for arguments functionally dependent (1-1, easily computable) on the + arguments\n",
    "\n",
    "For example:\n",
    "```\n",
    "table(+,+,-,min)\n",
    "sp(X,Y,Path,W)\n",
    "```\n",
    "means for every $X$ and $Y$ store (only) the $\\mathrm{Path}$ with minimum weight $W$ (only rewrite $\\mathrm{Path}$ if its $W$ is smaller)."
   ]
  },
  {
   "cell_type": "markdown",
   "id": "6b1fd540",
   "metadata": {
    "editable": false,
    "slideshow": {
     "slide_type": "subslide"
    },
    "tags": []
   },
   "source": [
    "## Index declaration\n",
    "\n",
    "The _index declaration_ `index (+,-,-)` does not change semantics but facilitates faster lookup when unifying e.g. terms `edge(a,X,W)`, see [Wikipedia](https://en.wikipedia.org/wiki/Term_indexing). The `+` means that the corresponding coordinate is indexed (\"an input\"), `-` means not indexed (\"an output\"). There can be multiple index patterns, e.g. an undirected graph can be given as: \n",
    "```\n",
    "index (+,-) (-,+)\n",
    "edge(a,b).\n",
    "edge(a,c).\n",
    "edge(b,c).\n",
    "edge(c,b).\n",
    "```\n",
    "if we want to traverse the edges in both ways. (This example is from [the guide](http://picat-lang.org/download/picat_guide.pdf).)\n"
   ]
  },
  {
   "cell_type": "code",
   "execution_count": 8,
   "id": "d99dc0a1",
   "metadata": {
    "editable": true,
    "execution": {
     "iopub.execute_input": "2025-09-30T12:19:10.266481Z",
     "iopub.status.busy": "2025-09-30T12:19:10.265712Z",
     "iopub.status.idle": "2025-09-30T12:19:10.602521Z",
     "shell.execute_reply": "2025-09-30T12:19:10.599769Z"
    },
    "scrolled": true,
    "slideshow": {
     "slide_type": "subslide"
    },
    "tags": []
   },
   "outputs": [
    {
     "name": "stdout",
     "output_type": "stream",
     "text": [
      "% Adapted from Constraint Solving and Planning with Picat, Springer \r\n",
      "% by Neng-Fa Zhou, Hakan Kjellerstrand, and Jonathan Fruhman\r\n",
      "main ?=>\r\n",
      "    p(a,Y),\r\n",
      "    println(\"Y\" = Y).\r\n",
      "\r\n",
      "table(+,max)\r\n",
      "index (-,+)\r\n",
      "p(a,2).\r\n",
      "p(a,1).\r\n",
      "p(a,3).\r\n",
      "p(b,3).\r\n",
      "p(b,4).\r\n"
     ]
    }
   ],
   "source": [
    "!cat table-mode-example.pi"
   ]
  },
  {
   "cell_type": "code",
   "execution_count": 9,
   "id": "ccd2737d",
   "metadata": {
    "editable": true,
    "execution": {
     "iopub.execute_input": "2025-09-30T12:19:10.609789Z",
     "iopub.status.busy": "2025-09-30T12:19:10.608966Z",
     "iopub.status.idle": "2025-09-30T12:19:10.983908Z",
     "shell.execute_reply": "2025-09-30T12:19:10.979290Z"
    },
    "slideshow": {
     "slide_type": "fragment"
    },
    "tags": []
   },
   "outputs": [
    {
     "name": "stdout",
     "output_type": "stream",
     "text": [
      "Y = 3\r\n"
     ]
    }
   ],
   "source": [
    "!picat table-mode-example"
   ]
  },
  {
   "cell_type": "markdown",
   "id": "164f043a",
   "metadata": {
    "editable": true,
    "slideshow": {
     "slide_type": "slide"
    },
    "tags": []
   },
   "source": [
    "## Exercise: shortest shortest path\n",
    "\n",
    "Modify the above example so that among the minimum-weight paths, only one with minimum _length_, meaning number of edges, is chosen."
   ]
  },
  {
   "cell_type": "code",
   "execution_count": 10,
   "id": "1dae6572",
   "metadata": {
    "editable": true,
    "execution": {
     "iopub.execute_input": "2025-09-30T12:19:10.991301Z",
     "iopub.status.busy": "2025-09-30T12:19:10.990559Z",
     "iopub.status.idle": "2025-09-30T12:19:11.309529Z",
     "shell.execute_reply": "2025-09-30T12:19:11.306197Z"
    },
    "scrolled": true,
    "slideshow": {
     "slide_type": "fragment"
    },
    "tags": []
   },
   "outputs": [
    {
     "name": "stdout",
     "output_type": "stream",
     "text": [
      "index (+,-,-)\r\n",
      "\r\n",
      "edge(a,b,5).  \r\n",
      "edge(b,c,3).  \r\n",
      "edge(c,a,9).\r\n",
      "\r\n",
      "source(a).\r\n",
      "target(c)."
     ]
    }
   ],
   "source": [
    "!cat shortest-path/instance.pi"
   ]
  },
  {
   "cell_type": "code",
   "execution_count": 11,
   "id": "613228c7",
   "metadata": {
    "editable": true,
    "execution": {
     "iopub.execute_input": "2025-09-30T12:19:11.317123Z",
     "iopub.status.busy": "2025-09-30T12:19:11.316315Z",
     "iopub.status.idle": "2025-09-30T12:19:11.656811Z",
     "shell.execute_reply": "2025-09-30T12:19:11.653589Z"
    },
    "slideshow": {
     "slide_type": "fragment"
    },
    "tags": []
   },
   "outputs": [
    {
     "name": "stdout",
     "output_type": "stream",
     "text": [
      "path = [(a,b),(b,c)]\r\n",
      "w = (8,2)\r\n"
     ]
    }
   ],
   "source": [
    "!picat shortest-path/shortest-shortest-path instance"
   ]
  },
  {
   "cell_type": "code",
   "execution_count": 12,
   "id": "13e8ef7d",
   "metadata": {
    "editable": true,
    "execution": {
     "iopub.execute_input": "2025-09-30T12:19:11.664619Z",
     "iopub.status.busy": "2025-09-30T12:19:11.663956Z",
     "iopub.status.idle": "2025-09-30T12:19:12.322580Z",
     "shell.execute_reply": "2025-09-30T12:19:12.319188Z"
    },
    "slideshow": {
     "slide_type": "subslide"
    },
    "tags": []
   },
   "outputs": [
    {
     "name": "stdout",
     "output_type": "stream",
     "text": [
      "% this instance is unsatisfiable\r\n",
      "\r\n",
      "edge(2, 4, 2).\r\n",
      "edge(3, 2, 14).\r\n",
      "edge(3, 4, 10).\r\n",
      "edge(3, 5, 6).\r\n",
      "edge(3, 6, 19).\r\n",
      "edge(4, 5, 8).\r\n",
      "edge(4, 8, 13).\r\n",
      "edge(5, 8, 12).\r\n",
      "edge(6, 5, 7).\r\n",
      "edge(7, 4, 5).\r\n",
      "edge(8, 6, 4).\r\n",
      "edge(8, 7, 10).\r\n",
      "\r\n",
      "source(1).\r\n",
      "target(6).\r\n",
      "\r\n"
     ]
    },
    {
     "name": "stdout",
     "output_type": "stream",
     "text": [
      "\r\n",
      "*** error(failed,main/1)\r\n",
      "\r\n",
      "\r\n"
     ]
    }
   ],
   "source": [
    "!cat shortest-path/instance3.pi\n",
    "!picat shortest-path/shortest-shortest-path instance3"
   ]
  },
  {
   "cell_type": "code",
   "execution_count": 13,
   "id": "fb1db534",
   "metadata": {
    "execution": {
     "iopub.execute_input": "2025-09-30T12:19:12.329530Z",
     "iopub.status.busy": "2025-09-30T12:19:12.328757Z",
     "iopub.status.idle": "2025-09-30T12:19:12.664980Z",
     "shell.execute_reply": "2025-09-30T12:19:12.662144Z"
    },
    "scrolled": true,
    "slideshow": {
     "slide_type": "subslide"
    }
   },
   "outputs": [
    {
     "name": "stdout",
     "output_type": "stream",
     "text": [
      "% Adapted from Constraint Solving and Planning with Picat, Springer \r\n",
      "% by Neng-Fa Zhou, Hakan Kjellerstrand, and Jonathan Fruhman\r\n",
      "\r\n",
      "main([Filename]) =>\r\n",
      "  cl(Filename),\r\n",
      "  source(S),\r\n",
      "  target(T),\r\n",
      "  ssp(S,T,Path,W),\r\n",
      "  println(path = Path),\r\n",
      "  println(w = W).\r\n",
      "\r\n",
      "table(+,+,-,min)\r\n",
      "\r\n",
      "ssp(X,Y,Path,WL) ?=>\r\n",
      "  Path = [(X,Y)],\r\n",
      "  WL = (Wxy,1),\r\n",
      "  edge(X,Y,Wxy).\r\n",
      "\r\n",
      "ssp(X,Y,Path,WL) =>\r\n",
      "  Path = [(X,Z)|Path1],\r\n",
      "  edge(X,Z,Wxz),\r\n",
      "  ssp(Z,Y,Path1,WL1),\r\n",
      "  WL1 = (Wzy,Len1),\r\n",
      "  WL = (Wxz+Wzy,Len1+1).\r\n",
      "\r\n",
      "% The order in `WL = (Weight, Length)` matters, otherwise we would choose minimum-weight path among minimum-edges paths.\r\n"
     ]
    }
   ],
   "source": [
    "!cat shortest-path/shortest-shortest-path.pi"
   ]
  },
  {
   "cell_type": "markdown",
   "id": "c0c2689d",
   "metadata": {
    "editable": true,
    "slideshow": {
     "slide_type": "slide"
    },
    "tags": []
   },
   "source": [
    "## Exercise: edit distance\n",
    "\n",
    "Find the (length of the) shortest sequence of edit operations that transform `Source` string to `Target` string. There are two types of edit operations allowed:\n",
    "* insert: insert a single character (at any position)\n",
    "* delete: delete a single character (at any position)\n",
    "\n",
    "Once you can compute the distance, try also outputing the sequence of operations."
   ]
  },
  {
   "cell_type": "code",
   "execution_count": 14,
   "id": "eb3e64fc",
   "metadata": {
    "editable": true,
    "execution": {
     "iopub.execute_input": "2025-09-30T12:19:12.672353Z",
     "iopub.status.busy": "2025-09-30T12:19:12.671306Z",
     "iopub.status.idle": "2025-09-30T12:19:13.004926Z",
     "shell.execute_reply": "2025-09-30T12:19:13.001205Z"
    },
    "slideshow": {
     "slide_type": "fragment"
    },
    "tags": []
   },
   "outputs": [
    {
     "name": "stdout",
     "output_type": "stream",
     "text": [
      "dist = 4\r\n",
      "[del(2,a),del(2,t),ins(3,n),del(4,r)]\r\n"
     ]
    }
   ],
   "source": [
    "# this should output 4\n",
    "!picat edit-distance/edit.pi saturday sunday"
   ]
  },
  {
   "cell_type": "code",
   "execution_count": 15,
   "id": "c3781ce7",
   "metadata": {
    "editable": true,
    "execution": {
     "iopub.execute_input": "2025-09-30T12:19:13.013031Z",
     "iopub.status.busy": "2025-09-30T12:19:13.012205Z",
     "iopub.status.idle": "2025-09-30T12:19:13.338275Z",
     "shell.execute_reply": "2025-09-30T12:19:13.335977Z"
    },
    "scrolled": true,
    "slideshow": {
     "slide_type": "subslide"
    },
    "tags": []
   },
   "outputs": [
    {
     "name": "stdout",
     "output_type": "stream",
     "text": [
      "% Adapted from Constraint Solving and Planning with Picat, Springer \r\n",
      "% by Neng-Fa Zhou, Hakan Kjellerstrand, and Jonathan Fruhman\r\n",
      "\r\n",
      "main([Source, Target]) =>\r\n",
      "\tedit(Source, Target, Distance, Seq, 1),\r\n",
      "\twriteln(dist=Distance),\r\n",
      "\twriteln(Seq).\r\n",
      "\r\n",
      "table(+,+,min)\r\n",
      "\r\n",
      "% base\r\n",
      "edit([],[],D,Seq, I) => \r\n",
      "\tD=0, \r\n",
      "\tSeq=[].\r\n",
      "\r\n",
      "% match \r\n",
      "edit([X|P],[X|T],D,Seq,I) =>   \r\n",
      "\tedit(P,T,D,Seq,I+1).\r\n",
      "\r\n",
      "% insert\r\n",
      "edit(P,[X|T],D,Seq,I) ?=>      \r\n",
      "\tedit(P,T,D1,Seq1,I+1),\r\n",
      "\tSeq=[$ins(I,X)|Seq1],\r\n",
      "\tD=D1+1.\r\n",
      "\r\n",
      "% delete\r\n",
      "edit([X|P],T,D,Seq,I) =>       \r\n",
      "\tedit(P,T,D1,Seq1,I),\r\n",
      "\tSeq=[$del(I,X)|Seq1],\r\n",
      "\tD=D1+1.\r\n"
     ]
    }
   ],
   "source": [
    "!cat edit-distance/edit.pi"
   ]
  },
  {
   "cell_type": "markdown",
   "id": "efc4adc8",
   "metadata": {
    "slideshow": {
     "slide_type": "slide"
    }
   },
   "source": [
    "## Exercise: 01-knapsack\n",
    "\n",
    "Write a dynamic program for the 01-knapsack problem."
   ]
  },
  {
   "cell_type": "code",
   "execution_count": 16,
   "id": "4251649a",
   "metadata": {
    "execution": {
     "iopub.execute_input": "2025-09-30T12:19:13.343235Z",
     "iopub.status.busy": "2025-09-30T12:19:13.342695Z",
     "iopub.status.idle": "2025-09-30T12:19:13.734024Z",
     "shell.execute_reply": "2025-09-30T12:19:13.731687Z"
    },
    "slideshow": {
     "slide_type": "fragment"
    }
   },
   "outputs": [
    {
     "name": "stdout",
     "output_type": "stream",
     "text": [
      "instance(ItemNames, Capacity, Values, Weights) =>\r\n",
      "    ItemNames = {\"tv\", \"desktop\", \"laptop\", \"tablet\", \"vase\", \"bottle\", \"jacket\"},\r\n",
      "    Capacity = 23,\r\n",
      "    Values = {500,350,230,115,180,75,125},\r\n",
      "    Weights = {15,11,5,1,7,3,4}."
     ]
    }
   ],
   "source": [
    "!cat knapsack/instance.pi"
   ]
  },
  {
   "cell_type": "code",
   "execution_count": 17,
   "id": "b6222b84",
   "metadata": {
    "editable": true,
    "execution": {
     "iopub.execute_input": "2025-09-30T12:19:13.739356Z",
     "iopub.status.busy": "2025-09-30T12:19:13.738726Z",
     "iopub.status.idle": "2025-09-30T12:19:14.165294Z",
     "shell.execute_reply": "2025-09-30T12:19:14.162510Z"
    },
    "scrolled": true,
    "slideshow": {
     "slide_type": "subslide"
    },
    "tags": []
   },
   "outputs": [
    {
     "name": "stdout",
     "output_type": "stream",
     "text": [
      "total = 845\r\n",
      "(tv,500,15)\r\n",
      "(laptop,230,5)\r\n",
      "(tablet,115,1)\r\n"
     ]
    }
   ],
   "source": [
    "!picat knapsack/knapsack instance"
   ]
  },
  {
   "cell_type": "code",
   "execution_count": 18,
   "id": "c1ac4314",
   "metadata": {
    "editable": true,
    "execution": {
     "iopub.execute_input": "2025-09-30T12:19:14.170845Z",
     "iopub.status.busy": "2025-09-30T12:19:14.170326Z",
     "iopub.status.idle": "2025-09-30T12:19:14.536239Z",
     "shell.execute_reply": "2025-09-30T12:19:14.532323Z"
    },
    "slideshow": {
     "slide_type": "subslide"
    },
    "tags": []
   },
   "outputs": [
    {
     "name": "stdout",
     "output_type": "stream",
     "text": [
      "cat: knapsack/knapsack: No such file or directory\r\n"
     ]
    }
   ],
   "source": [
    "!cat knapsack/knapsack"
   ]
  }
 ],
 "metadata": {
  "celltoolbar": "Slideshow",
  "kernelspec": {
   "display_name": "Python 3 (ipykernel)",
   "language": "python",
   "name": "python3"
  },
  "language_info": {
   "codemirror_mode": {
    "name": "ipython",
    "version": 3
   },
   "file_extension": ".py",
   "mimetype": "text/x-python",
   "name": "python",
   "nbconvert_exporter": "python",
   "pygments_lexer": "ipython3",
   "version": "3.10.18"
  },
  "vscode": {
   "interpreter": {
    "hash": "916dbcbb3f70747c44a77c7bcd40155683ae19c65e1c03b4aa3499c5328201f1"
   }
  }
 },
 "nbformat": 4,
 "nbformat_minor": 5
}
