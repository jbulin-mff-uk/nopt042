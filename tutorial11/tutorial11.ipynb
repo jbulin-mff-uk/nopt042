{
 "cells": [
  {
   "cell_type": "markdown",
   "id": "eb7f8c1f",
   "metadata": {
    "editable": false,
    "slideshow": {
     "slide_type": "slide"
    },
    "tags": []
   },
   "source": [
    "# NOPT042 Constraint programming: Tutorial 11 - Tabling"
   ]
  },
  {
   "cell_type": "markdown",
   "id": "5116cef9-b8ea-4036-b29d-191668472041",
   "metadata": {
    "editable": false,
    "slideshow": {
     "slide_type": "slide"
    },
    "tags": []
   },
   "source": [
    "### What was in Lecture 10?\n",
    "\n",
    "Over-constrained problems\n",
    "* no feasible solution\n",
    "* enlarge some domain (\"buy more clothes\")\n",
    "* enlarge some constraint relation (\"dress less elegantly\")\n",
    "* remove some constraint (\"no need to match shoes and shirt\") - same as enlarging the relation by making *all* tuples feasible\n",
    "* remove some variable (\"do not wear shoes\")\n",
    "\n",
    "Partial CSP\n",
    "* find solution of a problem \"close\" to the original problem\n",
    "* metric - distance between CSPs (e.g. number of solutions that are feasible in one but not the other problem, or number of different tuples in constraint relations)\n",
    "* sufficient distance < maximal allowed distance"
   ]
  },
  {
   "cell_type": "markdown",
   "id": "cb65ecd5-a5a7-4981-a4b3-dd6502023463",
   "metadata": {
    "editable": false,
    "slideshow": {
     "slide_type": "subslide"
    },
    "tags": []
   },
   "source": [
    "Weighted/valued CSP\n",
    "* each constraint has a value\n",
    "* minimize sum of weights of violated constraints\n",
    "* soft vs. hard constraints (weight=+infinity)\n",
    "\n",
    "Probabilistic/semiring-based CSP\n",
    "* each tuple of values is annotated by a preference (how well it satisfies the constraints)\n",
    "* find solution with largest aggregated preference\n",
    "\n",
    "Constraint hierarchies\n",
    "* preferences of some constraints over others (e.g. required vs. strong vs. weak, hard vs. soft)\n",
    "* satisfy all hard constrains, satisfy soft as well as possible\n",
    "* formalization of this framework"
   ]
  },
  {
   "cell_type": "markdown",
   "id": "10ae95bf",
   "metadata": {
    "editable": false,
    "slideshow": {
     "slide_type": "slide"
    },
    "tags": []
   },
   "source": [
    "# Dynamic programming with tabling\n",
    "\n",
    "The \"t\" in Picat stands for \"tabling\": storing and resusing subcomputations, most typically used in dynamic programming (divide & conquer). We have already seen the following classical example of usefulness of tabling:"
   ]
  },
  {
   "cell_type": "markdown",
   "id": "1b25f3a5",
   "metadata": {
    "editable": false,
    "slideshow": {
     "slide_type": "subslide"
    },
    "tags": []
   },
   "source": [
    "### Example: Fibonacci sequence"
   ]
  },
  {
   "cell_type": "code",
   "execution_count": 1,
   "id": "712857f7",
   "metadata": {
    "editable": true,
    "execution": {
     "iopub.execute_input": "2025-10-06T10:51:02.619859Z",
     "iopub.status.busy": "2025-10-06T10:51:02.619628Z",
     "iopub.status.idle": "2025-10-06T10:51:02.637471Z",
     "shell.execute_reply": "2025-10-06T10:51:02.636790Z"
    },
    "slideshow": {
     "slide_type": "skip"
    },
    "tags": []
   },
   "outputs": [
    {
     "data": {
      "application/javascript": [
       "\"use strict\";\n",
       "\n",
       "CodeMirror.defineMode(\"text/picat\", function(config) {\n",
       "\n",
       "  var isOperatorChar = /[+\\-*=\\@\\&|\\:#<>\\/]/;\n",
       "\n",
       "  var keywords = {\"else\":true,\n",
       "  \"end\":true,\n",
       "  \"foreach\":true,\n",
       "  \"if\":true,\n",
       "  \"in\":true,\n",
       "  \"then\":true\n",
       "  }\n",
       "\n",
       "  var specials = {\"acyclic_term\":true,\n",
       "  \"and_to_list\":true,\n",
       "  \"append\":true,\n",
       "  \"apply\":true,\n",
       "  \"arity\":true,\n",
       "  \"array\":true,\n",
       "  \"atom\":true,\n",
       "  \"atom_chars\":true,\n",
       "  \"atom_codes\":true,\n",
       "  \"atomic\":true,\n",
       "  \"attr_var\":true,\n",
       "  \"between\":true,\n",
       "  \"bind_vars\":true,\n",
       "  \"call\":true,\n",
       "  \"call_cleanup\":true,\n",
       "  \"catch\":true,\n",
       "  \"char\":true,\n",
       "  \"chr\":true,\n",
       "  \"clear\":true,\n",
       "  \"compare_terms\":true,\n",
       "  \"compound\":true,\n",
       "  \"copy_term\":true,\n",
       "  \"count_all\":true,\n",
       "  \"delete\":true,\n",
       "  \"delete_all\":true,\n",
       "  \"different_term\":true,\n",
       "  \"digit\":true,\n",
       "  \"div\":true,\n",
       "  \"dvar\":true,\n",
       "  \"dvar_or_int\":true,\n",
       "//   \"end\":true,\n",
       "  \"fail\":true,\n",
       "  \"false\":true,\n",
       "  \"find_all\":true,\n",
       "  \"findall\":true,\n",
       "  \"first\":true,\n",
       "  \"flatten\":true,\n",
       "  \"float\":true,\n",
       "  \"fold\":true,\n",
       "//   \"foreach\":true,\n",
       "  \"freeze\":true,\n",
       "  \"get\":true,\n",
       "  \"get_attr\":true,\n",
       "  \"get_global_map\":true,\n",
       "  \"get_heap_map\":true,\n",
       "  \"get_table_map\":true,\n",
       "  \"ground\":true,\n",
       "  \"handle_exception\":true,\n",
       "  \"has_key\":true,\n",
       "  \"hash_code\":true,\n",
       "  \"head\":true,\n",
       "  \"heap_is_empty\":true,\n",
       "  \"heap_pop\":true,\n",
       "  \"heap_push\":true,\n",
       "  \"heap_size\":true,\n",
       "  \"heap_to_list\":true,\n",
       "  \"heap_top\":true,\n",
       "  \"import\":true,    \n",
       "//   \"in\":true,\n",
       "  \"insert\":true,\n",
       "  \"insert_all\":true,\n",
       "  \"insert_ordered\":true,\n",
       "  \"insert_ordered_down\":true,\n",
       "  \"int\":true,\n",
       "  \"integer\":true,\n",
       "  \"is\":true,\n",
       "  \"keys\":true,\n",
       "  \"last\":true,\n",
       "  \"len\":true,\n",
       "  \"length\":true,\n",
       "  \"list\":true,\n",
       "  \"list_to_and\":true,\n",
       "  \"lowercase\":true,\n",
       "  \"map\":true,\n",
       "  \"map_to_list\":true,\n",
       "  \"max\":true,\n",
       "  \"maxint_small\":true,\n",
       "  \"maxof\":true,\n",
       "  \"maxof_inc\":true,\n",
       "  \"membchk\":true,\n",
       "  \"member\":true,\n",
       "  \"min\":true,\n",
       "  \"minint_small\":true,\n",
       "  \"minof\":true,\n",
       "  \"minof_inc\":true,\n",
       "  \"mod\":true,\n",
       "  \"name\":true,\n",
       "  \"new_array\":true,\n",
       "  \"new_list\":true,\n",
       "  \"new_map\":true,\n",
       "  \"new_max_heap\":true,\n",
       "  \"new_min_heap\":true,\n",
       "  \"new_set\":true,\n",
       "  \"new_struct\":true,\n",
       "  \"nonvar\":true,\n",
       "  \"not\":true,\n",
       "  \"notin\":true,\n",
       "  \"nth\":true,\n",
       "  \"number\":true,\n",
       "  \"number_char\":true,\n",
       "  \"number_codes\":true,\n",
       "  \"number_vars\":true,\n",
       "  \"once\":true,\n",
       "  \"ord\":true,\n",
       "  \"parse_radix_string\":true,\n",
       "  \"parse_term\":true,\n",
       "  \"post_event\":true,\n",
       "  \"post_event_any\":true,\n",
       "  \"post_event_bound\":true,\n",
       "  \"post_event_dom\":true,\n",
       "  \"post_event_ins\":true,\n",
       "  \"print\":true,\n",
       "  \"println\":true,\n",
       "  \"prod\":true,\n",
       "  \"put\":true,\n",
       "  \"put_attr\":true,\n",
       "  \"real\":true,\n",
       "  \"reduce\":true,\n",
       "  \"rem\":true,\n",
       "  \"remove_dumps\":true,\n",
       "  \"repeat\":true,\n",
       "  \"reverse\":true,\n",
       "  \"second\":true,\n",
       "  \"select\":true,\n",
       "  \"size\":true,\n",
       "  \"slice\":true,\n",
       "  \"sort\":true,\n",
       "  \"sort_down\":true,\n",
       "  \"sort_down_remove_dups\":true,\n",
       "  \"sort_remove_dups\":true,\n",
       "  \"sorted\":true,\n",
       "  \"sorted_down\":true,\n",
       "  \"string\":true,\n",
       "  \"struct\":true,\n",
       "  \"subsumes\":true,\n",
       "  \"sum\":true,\n",
       "  \"tail\":true,\n",
       "  \"throw\":true,\n",
       "  \"to_array\":true,\n",
       "  \"to_atom\":true,\n",
       "  \"to_binary_string\":true,\n",
       "  \"to_code\":true,\n",
       "  \"to_fstring\":true,\n",
       "  \"to_hex_string\":true,\n",
       "  \"to_int\":true,\n",
       "  \"to_integer\":true,\n",
       "  \"to_list\":true,\n",
       "  \"to_lowercase\":true,\n",
       "  \"to_number\":true,\n",
       "  \"to_oct_string\":true,\n",
       "  \"to_radix_string\":true,\n",
       "  \"to_real\":true,\n",
       "  \"to_string\":true,\n",
       "  \"to_uppercase\":true,\n",
       "  \"true\":true,\n",
       "  \"uppercase\":true,\n",
       "  \"values\":true,\n",
       "  \"var\":true,\n",
       "  \"variant\":true,\n",
       "  \"vars\":true,\n",
       "  \"zip\":true,\n",
       "\n",
       "  \"abs\":true,\n",
       "  \"acos\":true,\n",
       "  \"acosh\":true,\n",
       "  \"acot\":true,\n",
       "  \"acoth\":true,\n",
       "  \"acsc\":true,\n",
       "  \"acsch\":true,\n",
       "  \"asec\":true,\n",
       "  \"asech\":true,\n",
       "  \"asin\":true,\n",
       "  \"asinh\":true,\n",
       "  \"atan\":true,\n",
       "  \"atan2\":true,\n",
       "  \"atanh\":true,\n",
       "  \"ceiling\":true,\n",
       "  \"cos\":true,\n",
       "  \"cosh\":true,\n",
       "  \"cot\":true,\n",
       "  \"coth\":true,\n",
       "  \"csc\":true,\n",
       "  \"csch\":true,\n",
       "  \"e\":true,\n",
       "  \"even\":true,\n",
       "  \"exp\":true,\n",
       "  \"floor\":true,\n",
       "  \"frand\":true,\n",
       "  \"gcd\":true,\n",
       "  \"log\":true,\n",
       "  \"log10\":true,\n",
       "  \"log2\":true,\n",
       "  \"modf\":true,\n",
       "  \"odd\":true,\n",
       "  \"pi\":true,\n",
       "  \"pow\":true,\n",
       "  \"pow_mod\":true,\n",
       "  \"prime\":true,\n",
       "  \"primes\":true,\n",
       "  \"max\":true,\n",
       "  \"random\":true,\n",
       "  \"random2\":true,\n",
       "  \"round\":true,\n",
       "  \"sec\":true,\n",
       "  \"sech\":true,\n",
       "  \"sign\":true,\n",
       "  \"sin\":true,\n",
       "  \"sinh\":true,\n",
       "  \"sqrt\":true,\n",
       "  \"tan\":true,\n",
       "  \"tanh\":true,\n",
       "  \"to_degrees\":true,\n",
       "  \"to_radians\":true,\n",
       "  \"truncate\":true,\n",
       "    \n",
       " \n",
       "  \"xor\":true};\n",
       "\n",
       "  var punc = \":;,.(){}[]\";\n",
       "\n",
       "  function tokenBase(stream, state) {\n",
       "    var ch = stream.next();\n",
       "    if (ch == '\"') {\n",
       "      state.tokenize.push(tokenString);\n",
       "      return tokenString(stream, state);\n",
       "    }\n",
       "    if (/[\\d\\.]/.test(ch)) {\n",
       "      if (ch == \".\") {\n",
       "        stream.match(/^[0-9]+([eE][\\-+]?[0-9]+)?/);\n",
       "      } else if (ch == \"0\") {\n",
       "        stream.match(/^[xX][0-9a-fA-F]+/) || stream.match(/^0[0-7]+/);\n",
       "      } else {\n",
       "        stream.match(/^[0-9]*\\.?[0-9]*([eE][\\-+]?[0-9]+)?/);\n",
       "      }\n",
       "      return \"number\";\n",
       "    }\n",
       "    if (ch == \"/\") {\n",
       "      if (stream.eat(\"*\")) {\n",
       "        state.tokenize.push(tokenComment);\n",
       "        return tokenComment(stream, state);\n",
       "      }\n",
       "    }\n",
       "    if (ch == \"%\") {\n",
       "      stream.skipToEnd();\n",
       "      return \"comment\";\n",
       "    }\n",
       "    if (isOperatorChar.test(ch)) {\n",
       "      stream.eatWhile(isOperatorChar);\n",
       "      return \"operator\";\n",
       "    }\n",
       "    if (punc.indexOf(ch) > -1) {\n",
       "      return \"punctuation\";\n",
       "    }\n",
       "    stream.eatWhile(/[\\w\\$_\\xa1-\\uffff]/);\n",
       "    var cur = stream.current();\n",
       "    if (keywords.propertyIsEnumerable(cur)) {\n",
       "      return \"keyword\";\n",
       "    }\n",
       "    return \"variable\";\n",
       "  }\n",
       "\n",
       "  function tokenComment(stream, state) {\n",
       "    var maybeEnd = false, ch;\n",
       "    while (ch = stream.next()) {\n",
       "      if (ch == \"/\" && maybeEnd) {\n",
       "        state.tokenize.pop();\n",
       "        break;\n",
       "      }\n",
       "      maybeEnd = (ch == \"*\");\n",
       "    }\n",
       "    return \"comment\";\n",
       "  }\n",
       "\n",
       "  function tokenUntilClosingParen() {\n",
       "    var depth = 0;\n",
       "    return function(stream, state, prev) {\n",
       "      var inner = tokenBase(stream, state, prev);\n",
       "      console.log(\"untilClosing\",inner,stream.current());\n",
       "      if (inner == \"punctuation\") {\n",
       "        if (stream.current() == \"(\") {\n",
       "          ++depth;\n",
       "        } else if (stream.current() == \")\") {\n",
       "          if (depth == 0) {\n",
       "            stream.backUp(1)\n",
       "            state.tokenize.pop()\n",
       "            return state.tokenize[state.tokenize.length - 1](stream, state)\n",
       "          } else {\n",
       "            --depth;\n",
       "          }\n",
       "        }\n",
       "      }\n",
       "      return inner;\n",
       "    }\n",
       "  }\n",
       "\n",
       "  function tokenString(stream, state) {\n",
       "    var escaped = false, next, end = false;\n",
       "    while ((next = stream.next()) != null) {\n",
       "      if (next=='(' && escaped) {\n",
       "        state.tokenize.push(tokenUntilClosingParen());\n",
       "        return \"string\";\n",
       "      }\n",
       "      if (next == '\"' && !escaped) {end = true; break;}\n",
       "      escaped = !escaped && next == \"\\\\\";\n",
       "    }\n",
       "    if (end || !escaped)\n",
       "      state.tokenize.pop();\n",
       "    return \"string\";\n",
       "  }\n",
       "\n",
       "  return {\n",
       "    startState: function(basecolumn) {\n",
       "      return {\n",
       "        tokenize: []\n",
       "      };\n",
       "    },\n",
       "\n",
       "    token: function(stream, state) {\n",
       "      if (stream.eatSpace()) return null;\n",
       "      var style = (state.tokenize[state.tokenize.length - 1] || tokenBase)(stream, state);\n",
       "      console.log(\"token\",style);\n",
       "      return style;\n",
       "    },\n",
       "\n",
       "    blockCommentStart: \"/*\",\n",
       "    blockCommentEnd: \"*/\",\n",
       "    lineComment: \"%\"\n",
       "  };\n",
       "});\n",
       "\n",
       "CodeMirror.defineMIME(\"text/picat\", \"text/picat\");\n",
       "\n",
       "Jupyter.CodeCell.options_default.highlight_modes['magic_text/picat'] = {'reg':[/^%%picat/]} ;\n",
       "\n",
       "Jupyter.notebook.get_cells().map(function(cell){\n",
       "  if (cell.cell_type == 'code'){ cell.auto_highlight(); }\n",
       "}) ;"
      ],
      "text/plain": [
       "<IPython.core.display.Javascript object>"
      ]
     },
     "metadata": {},
     "output_type": "display_data"
    },
    {
     "name": "stdout",
     "output_type": "stream",
     "text": [
      "Picat version 3.9\n"
     ]
    }
   ],
   "source": [
    "%load_ext ipicat"
   ]
  },
  {
   "cell_type": "code",
   "execution_count": 2,
   "id": "5fc03d85",
   "metadata": {
    "editable": true,
    "execution": {
     "iopub.execute_input": "2025-10-06T10:51:02.640182Z",
     "iopub.status.busy": "2025-10-06T10:51:02.639645Z",
     "iopub.status.idle": "2025-10-06T10:51:02.643093Z",
     "shell.execute_reply": "2025-10-06T10:51:02.642482Z"
    },
    "slideshow": {
     "slide_type": "fragment"
    },
    "tags": []
   },
   "outputs": [],
   "source": [
    "%%picat -n fib\n",
    "fib(0, F) => F = 0.\n",
    "fib(1, F) => F = 1.\n",
    "fib(N, F), N > 1 => fib(N - 1, F1), fib(N - 2, F2), F = F1 + F2.\n"
   ]
  },
  {
   "cell_type": "code",
   "execution_count": 3,
   "id": "c2dc9f76",
   "metadata": {
    "editable": true,
    "execution": {
     "iopub.execute_input": "2025-10-06T10:51:02.645275Z",
     "iopub.status.busy": "2025-10-06T10:51:02.645082Z",
     "iopub.status.idle": "2025-10-06T10:51:02.649387Z",
     "shell.execute_reply": "2025-10-06T10:51:02.648820Z"
    },
    "slideshow": {
     "slide_type": "fragment"
    },
    "tags": []
   },
   "outputs": [],
   "source": [
    "%%picat -n fib_tabled\n",
    "table\n",
    "fib_tabled(0, F) => F = 0.\n",
    "fib_tabled(1, F) => F = 1.\n",
    "fib_tabled(N, F), N > 1 => fib_tabled(N - 1, F1), fib_tabled(N - 2, F2), F = F1 + F2."
   ]
  },
  {
   "cell_type": "markdown",
   "id": "8a76b9a7",
   "metadata": {
    "editable": false,
    "slideshow": {
     "slide_type": "subslide"
    },
    "tags": []
   },
   "source": [
    "Compare the performance:"
   ]
  },
  {
   "cell_type": "code",
   "execution_count": 4,
   "id": "e2be0164",
   "metadata": {
    "editable": true,
    "execution": {
     "iopub.execute_input": "2025-10-06T10:51:02.651756Z",
     "iopub.status.busy": "2025-10-06T10:51:02.651559Z",
     "iopub.status.idle": "2025-10-06T10:51:28.459230Z",
     "shell.execute_reply": "2025-10-06T10:51:28.458513Z"
    },
    "slideshow": {
     "slide_type": "fragment"
    },
    "tags": []
   },
   "outputs": [
    {
     "name": "stdout",
     "output_type": "stream",
     "text": [
      "\n",
      "CPU time 0.001 seconds.\n",
      "\n",
      "267914296\n",
      "\n",
      "CPU time 25.785 seconds.\n",
      "\n",
      "267914296\n",
      "\n"
     ]
    }
   ],
   "source": [
    "%%picat\n",
    "main =>\n",
    "    time(fib_tabled(42, F)),\n",
    "    println(F),\n",
    "    time(fib(42, F)),\n",
    "    println(F)."
   ]
  },
  {
   "cell_type": "markdown",
   "id": "4f68b845",
   "metadata": {
    "editable": false,
    "slideshow": {
     "slide_type": "slide"
    },
    "tags": []
   },
   "source": [
    "## Example: shortest path\n",
    "\n",
    "Find the shortest path from source to target in a weighted digraph. Code from [the book](https://picat-lang.org/picatbook2015/constraint_solving_and_planning_with_picat.pdf):\n",
    "\n",
    "```\n",
    "table(+,+,-,min)\n",
    "\n",
    "sp(X,Y,Path,W) ?=>\n",
    "  Path = [(X,Y)],\n",
    "  edge(X,Y,W).\n",
    "\n",
    "sp(X,Y,Path,W) =>\n",
    "  Path = [(X,Z)|Path1],\n",
    "  edge(X,Z,Wxz),\n",
    "  sp(Z,Y,Path1,W1),\n",
    "  W = Wxz+W1.\n",
    "```\n",
    "Recall that `?=>` means a backtrackable rule. Consider the following simple instance:\n",
    "```\n",
    "index (+,-,-)\n",
    "edge(a,b,5).  \n",
    "edge(b,c,3).  \n",
    "edge(c,a,9).\n",
    "\n",
    "source(a).\n",
    "target(c).\n",
    "```"
   ]
  },
  {
   "cell_type": "code",
   "execution_count": 5,
   "id": "2b0b063d",
   "metadata": {
    "editable": true,
    "execution": {
     "iopub.execute_input": "2025-10-06T10:51:28.461537Z",
     "iopub.status.busy": "2025-10-06T10:51:28.461309Z",
     "iopub.status.idle": "2025-10-06T10:51:28.586269Z",
     "shell.execute_reply": "2025-10-06T10:51:28.583212Z"
    },
    "scrolled": true,
    "slideshow": {
     "slide_type": "subslide"
    },
    "tags": []
   },
   "outputs": [
    {
     "name": "stdout",
     "output_type": "stream",
     "text": [
      "edge(1, 2, 1).\r\n",
      "edge(1, 4, 8).\r\n",
      "edge(1, 7, 6).\r\n",
      "edge(2, 4, 2).\r\n",
      "edge(3, 2, 14).\r\n",
      "edge(3, 4, 10).\r\n",
      "edge(3, 5, 6).\r\n",
      "edge(3, 6, 19).\r\n",
      "edge(4, 5, 8).\r\n",
      "edge(4, 8, 13).\r\n",
      "edge(5, 8, 12).\r\n",
      "edge(6, 5, 7).\r\n",
      "edge(7, 4, 5).\r\n",
      "edge(8, 6, 4).\r\n",
      "edge(8, 7, 10).\r\n",
      "\r\n",
      "source(1).\r\n",
      "target(6).\r\n",
      "\r\n"
     ]
    }
   ],
   "source": [
    "!cat shortest-path/instance2.pi"
   ]
  },
  {
   "cell_type": "code",
   "execution_count": 6,
   "id": "e1a375f3-e614-4b5d-822f-e17a78b4d875",
   "metadata": {
    "editable": true,
    "execution": {
     "iopub.execute_input": "2025-10-06T10:51:28.593982Z",
     "iopub.status.busy": "2025-10-06T10:51:28.593756Z",
     "iopub.status.idle": "2025-10-06T10:51:28.727235Z",
     "shell.execute_reply": "2025-10-06T10:51:28.724138Z"
    },
    "slideshow": {
     "slide_type": ""
    },
    "tags": []
   },
   "outputs": [
    {
     "name": "stdout",
     "output_type": "stream",
     "text": [
      "path = [(1,2),(2,4),(4,8),(8,6)]\r\n",
      "w = 20\r\n"
     ]
    }
   ],
   "source": [
    "!picat shortest-path/shortest-path instance2"
   ]
  },
  {
   "cell_type": "code",
   "execution_count": 7,
   "id": "c114306d",
   "metadata": {
    "editable": true,
    "execution": {
     "iopub.execute_input": "2025-10-06T10:51:28.737446Z",
     "iopub.status.busy": "2025-10-06T10:51:28.736560Z",
     "iopub.status.idle": "2025-10-06T10:51:28.856245Z",
     "shell.execute_reply": "2025-10-06T10:51:28.853204Z"
    },
    "slideshow": {
     "slide_type": "subslide"
    },
    "tags": []
   },
   "outputs": [
    {
     "name": "stdout",
     "output_type": "stream",
     "text": [
      "% Adapted from Constraint Solving and Planning with Picat, Springer \r\n",
      "% by Neng-Fa Zhou, Hakan Kjellerstrand, and Jonathan Fruhman\r\n",
      "\r\n",
      "main([Filename]) =>\r\n",
      "  cl(Filename),\r\n",
      "  source(S),\r\n",
      "  target(T),\r\n",
      "  sp(S,T,Path,W),\r\n",
      "  println(path = Path),\r\n",
      "  println(w = W).\r\n",
      "\r\n",
      "\r\n",
      "table(+,+,-,min)\r\n",
      "\r\n",
      "sp(X,Y,Path,W) ?=>\r\n",
      "  Path = [(X,Y)],\r\n",
      "  edge(X,Y,W).\r\n",
      "\r\n",
      "sp(X,Y,Path,W) =>\r\n",
      "  Path = [(X,Z)|Path1],\r\n",
      "  edge(X,Z,Wxz),\r\n",
      "  sp(Z,Y,Path1,W1),\r\n",
      "  W = Wxz+W1.\r\n"
     ]
    }
   ],
   "source": [
    "!cat shortest-path/shortest-path.pi"
   ]
  },
  {
   "cell_type": "markdown",
   "id": "55096287",
   "metadata": {
    "editable": false,
    "slideshow": {
     "slide_type": "slide"
    },
    "tags": []
   },
   "source": [
    "## Table mode declaration\n",
    "\n",
    "We can tell Picat what to table using a _table mode declaration_:\n",
    "```\n",
    "table(s1,s2,...,sn)\n",
    "my_predicate(X1,...,Xn) => ...\n",
    "```\n",
    "where `si` is one of the following: \n",
    "* `+` : input, the row/column/etc. where to store\n",
    "* `-` : output, the value to store\n",
    "* `min` or `max` : objective, only store outputs with smallest/largest value of this\n",
    "* `nt`: not tabled, as if this argument was not passed; last coordinate only, you can use this for global data that do not change in the subproblems, or for arguments functionally dependent (1-1, easily computable) on the + arguments\n",
    "\n",
    "For example:\n",
    "```\n",
    "table(+,+,-,min)\n",
    "sp(X,Y,Path,W)\n",
    "```\n",
    "means for every $X$ and $Y$ store (only) the $\\mathrm{Path}$ with minimum weight $W$ (only rewrite $\\mathrm{Path}$ if its $W$ is smaller)."
   ]
  },
  {
   "cell_type": "markdown",
   "id": "6b1fd540",
   "metadata": {
    "editable": false,
    "slideshow": {
     "slide_type": "subslide"
    },
    "tags": []
   },
   "source": [
    "## Index declaration\n",
    "\n",
    "The _index declaration_ `index (+,-,-)` does not change semantics but facilitates faster lookup when unifying e.g. terms `edge(a,X,W)`, see [Wikipedia](https://en.wikipedia.org/wiki/Term_indexing). The `+` means that the corresponding coordinate is indexed (\"an input\"), `-` means not indexed (\"an output\"). There can be multiple index patterns, e.g. an undirected graph can be given as: \n",
    "```\n",
    "index (+,-) (-,+)\n",
    "edge(a,b).\n",
    "edge(a,c).\n",
    "edge(b,c).\n",
    "edge(c,b).\n",
    "```\n",
    "if we want to traverse the edges in both ways. (This example is from [the guide](http://picat-lang.org/download/picat_guide.pdf).)\n"
   ]
  },
  {
   "cell_type": "code",
   "execution_count": 8,
   "id": "d99dc0a1",
   "metadata": {
    "editable": true,
    "execution": {
     "iopub.execute_input": "2025-10-06T10:51:28.867015Z",
     "iopub.status.busy": "2025-10-06T10:51:28.866145Z",
     "iopub.status.idle": "2025-10-06T10:51:29.009577Z",
     "shell.execute_reply": "2025-10-06T10:51:29.006678Z"
    },
    "scrolled": true,
    "slideshow": {
     "slide_type": "subslide"
    },
    "tags": []
   },
   "outputs": [
    {
     "name": "stdout",
     "output_type": "stream",
     "text": [
      "% Adapted from Constraint Solving and Planning with Picat, Springer \r\n",
      "% by Neng-Fa Zhou, Hakan Kjellerstrand, and Jonathan Fruhman\r\n",
      "main ?=>\r\n",
      "    p(a,Y),\r\n",
      "    println(\"Y\" = Y).\r\n",
      "\r\n",
      "table(+,max)\r\n",
      "index (-,+)\r\n",
      "p(a,2).\r\n",
      "p(a,1).\r\n",
      "p(a,3).\r\n",
      "p(b,3).\r\n",
      "p(b,4).\r\n"
     ]
    }
   ],
   "source": [
    "!cat table-mode-example.pi"
   ]
  },
  {
   "cell_type": "code",
   "execution_count": 9,
   "id": "ccd2737d",
   "metadata": {
    "editable": true,
    "execution": {
     "iopub.execute_input": "2025-10-06T10:51:29.019910Z",
     "iopub.status.busy": "2025-10-06T10:51:29.019051Z",
     "iopub.status.idle": "2025-10-06T10:51:29.159277Z",
     "shell.execute_reply": "2025-10-06T10:51:29.156255Z"
    },
    "slideshow": {
     "slide_type": "fragment"
    },
    "tags": []
   },
   "outputs": [
    {
     "name": "stdout",
     "output_type": "stream",
     "text": [
      "Y = 3\r\n"
     ]
    }
   ],
   "source": [
    "!picat table-mode-example"
   ]
  },
  {
   "cell_type": "markdown",
   "id": "164f043a",
   "metadata": {
    "editable": true,
    "slideshow": {
     "slide_type": "slide"
    },
    "tags": []
   },
   "source": [
    "## Exercise: shortest shortest path\n",
    "\n",
    "Modify the above example so that among the minimum-weight paths, only one with minimum _length_, meaning number of edges, is chosen."
   ]
  },
  {
   "cell_type": "code",
   "execution_count": 10,
   "id": "1dae6572",
   "metadata": {
    "editable": true,
    "execution": {
     "iopub.execute_input": "2025-10-06T10:51:29.166865Z",
     "iopub.status.busy": "2025-10-06T10:51:29.166636Z",
     "iopub.status.idle": "2025-10-06T10:51:29.285503Z",
     "shell.execute_reply": "2025-10-06T10:51:29.282384Z"
    },
    "scrolled": true,
    "slideshow": {
     "slide_type": "fragment"
    },
    "tags": []
   },
   "outputs": [
    {
     "name": "stdout",
     "output_type": "stream",
     "text": [
      "index (+,-,-)\r\n",
      "\r\n",
      "edge(a,b,5).  \r\n",
      "edge(b,c,3).  \r\n",
      "edge(c,a,9).\r\n",
      "\r\n",
      "source(a).\r\n",
      "target(c)."
     ]
    }
   ],
   "source": [
    "!cat shortest-path/instance.pi"
   ]
  },
  {
   "cell_type": "code",
   "execution_count": 11,
   "id": "613228c7",
   "metadata": {
    "editable": true,
    "execution": {
     "iopub.execute_input": "2025-10-06T10:51:29.295602Z",
     "iopub.status.busy": "2025-10-06T10:51:29.294745Z",
     "iopub.status.idle": "2025-10-06T10:51:29.465664Z",
     "shell.execute_reply": "2025-10-06T10:51:29.462488Z"
    },
    "slideshow": {
     "slide_type": "fragment"
    },
    "tags": []
   },
   "outputs": [
    {
     "name": "stdout",
     "output_type": "stream",
     "text": [
      "path = [(a,b),(b,c)]\r\n",
      "w = (8,2)\r\n"
     ]
    }
   ],
   "source": [
    "!picat shortest-path/shortest-shortest-path instance"
   ]
  },
  {
   "cell_type": "code",
   "execution_count": 12,
   "id": "13e8ef7d",
   "metadata": {
    "editable": true,
    "execution": {
     "iopub.execute_input": "2025-10-06T10:51:29.473163Z",
     "iopub.status.busy": "2025-10-06T10:51:29.472936Z",
     "iopub.status.idle": "2025-10-06T10:51:29.719072Z",
     "shell.execute_reply": "2025-10-06T10:51:29.716004Z"
    },
    "slideshow": {
     "slide_type": "subslide"
    },
    "tags": []
   },
   "outputs": [
    {
     "name": "stdout",
     "output_type": "stream",
     "text": [
      "% this instance is unsatisfiable\r\n",
      "\r\n",
      "edge(2, 4, 2).\r\n",
      "edge(3, 2, 14).\r\n",
      "edge(3, 4, 10).\r\n",
      "edge(3, 5, 6).\r\n",
      "edge(3, 6, 19).\r\n",
      "edge(4, 5, 8).\r\n",
      "edge(4, 8, 13).\r\n",
      "edge(5, 8, 12).\r\n",
      "edge(6, 5, 7).\r\n",
      "edge(7, 4, 5).\r\n",
      "edge(8, 6, 4).\r\n",
      "edge(8, 7, 10).\r\n",
      "\r\n",
      "source(1).\r\n",
      "target(6).\r\n",
      "\r\n",
      "\r\n",
      "*** error(failed,main/1)\r\n",
      "\r\n",
      "\r\n"
     ]
    }
   ],
   "source": [
    "!cat shortest-path/instance3.pi\n",
    "!picat shortest-path/shortest-shortest-path instance3"
   ]
  },
  {
   "cell_type": "code",
   "execution_count": 13,
   "id": "fb1db534",
   "metadata": {
    "execution": {
     "iopub.execute_input": "2025-10-06T10:51:29.729121Z",
     "iopub.status.busy": "2025-10-06T10:51:29.728237Z",
     "iopub.status.idle": "2025-10-06T10:51:29.870769Z",
     "shell.execute_reply": "2025-10-06T10:51:29.867710Z"
    },
    "scrolled": true,
    "slideshow": {
     "slide_type": "subslide"
    }
   },
   "outputs": [
    {
     "name": "stdout",
     "output_type": "stream",
     "text": [
      "% Adapted from Constraint Solving and Planning with Picat, Springer \r\n",
      "% by Neng-Fa Zhou, Hakan Kjellerstrand, and Jonathan Fruhman\r\n",
      "\r\n",
      "main([Filename]) =>\r\n",
      "  cl(Filename),\r\n",
      "  source(S),\r\n",
      "  target(T),\r\n",
      "  ssp(S,T,Path,W),\r\n",
      "  println(path = Path),\r\n",
      "  println(w = W).\r\n",
      "\r\n",
      "table(+,+,-,min)\r\n",
      "\r\n",
      "ssp(X,Y,Path,WL) ?=>\r\n",
      "  Path = [(X,Y)],\r\n",
      "  WL = (Wxy,1),\r\n",
      "  edge(X,Y,Wxy).\r\n",
      "\r\n",
      "ssp(X,Y,Path,WL) =>\r\n",
      "  Path = [(X,Z)|Path1],\r\n",
      "  edge(X,Z,Wxz),\r\n",
      "  ssp(Z,Y,Path1,WL1),\r\n",
      "  WL1 = (Wzy,Len1),\r\n",
      "  WL = (Wxz+Wzy,Len1+1).\r\n",
      "\r\n",
      "% The order in `WL = (Weight, Length)` matters, otherwise we would choose minimum-weight path among minimum-edges paths.\r\n"
     ]
    }
   ],
   "source": [
    "!cat shortest-path/shortest-shortest-path.pi"
   ]
  },
  {
   "cell_type": "markdown",
   "id": "c0c2689d",
   "metadata": {
    "editable": true,
    "slideshow": {
     "slide_type": "slide"
    },
    "tags": []
   },
   "source": [
    "## Exercise: edit distance\n",
    "\n",
    "Find the (length of the) shortest sequence of edit operations that transform `Source` string to `Target` string. There are two types of edit operations allowed:\n",
    "* insert: insert a single character (at any position)\n",
    "* delete: delete a single character (at any position)\n",
    "\n",
    "Once you can compute the distance, try also outputing the sequence of operations."
   ]
  },
  {
   "cell_type": "code",
   "execution_count": 14,
   "id": "eb3e64fc",
   "metadata": {
    "editable": true,
    "execution": {
     "iopub.execute_input": "2025-10-06T10:51:29.878177Z",
     "iopub.status.busy": "2025-10-06T10:51:29.877948Z",
     "iopub.status.idle": "2025-10-06T10:51:30.008860Z",
     "shell.execute_reply": "2025-10-06T10:51:30.005807Z"
    },
    "slideshow": {
     "slide_type": "fragment"
    },
    "tags": []
   },
   "outputs": [
    {
     "name": "stdout",
     "output_type": "stream",
     "text": [
      "dist = 4\r\n",
      "[del(2,a),del(2,t),ins(3,n),del(4,r)]\r\n"
     ]
    }
   ],
   "source": [
    "# this should output 4\n",
    "!picat edit-distance/edit.pi saturday sunday"
   ]
  },
  {
   "cell_type": "code",
   "execution_count": 15,
   "id": "c3781ce7",
   "metadata": {
    "editable": true,
    "execution": {
     "iopub.execute_input": "2025-10-06T10:51:30.018753Z",
     "iopub.status.busy": "2025-10-06T10:51:30.017889Z",
     "iopub.status.idle": "2025-10-06T10:51:30.160002Z",
     "shell.execute_reply": "2025-10-06T10:51:30.157035Z"
    },
    "scrolled": true,
    "slideshow": {
     "slide_type": "subslide"
    },
    "tags": []
   },
   "outputs": [
    {
     "name": "stdout",
     "output_type": "stream",
     "text": [
      "% Adapted from Constraint Solving and Planning with Picat, Springer \r\n",
      "% by Neng-Fa Zhou, Hakan Kjellerstrand, and Jonathan Fruhman\r\n",
      "\r\n",
      "main([Source, Target]) =>\r\n",
      "\tedit(Source, Target, Distance, Seq, 1),\r\n",
      "\twriteln(dist=Distance),\r\n",
      "\twriteln(Seq).\r\n",
      "\r\n",
      "table(+,+,min)\r\n",
      "\r\n",
      "% base\r\n",
      "edit([],[],D,Seq, I) => \r\n",
      "\tD=0, \r\n",
      "\tSeq=[].\r\n",
      "\r\n",
      "% match \r\n",
      "edit([X|P],[X|T],D,Seq,I) =>   \r\n",
      "\tedit(P,T,D,Seq,I+1).\r\n",
      "\r\n",
      "% insert\r\n",
      "edit(P,[X|T],D,Seq,I) ?=>      \r\n",
      "\tedit(P,T,D1,Seq1,I+1),\r\n",
      "\tSeq=[$ins(I,X)|Seq1],\r\n",
      "\tD=D1+1.\r\n",
      "\r\n",
      "% delete\r\n",
      "edit([X|P],T,D,Seq,I) =>       \r\n",
      "\tedit(P,T,D1,Seq1,I),\r\n",
      "\tSeq=[$del(I,X)|Seq1],\r\n",
      "\tD=D1+1.\r\n"
     ]
    }
   ],
   "source": [
    "!cat edit-distance/edit.pi"
   ]
  },
  {
   "cell_type": "markdown",
   "id": "efc4adc8",
   "metadata": {
    "slideshow": {
     "slide_type": "slide"
    }
   },
   "source": [
    "## Exercise: 01-knapsack\n",
    "\n",
    "Write a dynamic program for the 01-knapsack problem."
   ]
  },
  {
   "cell_type": "code",
   "execution_count": 16,
   "id": "4251649a",
   "metadata": {
    "execution": {
     "iopub.execute_input": "2025-10-06T10:51:30.170124Z",
     "iopub.status.busy": "2025-10-06T10:51:30.169270Z",
     "iopub.status.idle": "2025-10-06T10:51:30.314451Z",
     "shell.execute_reply": "2025-10-06T10:51:30.311344Z"
    },
    "slideshow": {
     "slide_type": "fragment"
    }
   },
   "outputs": [
    {
     "name": "stdout",
     "output_type": "stream",
     "text": [
      "instance(ItemNames, Capacity, Values, Weights) =>\r\n",
      "    ItemNames = {\"tv\", \"desktop\", \"laptop\", \"tablet\", \"vase\", \"bottle\", \"jacket\"},\r\n",
      "    Capacity = 23,\r\n",
      "    Values = {500,350,230,115,180,75,125},\r\n",
      "    Weights = {15,11,5,1,7,3,4}."
     ]
    }
   ],
   "source": [
    "!cat knapsack/instance.pi"
   ]
  },
  {
   "cell_type": "code",
   "execution_count": 17,
   "id": "b6222b84",
   "metadata": {
    "editable": true,
    "execution": {
     "iopub.execute_input": "2025-10-06T10:51:30.322021Z",
     "iopub.status.busy": "2025-10-06T10:51:30.321799Z",
     "iopub.status.idle": "2025-10-06T10:51:30.457015Z",
     "shell.execute_reply": "2025-10-06T10:51:30.453909Z"
    },
    "scrolled": true,
    "slideshow": {
     "slide_type": "subslide"
    },
    "tags": []
   },
   "outputs": [
    {
     "name": "stdout",
     "output_type": "stream",
     "text": [
      "total = 845\r\n",
      "(tv,500,15)\r\n",
      "(laptop,230,5)\r\n",
      "(tablet,115,1)\r\n"
     ]
    }
   ],
   "source": [
    "!picat knapsack/knapsack instance"
   ]
  },
  {
   "cell_type": "code",
   "execution_count": 18,
   "id": "c1ac4314",
   "metadata": {
    "editable": true,
    "execution": {
     "iopub.execute_input": "2025-10-06T10:51:30.464806Z",
     "iopub.status.busy": "2025-10-06T10:51:30.464587Z",
     "iopub.status.idle": "2025-10-06T10:51:30.581516Z",
     "shell.execute_reply": "2025-10-06T10:51:30.578424Z"
    },
    "slideshow": {
     "slide_type": "subslide"
    },
    "tags": []
   },
   "outputs": [
    {
     "name": "stdout",
     "output_type": "stream",
     "text": [
      "cat: knapsack/knapsack: No such file or directory\r\n"
     ]
    }
   ],
   "source": [
    "!cat knapsack/knapsack"
   ]
  }
 ],
 "metadata": {
  "celltoolbar": "Slideshow",
  "kernelspec": {
   "display_name": "Python 3 (ipykernel)",
   "language": "python",
   "name": "python3"
  },
  "language_info": {
   "codemirror_mode": {
    "name": "ipython",
    "version": 3
   },
   "file_extension": ".py",
   "mimetype": "text/x-python",
   "name": "python",
   "nbconvert_exporter": "python",
   "pygments_lexer": "ipython3",
   "version": "3.10.18"
  },
  "vscode": {
   "interpreter": {
    "hash": "916dbcbb3f70747c44a77c7bcd40155683ae19c65e1c03b4aa3499c5328201f1"
   }
  }
 },
 "nbformat": 4,
 "nbformat_minor": 5
}
