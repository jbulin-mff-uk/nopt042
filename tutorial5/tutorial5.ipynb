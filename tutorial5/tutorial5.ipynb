{
 "cells": [
  {
   "cell_type": "markdown",
   "id": "0d8742c9",
   "metadata": {
    "editable": false,
    "slideshow": {
     "slide_type": "slide"
    },
    "tags": []
   },
   "source": [
    "# NOPT042 Constraint programming: Tutorial 5 – Advanced constraint modelling"
   ]
  },
  {
   "cell_type": "markdown",
   "id": "d20a7bd5-c710-4027-ac06-3c16a054d506",
   "metadata": {
    "editable": false,
    "slideshow": {
     "slide_type": "subslide"
    },
    "tags": []
   },
   "source": [
    "### What was in the lecture? Nothing, the lecture was canceled."
   ]
  },
  {
   "cell_type": "markdown",
   "id": "f7243c29",
   "metadata": {
    "slideshow": {
     "slide_type": "slide"
    },
    "tags": []
   },
   "source": [
    " ## The element constraint\n",
    "\n",
    "Picat doesn't support indexation in constraints, e.g. `X #= L[I]`. Instead, it implements the `element` constraint:\n",
    "```\n",
    "element(I, L, X)\n",
    "```\n",
    "(\"X is on the Ith position in the list L\"). But this constraint can also be used for \"reverse indexing\": when we have X and want to find its position in L. The constraint doesn't care about the direction; this is called _bidirectionality_.\n",
    "\n",
    "For matrices (2D arrays), `Matrix[I,J]#=X` is expressed using the following constraint:\n",
    "```\n",
    "matrix_element(Matrix,I,J,X)\n",
    "```"
   ]
  },
  {
   "cell_type": "code",
   "execution_count": 1,
   "id": "1a103abf",
   "metadata": {
    "editable": true,
    "execution": {
     "iopub.execute_input": "2025-10-06T10:43:14.444299Z",
     "iopub.status.busy": "2025-10-06T10:43:14.443548Z",
     "iopub.status.idle": "2025-10-06T10:43:14.463558Z",
     "shell.execute_reply": "2025-10-06T10:43:14.463008Z"
    },
    "scrolled": true,
    "slideshow": {
     "slide_type": "subslide"
    },
    "tags": []
   },
   "outputs": [
    {
     "data": {
      "application/javascript": [
       "\"use strict\";\n",
       "\n",
       "CodeMirror.defineMode(\"text/picat\", function(config) {\n",
       "\n",
       "  var isOperatorChar = /[+\\-*=\\@\\&|\\:#<>\\/]/;\n",
       "\n",
       "  var keywords = {\"else\":true,\n",
       "  \"end\":true,\n",
       "  \"foreach\":true,\n",
       "  \"if\":true,\n",
       "  \"in\":true,\n",
       "  \"then\":true\n",
       "  }\n",
       "\n",
       "  var specials = {\"acyclic_term\":true,\n",
       "  \"and_to_list\":true,\n",
       "  \"append\":true,\n",
       "  \"apply\":true,\n",
       "  \"arity\":true,\n",
       "  \"array\":true,\n",
       "  \"atom\":true,\n",
       "  \"atom_chars\":true,\n",
       "  \"atom_codes\":true,\n",
       "  \"atomic\":true,\n",
       "  \"attr_var\":true,\n",
       "  \"between\":true,\n",
       "  \"bind_vars\":true,\n",
       "  \"call\":true,\n",
       "  \"call_cleanup\":true,\n",
       "  \"catch\":true,\n",
       "  \"char\":true,\n",
       "  \"chr\":true,\n",
       "  \"clear\":true,\n",
       "  \"compare_terms\":true,\n",
       "  \"compound\":true,\n",
       "  \"copy_term\":true,\n",
       "  \"count_all\":true,\n",
       "  \"delete\":true,\n",
       "  \"delete_all\":true,\n",
       "  \"different_term\":true,\n",
       "  \"digit\":true,\n",
       "  \"div\":true,\n",
       "  \"dvar\":true,\n",
       "  \"dvar_or_int\":true,\n",
       "//   \"end\":true,\n",
       "  \"fail\":true,\n",
       "  \"false\":true,\n",
       "  \"find_all\":true,\n",
       "  \"findall\":true,\n",
       "  \"first\":true,\n",
       "  \"flatten\":true,\n",
       "  \"float\":true,\n",
       "  \"fold\":true,\n",
       "//   \"foreach\":true,\n",
       "  \"freeze\":true,\n",
       "  \"get\":true,\n",
       "  \"get_attr\":true,\n",
       "  \"get_global_map\":true,\n",
       "  \"get_heap_map\":true,\n",
       "  \"get_table_map\":true,\n",
       "  \"ground\":true,\n",
       "  \"handle_exception\":true,\n",
       "  \"has_key\":true,\n",
       "  \"hash_code\":true,\n",
       "  \"head\":true,\n",
       "  \"heap_is_empty\":true,\n",
       "  \"heap_pop\":true,\n",
       "  \"heap_push\":true,\n",
       "  \"heap_size\":true,\n",
       "  \"heap_to_list\":true,\n",
       "  \"heap_top\":true,\n",
       "  \"import\":true,    \n",
       "//   \"in\":true,\n",
       "  \"insert\":true,\n",
       "  \"insert_all\":true,\n",
       "  \"insert_ordered\":true,\n",
       "  \"insert_ordered_down\":true,\n",
       "  \"int\":true,\n",
       "  \"integer\":true,\n",
       "  \"is\":true,\n",
       "  \"keys\":true,\n",
       "  \"last\":true,\n",
       "  \"len\":true,\n",
       "  \"length\":true,\n",
       "  \"list\":true,\n",
       "  \"list_to_and\":true,\n",
       "  \"lowercase\":true,\n",
       "  \"map\":true,\n",
       "  \"map_to_list\":true,\n",
       "  \"max\":true,\n",
       "  \"maxint_small\":true,\n",
       "  \"maxof\":true,\n",
       "  \"maxof_inc\":true,\n",
       "  \"membchk\":true,\n",
       "  \"member\":true,\n",
       "  \"min\":true,\n",
       "  \"minint_small\":true,\n",
       "  \"minof\":true,\n",
       "  \"minof_inc\":true,\n",
       "  \"mod\":true,\n",
       "  \"name\":true,\n",
       "  \"new_array\":true,\n",
       "  \"new_list\":true,\n",
       "  \"new_map\":true,\n",
       "  \"new_max_heap\":true,\n",
       "  \"new_min_heap\":true,\n",
       "  \"new_set\":true,\n",
       "  \"new_struct\":true,\n",
       "  \"nonvar\":true,\n",
       "  \"not\":true,\n",
       "  \"notin\":true,\n",
       "  \"nth\":true,\n",
       "  \"number\":true,\n",
       "  \"number_char\":true,\n",
       "  \"number_codes\":true,\n",
       "  \"number_vars\":true,\n",
       "  \"once\":true,\n",
       "  \"ord\":true,\n",
       "  \"parse_radix_string\":true,\n",
       "  \"parse_term\":true,\n",
       "  \"post_event\":true,\n",
       "  \"post_event_any\":true,\n",
       "  \"post_event_bound\":true,\n",
       "  \"post_event_dom\":true,\n",
       "  \"post_event_ins\":true,\n",
       "  \"print\":true,\n",
       "  \"println\":true,\n",
       "  \"prod\":true,\n",
       "  \"put\":true,\n",
       "  \"put_attr\":true,\n",
       "  \"real\":true,\n",
       "  \"reduce\":true,\n",
       "  \"rem\":true,\n",
       "  \"remove_dumps\":true,\n",
       "  \"repeat\":true,\n",
       "  \"reverse\":true,\n",
       "  \"second\":true,\n",
       "  \"select\":true,\n",
       "  \"size\":true,\n",
       "  \"slice\":true,\n",
       "  \"sort\":true,\n",
       "  \"sort_down\":true,\n",
       "  \"sort_down_remove_dups\":true,\n",
       "  \"sort_remove_dups\":true,\n",
       "  \"sorted\":true,\n",
       "  \"sorted_down\":true,\n",
       "  \"string\":true,\n",
       "  \"struct\":true,\n",
       "  \"subsumes\":true,\n",
       "  \"sum\":true,\n",
       "  \"tail\":true,\n",
       "  \"throw\":true,\n",
       "  \"to_array\":true,\n",
       "  \"to_atom\":true,\n",
       "  \"to_binary_string\":true,\n",
       "  \"to_code\":true,\n",
       "  \"to_fstring\":true,\n",
       "  \"to_hex_string\":true,\n",
       "  \"to_int\":true,\n",
       "  \"to_integer\":true,\n",
       "  \"to_list\":true,\n",
       "  \"to_lowercase\":true,\n",
       "  \"to_number\":true,\n",
       "  \"to_oct_string\":true,\n",
       "  \"to_radix_string\":true,\n",
       "  \"to_real\":true,\n",
       "  \"to_string\":true,\n",
       "  \"to_uppercase\":true,\n",
       "  \"true\":true,\n",
       "  \"uppercase\":true,\n",
       "  \"values\":true,\n",
       "  \"var\":true,\n",
       "  \"variant\":true,\n",
       "  \"vars\":true,\n",
       "  \"zip\":true,\n",
       "\n",
       "  \"abs\":true,\n",
       "  \"acos\":true,\n",
       "  \"acosh\":true,\n",
       "  \"acot\":true,\n",
       "  \"acoth\":true,\n",
       "  \"acsc\":true,\n",
       "  \"acsch\":true,\n",
       "  \"asec\":true,\n",
       "  \"asech\":true,\n",
       "  \"asin\":true,\n",
       "  \"asinh\":true,\n",
       "  \"atan\":true,\n",
       "  \"atan2\":true,\n",
       "  \"atanh\":true,\n",
       "  \"ceiling\":true,\n",
       "  \"cos\":true,\n",
       "  \"cosh\":true,\n",
       "  \"cot\":true,\n",
       "  \"coth\":true,\n",
       "  \"csc\":true,\n",
       "  \"csch\":true,\n",
       "  \"e\":true,\n",
       "  \"even\":true,\n",
       "  \"exp\":true,\n",
       "  \"floor\":true,\n",
       "  \"frand\":true,\n",
       "  \"gcd\":true,\n",
       "  \"log\":true,\n",
       "  \"log10\":true,\n",
       "  \"log2\":true,\n",
       "  \"modf\":true,\n",
       "  \"odd\":true,\n",
       "  \"pi\":true,\n",
       "  \"pow\":true,\n",
       "  \"pow_mod\":true,\n",
       "  \"prime\":true,\n",
       "  \"primes\":true,\n",
       "  \"max\":true,\n",
       "  \"random\":true,\n",
       "  \"random2\":true,\n",
       "  \"round\":true,\n",
       "  \"sec\":true,\n",
       "  \"sech\":true,\n",
       "  \"sign\":true,\n",
       "  \"sin\":true,\n",
       "  \"sinh\":true,\n",
       "  \"sqrt\":true,\n",
       "  \"tan\":true,\n",
       "  \"tanh\":true,\n",
       "  \"to_degrees\":true,\n",
       "  \"to_radians\":true,\n",
       "  \"truncate\":true,\n",
       "    \n",
       " \n",
       "  \"xor\":true};\n",
       "\n",
       "  var punc = \":;,.(){}[]\";\n",
       "\n",
       "  function tokenBase(stream, state) {\n",
       "    var ch = stream.next();\n",
       "    if (ch == '\"') {\n",
       "      state.tokenize.push(tokenString);\n",
       "      return tokenString(stream, state);\n",
       "    }\n",
       "    if (/[\\d\\.]/.test(ch)) {\n",
       "      if (ch == \".\") {\n",
       "        stream.match(/^[0-9]+([eE][\\-+]?[0-9]+)?/);\n",
       "      } else if (ch == \"0\") {\n",
       "        stream.match(/^[xX][0-9a-fA-F]+/) || stream.match(/^0[0-7]+/);\n",
       "      } else {\n",
       "        stream.match(/^[0-9]*\\.?[0-9]*([eE][\\-+]?[0-9]+)?/);\n",
       "      }\n",
       "      return \"number\";\n",
       "    }\n",
       "    if (ch == \"/\") {\n",
       "      if (stream.eat(\"*\")) {\n",
       "        state.tokenize.push(tokenComment);\n",
       "        return tokenComment(stream, state);\n",
       "      }\n",
       "    }\n",
       "    if (ch == \"%\") {\n",
       "      stream.skipToEnd();\n",
       "      return \"comment\";\n",
       "    }\n",
       "    if (isOperatorChar.test(ch)) {\n",
       "      stream.eatWhile(isOperatorChar);\n",
       "      return \"operator\";\n",
       "    }\n",
       "    if (punc.indexOf(ch) > -1) {\n",
       "      return \"punctuation\";\n",
       "    }\n",
       "    stream.eatWhile(/[\\w\\$_\\xa1-\\uffff]/);\n",
       "    var cur = stream.current();\n",
       "    if (keywords.propertyIsEnumerable(cur)) {\n",
       "      return \"keyword\";\n",
       "    }\n",
       "    return \"variable\";\n",
       "  }\n",
       "\n",
       "  function tokenComment(stream, state) {\n",
       "    var maybeEnd = false, ch;\n",
       "    while (ch = stream.next()) {\n",
       "      if (ch == \"/\" && maybeEnd) {\n",
       "        state.tokenize.pop();\n",
       "        break;\n",
       "      }\n",
       "      maybeEnd = (ch == \"*\");\n",
       "    }\n",
       "    return \"comment\";\n",
       "  }\n",
       "\n",
       "  function tokenUntilClosingParen() {\n",
       "    var depth = 0;\n",
       "    return function(stream, state, prev) {\n",
       "      var inner = tokenBase(stream, state, prev);\n",
       "      console.log(\"untilClosing\",inner,stream.current());\n",
       "      if (inner == \"punctuation\") {\n",
       "        if (stream.current() == \"(\") {\n",
       "          ++depth;\n",
       "        } else if (stream.current() == \")\") {\n",
       "          if (depth == 0) {\n",
       "            stream.backUp(1)\n",
       "            state.tokenize.pop()\n",
       "            return state.tokenize[state.tokenize.length - 1](stream, state)\n",
       "          } else {\n",
       "            --depth;\n",
       "          }\n",
       "        }\n",
       "      }\n",
       "      return inner;\n",
       "    }\n",
       "  }\n",
       "\n",
       "  function tokenString(stream, state) {\n",
       "    var escaped = false, next, end = false;\n",
       "    while ((next = stream.next()) != null) {\n",
       "      if (next=='(' && escaped) {\n",
       "        state.tokenize.push(tokenUntilClosingParen());\n",
       "        return \"string\";\n",
       "      }\n",
       "      if (next == '\"' && !escaped) {end = true; break;}\n",
       "      escaped = !escaped && next == \"\\\\\";\n",
       "    }\n",
       "    if (end || !escaped)\n",
       "      state.tokenize.pop();\n",
       "    return \"string\";\n",
       "  }\n",
       "\n",
       "  return {\n",
       "    startState: function(basecolumn) {\n",
       "      return {\n",
       "        tokenize: []\n",
       "      };\n",
       "    },\n",
       "\n",
       "    token: function(stream, state) {\n",
       "      if (stream.eatSpace()) return null;\n",
       "      var style = (state.tokenize[state.tokenize.length - 1] || tokenBase)(stream, state);\n",
       "      console.log(\"token\",style);\n",
       "      return style;\n",
       "    },\n",
       "\n",
       "    blockCommentStart: \"/*\",\n",
       "    blockCommentEnd: \"*/\",\n",
       "    lineComment: \"%\"\n",
       "  };\n",
       "});\n",
       "\n",
       "CodeMirror.defineMIME(\"text/picat\", \"text/picat\");\n",
       "\n",
       "Jupyter.CodeCell.options_default.highlight_modes['magic_text/picat'] = {'reg':[/^%%picat/]} ;\n",
       "\n",
       "Jupyter.notebook.get_cells().map(function(cell){\n",
       "  if (cell.cell_type == 'code'){ cell.auto_highlight(); }\n",
       "}) ;"
      ],
      "text/plain": [
       "<IPython.core.display.Javascript object>"
      ]
     },
     "metadata": {},
     "output_type": "display_data"
    },
    {
     "name": "stdout",
     "output_type": "stream",
     "text": [
      "Picat version 3.9\n"
     ]
    }
   ],
   "source": [
    "%load_ext ipicat"
   ]
  },
  {
   "cell_type": "code",
   "execution_count": 2,
   "id": "ce4bc516",
   "metadata": {
    "editable": true,
    "execution": {
     "iopub.execute_input": "2025-10-06T10:43:14.465916Z",
     "iopub.status.busy": "2025-10-06T10:43:14.465704Z",
     "iopub.status.idle": "2025-10-06T10:43:14.484103Z",
     "shell.execute_reply": "2025-10-06T10:43:14.483535Z"
    },
    "slideshow": {
     "slide_type": "fragment"
    },
    "tags": []
   },
   "outputs": [
    {
     "name": "stdout",
     "output_type": "stream",
     "text": [
      "{0,1,2,3,4,6,7,8,9,5}\n",
      "\n"
     ]
    }
   ],
   "source": [
    "%%picat\n",
    "import cp.\n",
    "\n",
    "main =>\n",
    "    L = new_array(10),\n",
    "    L :: 0..9,\n",
    "    all_different(L),\n",
    "    % X #= L[I], % this does not work, use element instead\n",
    "    element(I, L, X),    \n",
    "    X #= 5,\n",
    "    solve($[max(I)],L),\n",
    "    println(L)."
   ]
  },
  {
   "cell_type": "markdown",
   "id": "0a4c6a3d",
   "metadata": {
    "editable": false,
    "slideshow": {
     "slide_type": "subslide"
    },
    "tags": []
   },
   "source": [
    "### Exercise: Langford's pairing"
   ]
  },
  {
   "cell_type": "markdown",
   "id": "6e1b4d69",
   "metadata": {
    "editable": true,
    "slideshow": {
     "slide_type": "fragment"
    },
    "tags": []
   },
   "source": [
    "Consider the following problem (see [the book](http://picat-lang.org/picatbook2015/constraint_solving_and_planning_with_picat.pdf) and [Wikipedia](https://en.wikipedia.org/wiki/Langford_pairing)):\n",
    "\n",
    "> Consider two sets of the numbers from 1 to $N$. The problem is to arrange the $2N$ numbers\n",
    "in the two sets into a single sequence in which the two 1’s appear one number apart, the\n",
    "two 2’s appear two numbers apart, the two 3’s appear three numbers apart, etc.\n",
    "\n",
    "E.g. `23421314` for `n=4`.\n",
    "\n",
    "Try to formulate a model for this problem."
   ]
  },
  {
   "cell_type": "code",
   "execution_count": 3,
   "id": "fdf45899-db0f-40fa-9ad2-82d175337935",
   "metadata": {
    "editable": true,
    "execution": {
     "iopub.execute_input": "2025-10-06T10:43:14.486315Z",
     "iopub.status.busy": "2025-10-06T10:43:14.486130Z",
     "iopub.status.idle": "2025-10-06T10:43:14.604651Z",
     "shell.execute_reply": "2025-10-06T10:43:14.601617Z"
    },
    "slideshow": {
     "slide_type": "subslide"
    },
    "tags": []
   },
   "outputs": [
    {
     "name": "stdout",
     "output_type": "stream",
     "text": [
      "langford-channeling.pi\tlangford-primal.pi\r\n",
      "langford-dual.pi\tlangford-primal-search-strategy.pi\r\n"
     ]
    }
   ],
   "source": [
    "!ls exercises/langford/.solution/"
   ]
  },
  {
   "cell_type": "code",
   "execution_count": 4,
   "id": "aca50d8d",
   "metadata": {
    "editable": true,
    "execution": {
     "iopub.execute_input": "2025-10-06T10:43:14.612491Z",
     "iopub.status.busy": "2025-10-06T10:43:14.612257Z",
     "iopub.status.idle": "2025-10-06T10:43:16.729364Z",
     "shell.execute_reply": "2025-10-06T10:43:16.726328Z"
    },
    "scrolled": true,
    "slideshow": {
     "slide_type": "fragment"
    },
    "tags": []
   },
   "outputs": [
    {
     "name": "stdout",
     "output_type": "stream",
     "text": [
      "Default search strategy:{1,3,1,6,7,3,8,5,2,4,6,2,7,5,4,8}\r\n"
     ]
    }
   ],
   "source": [
    "!picat exercises/langford/.solution/langford-primal 8"
   ]
  },
  {
   "cell_type": "code",
   "execution_count": 5,
   "id": "c31b25a2-ec85-4d33-adae-41e7cc66e177",
   "metadata": {
    "editable": true,
    "execution": {
     "iopub.execute_input": "2025-10-06T10:43:16.737321Z",
     "iopub.status.busy": "2025-10-06T10:43:16.737075Z",
     "iopub.status.idle": "2025-10-06T10:43:16.989796Z",
     "shell.execute_reply": "2025-10-06T10:43:16.986763Z"
    },
    "slideshow": {
     "slide_type": "fragment"
    },
    "tags": []
   },
   "outputs": [
    {
     "name": "stdout",
     "output_type": "stream",
     "text": [
      "Good search strategy:{2,4,7,2,8,6,4,1,5,1,7,3,6,8,5,3}\r\n"
     ]
    }
   ],
   "source": [
    "!picat exercises/langford/.solution/langford-primal-search-strategy 8"
   ]
  },
  {
   "cell_type": "code",
   "execution_count": 6,
   "id": "ef6a0dc3",
   "metadata": {
    "editable": true,
    "execution": {
     "iopub.execute_input": "2025-10-06T10:43:16.999565Z",
     "iopub.status.busy": "2025-10-06T10:43:16.998710Z",
     "iopub.status.idle": "2025-10-06T10:43:17.139861Z",
     "shell.execute_reply": "2025-10-06T10:43:17.136936Z"
    },
    "scrolled": true,
    "slideshow": {
     "slide_type": "fragment"
    },
    "tags": []
   },
   "outputs": [
    {
     "name": "stdout",
     "output_type": "stream",
     "text": [
      "Positions: {1,4,8,11,9,6,2,5,3,7,12,16,15,13,10,14}\r\n"
     ]
    }
   ],
   "source": [
    "!picat exercises/langford/.solution/langford-dual 8"
   ]
  },
  {
   "cell_type": "code",
   "execution_count": 7,
   "id": "978d6b35-b0c9-40f6-a6a2-34f968b0d1f4",
   "metadata": {
    "editable": true,
    "execution": {
     "iopub.execute_input": "2025-10-06T10:43:17.147396Z",
     "iopub.status.busy": "2025-10-06T10:43:17.147174Z",
     "iopub.status.idle": "2025-10-06T10:43:20.256309Z",
     "shell.execute_reply": "2025-10-06T10:43:20.255533Z"
    },
    "scrolled": true,
    "slideshow": {
     "slide_type": "fragment"
    },
    "tags": []
   },
   "outputs": [
    {
     "name": "stdout",
     "output_type": "stream",
     "text": [
      "\r\n",
      "CPU time 2.972 seconds. Backtracks: 250746\r\n",
      "\r\n",
      "{1,3,1,6,7,3,8,5,2,4,6,2,7,5,4,8}\r\n",
      "Positions: {1,9,2,10,8,4,5,7,3,12,6,15,14,11,13,16}\r\n"
     ]
    }
   ],
   "source": [
    "!picat exercises/langford/.solution/langford-channeling 8"
   ]
  },
  {
   "cell_type": "code",
   "execution_count": 8,
   "id": "091e4c89",
   "metadata": {
    "editable": true,
    "execution": {
     "iopub.execute_input": "2025-10-06T10:43:20.259034Z",
     "iopub.status.busy": "2025-10-06T10:43:20.258729Z",
     "iopub.status.idle": "2025-10-06T10:43:30.444697Z",
     "shell.execute_reply": "2025-10-06T10:43:30.441774Z"
    },
    "scrolled": true,
    "slideshow": {
     "slide_type": "fragment"
    },
    "tags": []
   },
   "outputs": [
    {
     "name": "stdout",
     "output_type": "stream",
     "text": [
      "Positions: {1,2,4,6,7,9,19,20,18,21,24,25,26,22,23,14,17,15,10,12,3,5,8,11,13,16,27,29,28,32,36,38,40,37,39,31,35,34,30,33}\r\n"
     ]
    }
   ],
   "source": [
    "!picat exercises/langford/.solution/langford-dual 20"
   ]
  },
  {
   "cell_type": "markdown",
   "id": "81a2e135",
   "metadata": {
    "editable": false,
    "slideshow": {
     "slide_type": "slide"
    },
    "tags": []
   },
   "source": [
    "## The assignment problem\n",
    "\n",
    "From [Wikipedia](https://en.wikipedia.org/wiki/Assignment_problem):\n",
    "\n",
    "The assignment problem is a fundamental combinatorial optimization problem. In its most general form, the problem is as follows:\n",
    "\n",
    "> The problem instance has a number of agents and a number of tasks. Any agent can be assigned to perform any task, incurring some cost that may vary depending on the agent-task assignment. It is required to perform as many tasks as possible by assigning at most one agent to each task and at most one task to each agent, in such a way that the total cost of the assignment is minimized.\n",
    "\n",
    "Alternatively, describing the problem using graph theory:\n",
    "\n",
    ">The assignment problem consists of finding, in a weighted bipartite graph, a matching of a given size, in which the sum of weights of the edges is minimum.\n",
    "\n",
    "If the numbers of agents and tasks are equal, then the problem is called balanced assignment.\n"
   ]
  },
  {
   "cell_type": "markdown",
   "id": "9f69da4c",
   "metadata": {
    "editable": false,
    "slideshow": {
     "slide_type": "subslide"
    },
    "tags": []
   },
   "source": [
    "### Exercise: Swimmers\n",
    "(From: W. Winston, Operations Research: Applications & Algorithms.)\n",
    "\n",
    "In medley swimming relay, a team of four swimmers must swim 4x100m, each swimmer using a different style: breaststroke, backstroke, butterfly, or freestyle. The table below gives their average times for 100m in each style. Which swimmer should swim which stroke to minimize total time?\n",
    "\n",
    "| Swimmer | Free | Breast | Fly | Back |\n",
    "|---------|------|--------|-----|------|\n",
    "| A       | 54   | 54     | 51  | 53   |\n",
    "| B       | 51   | 57     | 52  | 52   |\n",
    "| C       | 50   | 53     | 54  | 56   |\n",
    "| D       | 56   | 54     | 55  | 53   |"
   ]
  },
  {
   "cell_type": "markdown",
   "id": "821140e4",
   "metadata": {
    "editable": false,
    "slideshow": {
     "slide_type": "fragment"
    },
    "tags": []
   },
   "source": [
    "Write a general model, generate larger instances, and try to make your model as efficient as possible."
   ]
  },
  {
   "cell_type": "code",
   "execution_count": 9,
   "id": "dc616bbc",
   "metadata": {
    "editable": true,
    "execution": {
     "iopub.execute_input": "2025-10-06T10:43:30.455141Z",
     "iopub.status.busy": "2025-10-06T10:43:30.454291Z",
     "iopub.status.idle": "2025-10-06T10:43:30.593830Z",
     "shell.execute_reply": "2025-10-06T10:43:30.590804Z"
    },
    "jupyter": {
     "source_hidden": true
    },
    "scrolled": true,
    "slideshow": {
     "slide_type": "subslide"
    },
    "tags": []
   },
   "outputs": [
    {
     "name": "stdout",
     "output_type": "stream",
     "text": [
      "Sample instance:\r\n",
      "{A,B,C,D}\r\n",
      "{Free,Breast,Fly,Back}\r\n",
      "{{54,54,51,53},{51,57,52,52},{50,53,54,56},{56,54,55,53}}\r\n",
      "\r\n",
      "Random instance:\r\n",
      "{Swimmer1,Swimmer2,Swimmer3,Swimmer4,Swimmer5,Swimmer6,Swimmer7,Swimmer8}\r\n",
      "{Style1,Style2,Style3,Style4,Style5,Style6,Style7,Style8}\r\n",
      "{{46,49,54,64,53,55,55,54},{60,55,47,64,65,49,65,52},{48,60,61,61,62,59,57,54},{47,50,50,58,46,64,50,45},{48,57,62,54,46,52,61,61},{60,63,57,59,65,55,65,47},{47,60,62,64,52,53,53,54},{56,56,46,55,54,51,56,57}}\r\n"
     ]
    }
   ],
   "source": [
    "!picat exercises/swimmers/instances"
   ]
  },
  {
   "cell_type": "code",
   "execution_count": 10,
   "id": "38239251",
   "metadata": {
    "editable": true,
    "execution": {
     "iopub.execute_input": "2025-10-06T10:43:30.603596Z",
     "iopub.status.busy": "2025-10-06T10:43:30.602755Z",
     "iopub.status.idle": "2025-10-06T10:43:31.062128Z",
     "shell.execute_reply": "2025-10-06T10:43:31.059139Z"
    },
    "scrolled": true,
    "slideshow": {
     "slide_type": "subslide"
    },
    "tags": []
   },
   "outputs": [
    {
     "name": "stdout",
     "output_type": "stream",
     "text": [
      "# primal model:\r\n",
      "Total time: 207\r\n",
      "Swimmer A is swims Fly\r\n",
      "Swimmer B is swims Back\r\n",
      "Swimmer C is swims Free\r\n",
      "Swimmer D is swims Breast\r\n",
      "# dual model:\r\n",
      "Total time: 207\r\n",
      "Style Free is swum  by C\r\n",
      "Style Breast is swum  by D\r\n",
      "Style Fly is swum  by A\r\n",
      "Style Back is swum  by B\r\n",
      "# channeling model:\r\n",
      "Total time: 207\r\n",
      "Swimmer A is swims Fly\r\n",
      "Swimmer B is swims Back\r\n",
      "Swimmer C is swims Free\r\n",
      "Swimmer D is swims Breast\r\n",
      "or in the dual view\r\n",
      "Style Free is swum  by C\r\n",
      "Style Breast is swum  by D\r\n",
      "Style Fly is swum  by A\r\n",
      "Style Back is swum  by B\r\n"
     ]
    }
   ],
   "source": [
    "!picat exercises/swimmers/.solution/swimmers primal\n",
    "!picat exercises/swimmers/.solution/swimmers dual\n",
    "!picat exercises/swimmers/.solution/swimmers channeling"
   ]
  },
  {
   "cell_type": "code",
   "execution_count": 11,
   "id": "91f0e399-566a-4b86-a5c6-a835e7c7de65",
   "metadata": {
    "editable": true,
    "execution": {
     "iopub.execute_input": "2025-10-06T10:43:31.069343Z",
     "iopub.status.busy": "2025-10-06T10:43:31.069141Z",
     "iopub.status.idle": "2025-10-06T10:43:37.672522Z",
     "shell.execute_reply": "2025-10-06T10:43:37.669542Z"
    },
    "scrolled": true,
    "slideshow": {
     "slide_type": ""
    },
    "tags": []
   },
   "outputs": [
    {
     "name": "stdout",
     "output_type": "stream",
     "text": [
      "# primal model:\r\n",
      "Total time: 848\r\n",
      "Swimmer Swimmer1 is swims Style3\r\n",
      "Swimmer Swimmer2 is swims Style6\r\n",
      "Swimmer Swimmer3 is swims Style16\r\n",
      "Swimmer Swimmer4 is swims Style1\r\n",
      "Swimmer Swimmer5 is swims Style14\r\n",
      "Swimmer Swimmer6 is swims Style7\r\n",
      "Swimmer Swimmer7 is swims Style13\r\n",
      "Swimmer Swimmer8 is swims Style19\r\n",
      "Swimmer Swimmer9 is swims Style5\r\n",
      "Swimmer Swimmer10 is swims Style10\r\n",
      "Swimmer Swimmer11 is swims Style12\r\n",
      "Swimmer Swimmer12 is swims Style9\r\n",
      "Swimmer Swimmer13 is swims Style4\r\n",
      "Swimmer Swimmer14 is swims Style11\r\n",
      "Swimmer Swimmer15 is swims Style8\r\n",
      "Swimmer Swimmer16 is swims Style17\r\n",
      "Swimmer Swimmer17 is swims Style2\r\n",
      "Swimmer Swimmer18 is swims Style18\r\n",
      "Swimmer Swimmer19 is swims Style15\r\n",
      "Swimmer Swimmer20 is swims Style20\r\n",
      "\r\n",
      "real\t0m0.024s\r\n",
      "user\t0m0.014s\r\n",
      "sys\t0m0.009s\r\n",
      "# dual model:\r\n",
      "Total time: 848\r\n",
      "Style Style1 is swum  by Swimmer3\r\n",
      "Style Style2 is swum  by Swimmer6\r\n",
      "Style Style3 is swum  by Swimmer16\r\n",
      "Style Style4 is swum  by Swimmer1\r\n",
      "Style Style5 is swum  by Swimmer14\r\n",
      "Style Style6 is swum  by Swimmer7\r\n",
      "Style Style7 is swum  by Swimmer13\r\n",
      "Style Style8 is swum  by Swimmer19\r\n",
      "Style Style9 is swum  by Swimmer5\r\n",
      "Style Style10 is swum  by Swimmer10\r\n",
      "Style Style11 is swum  by Swimmer12\r\n",
      "Style Style12 is swum  by Swimmer9\r\n",
      "Style Style13 is swum  by Swimmer4\r\n",
      "Style Style14 is swum  by Swimmer11\r\n",
      "Style Style15 is swum  by Swimmer8\r\n",
      "Style Style16 is swum  by Swimmer17\r\n",
      "Style Style17 is swum  by Swimmer2\r\n",
      "Style Style18 is swum  by Swimmer18\r\n",
      "Style Style19 is swum  by Swimmer15\r\n",
      "Style Style20 is swum  by Swimmer20\r\n",
      "\r\n",
      "real\t0m0.026s\r\n",
      "user\t0m0.019s\r\n",
      "sys\t0m0.008s\r\n",
      "# channeling model:\r\n",
      "Total time: 903\r\n",
      "Swimmer Swimmer1 is swims Style3\r\n",
      "Swimmer Swimmer2 is swims Style6\r\n",
      "Swimmer Swimmer3 is swims Style1\r\n",
      "Swimmer Swimmer4 is swims Style8\r\n",
      "Swimmer Swimmer5 is swims Style17\r\n",
      "Swimmer Swimmer6 is swims Style2\r\n",
      "Swimmer Swimmer7 is swims Style13\r\n",
      "Swimmer Swimmer8 is swims Style4\r\n",
      "Swimmer Swimmer9 is swims Style12\r\n",
      "Swimmer Swimmer10 is swims Style10\r\n",
      "Swimmer Swimmer11 is swims Style11\r\n",
      "Swimmer Swimmer12 is swims Style9\r\n",
      "Swimmer Swimmer13 is swims Style7\r\n",
      "Swimmer Swimmer14 is swims Style16\r\n",
      "Swimmer Swimmer15 is swims Style19\r\n",
      "Swimmer Swimmer16 is swims Style14\r\n",
      "Swimmer Swimmer17 is swims Style5\r\n",
      "Swimmer Swimmer18 is swims Style18\r\n",
      "Swimmer Swimmer19 is swims Style15\r\n",
      "Swimmer Swimmer20 is swims Style20\r\n",
      "or in the dual view\r\n",
      "Style Style1 is swum  by Swimmer3\r\n",
      "Style Style2 is swum  by Swimmer6\r\n",
      "Style Style3 is swum  by Swimmer1\r\n",
      "Style Style4 is swum  by Swimmer8\r\n",
      "Style Style5 is swum  by Swimmer17\r\n",
      "Style Style6 is swum  by Swimmer2\r\n",
      "Style Style7 is swum  by Swimmer13\r\n",
      "Style Style8 is swum  by Swimmer4\r\n",
      "Style Style9 is swum  by Swimmer12\r\n",
      "Style Style10 is swum  by Swimmer10\r\n",
      "Style Style11 is swum  by Swimmer11\r\n",
      "Style Style12 is swum  by Swimmer9\r\n",
      "Style Style13 is swum  by Swimmer7\r\n",
      "Style Style14 is swum  by Swimmer16\r\n",
      "Style Style15 is swum  by Swimmer19\r\n",
      "Style Style16 is swum  by Swimmer14\r\n",
      "Style Style17 is swum  by Swimmer5\r\n",
      "Style Style18 is swum  by Swimmer18\r\n",
      "Style Style19 is swum  by Swimmer15\r\n",
      "Style Style20 is swum  by Swimmer20\r\n",
      "\r\n",
      "real\t0m6.211s\r\n",
      "user\t0m6.199s\r\n",
      "sys\t0m0.010s\r\n"
     ]
    }
   ],
   "source": [
    "!time picat exercises/swimmers/.solution/swimmers primal random\n",
    "!time picat exercises/swimmers/.solution/swimmers dual random\n",
    "!time picat exercises/swimmers/.solution/swimmers channeling random"
   ]
  },
  {
   "cell_type": "code",
   "execution_count": 12,
   "id": "b5ef5b11",
   "metadata": {
    "editable": true,
    "execution": {
     "iopub.execute_input": "2025-10-06T10:43:37.680088Z",
     "iopub.status.busy": "2025-10-06T10:43:37.679867Z",
     "iopub.status.idle": "2025-10-06T10:43:37.795930Z",
     "shell.execute_reply": "2025-10-06T10:43:37.793057Z"
    },
    "slideshow": {
     "slide_type": "subslide"
    },
    "tags": []
   },
   "outputs": [
    {
     "name": "stdout",
     "output_type": "stream",
     "text": [
      "import cp.\r\n",
      "\r\n",
      "main => main([\"primal\"]).\r\n",
      "\r\n",
      "main([Model]) => main([Model, \"sample\"]).\r\n",
      "\r\n",
      "main([Model, Instance]) => \r\n",
      "    \r\n",
      "    if Instance = \"sample\" then\r\n",
      "        cl(sample_instance),\r\n",
      "        sample_instance(SwimmerNames, StyleNames, Times)        \r\n",
      "    elseif Instance = \"random\" then\r\n",
      "        cl(random_instance),\r\n",
      "        MinTime = 40,\r\n",
      "        MaxTime = 80,\r\n",
      "        N = 20,\r\n",
      "        K = 20,    \r\n",
      "        random_instance(N, K, MinTime, MaxTime, SwimmerNames, StyleNames, Times)\r\n",
      "    else\r\n",
      "        println(\"Unknown instance type\")\r\n",
      "    end,\r\n",
      "    go(SwimmerNames, StyleNames, Times, Model).\r\n",
      "\r\n",
      "go(SwimmerNames, StyleNames, Times, Model) =>\r\n",
      "    \r\n",
      "    printf(\"# %w model:\\n\", Model),\r\n",
      "\r\n",
      "    if Model = \"primal\" then\r\n",
      "        primal_model(StyleOfSwimmer, Times, TotalTime),\r\n",
      "        solve([$min(TotalTime), StyleOfSwimmer]),\r\n",
      "        printf(\"Total time: %d\\n\", TotalTime),\r\n",
      "        foreach(I in 1..SwimmerNames.length)\r\n",
      "            printf(\"Swimmer %w is swims %w\\n\", SwimmerNames[I], StyleNames[StyleOfSwimmer[I]])\r\n",
      "        end\r\n",
      "    elseif Model = \"dual\" then\r\n",
      "        dual_model(SwimmerOfStyle, Times, TotalTime),\r\n",
      "        solve([$min(TotalTime), SwimmerOfStyle]),\r\n",
      "        printf(\"Total time: %d\\n\", TotalTime),\r\n",
      "        foreach(J in 1..StyleNames.length)\r\n",
      "            printf(\"Style %w is swum  by %w\\n\", StyleNames[J], SwimmerNames[SwimmerOfStyle[J]])\r\n",
      "        end\r\n",
      "    elseif Model = \"channeling\" then\r\n",
      "        channeling(StyleOfSwimmer, SwimmerOfStyle, Times, TotalTime),\r\n",
      "        solve([$min(TotalTime), StyleOfSwimmer ++ SwimmerOfStyle]),    \r\n",
      "        printf(\"Total time: %d\\n\", TotalTime),\r\n",
      "        foreach(I in 1..SwimmerNames.length)\r\n",
      "            printf(\"Swimmer %w is swims %w\\n\", SwimmerNames[I], StyleNames[StyleOfSwimmer[I]])\r\n",
      "        end,\r\n",
      "        println(\"or in the dual view\"),\r\n",
      "        foreach(J in 1..StyleNames.length)\r\n",
      "            printf(\"Style %w is swum  by %w\\n\", StyleNames[J], SwimmerNames[SwimmerOfStyle[J]])\r\n",
      "        end\r\n",
      "    else\r\n",
      "        printf(\"Unknown model: %w\\n\", Model)\r\n",
      "    end.\r\n",
      "\r\n",
      "\r\n",
      "primal_model(StyleOfSwimmer, Times, TotalTime) =>\r\n",
      "    N = Times.length,\r\n",
      "    %K = Times[1].length,\r\n",
      "    K = N,\r\n",
      "    StyleOfSwimmer = new_array(N),\r\n",
      "    StyleOfSwimmer :: 1..K,\r\n",
      "    all_different(StyleOfSwimmer),\r\n",
      "\r\n",
      "    TimeOfSwimmer = new_array(N),\r\n",
      "    foreach(I in 1..N)\r\n",
      "        matrix_element(Times, I, StyleOfSwimmer[I], TimeOfSwimmer[I])\r\n",
      "    end,\r\n",
      "    TotalTime #= sum(TimeOfSwimmer).\r\n",
      "\r\n",
      "dual_model(SwimmerOfStyle, Times, TotalTime) =>\r\n",
      "    N = Times.length,\r\n",
      "    K = N,\r\n",
      "    SwimmerOfStyle = new_array(K),\r\n",
      "    SwimmerOfStyle :: 1..N,\r\n",
      "    all_different(SwimmerOfStyle),\r\n",
      "\r\n",
      "    TimeOfStyle = new_array(K),\r\n",
      "    foreach(J in 1..K)\r\n",
      "        matrix_element(Times, J, SwimmerOfStyle[J], TimeOfStyle[J])\r\n",
      "    end,\r\n",
      "    TotalTime #= sum(TimeOfStyle).\r\n",
      "\r\n",
      "channeling(StyleOfSwimmer, SwimmerOfStyle, Times, TotalTime) =>    \r\n",
      "    primal_model(StyleOfSwimmer, Times, TotalTime),\r\n",
      "    dual_model(SwimmerOfStyle, Times, TotalTime),\r\n",
      "    assignment(StyleOfSwimmer, SwimmerOfStyle).  %chanelling constraint\r\n",
      "\r\n"
     ]
    }
   ],
   "source": [
    "!cat exercises/swimmers/.solution/swimmers.pi"
   ]
  },
  {
   "cell_type": "markdown",
   "id": "43fc226b",
   "metadata": {
    "editable": false,
    "slideshow": {
     "slide_type": "slide"
    },
    "tags": []
   },
   "source": [
    "## Modelling functions\n",
    "\n",
    "In general, how to model a function (mapping) $f:A\\to B$? Let's say $A=\\{1,\\dots,n\\}$ and $B=\\{1,\\dots,k\\}$.\n",
    "\n",
    "* as an array: \n",
    "```\n",
    "F = new_array(N},\n",
    "F :: 1..K.\n",
    "```\n",
    "* _injective_: `all_different(F)`\n",
    "* _surjective_: a partition of $A$ into classes labelled by $B$, to each element of $B$ map a set of elements of $A$. In Picat we can model set as their characteristic vectors. More on modelling with sets later.\n",
    "* _partial function_: a dummy value for undefined inputs\n",
    "* _dual model_: switch the role of variables and values (not a function unless $F$ injective, see above)\n",
    "* _channelling_: combine the primal and dual models, if it is a bijection, then use `assignment(F, FInv)`"
   ]
  },
  {
   "cell_type": "code",
   "execution_count": 3,
   "id": "475f02e1",
   "metadata": {
    "editable": true,
    "scrolled": true,
    "slideshow": {
     "slide_type": "subslide"
    },
    "tags": []
   },
   "outputs": [
    {
     "name": "stdout",
     "output_type": "stream",
     "text": [
      "{1,2,3,4}\n",
      "{1,2,3,4}\n"
     ]
    }
   ],
   "source": [
    "!picat functions.pi 4 4"
   ]
  },
  {
   "cell_type": "code",
   "execution_count": 4,
   "id": "cdb80197",
   "metadata": {
    "editable": true,
    "slideshow": {
     "slide_type": "fragment"
    },
    "tags": []
   },
   "outputs": [
    {
     "name": "stdout",
     "output_type": "stream",
     "text": [
      "import cp.\n",
      "\n",
      "main([N, K]) =>\n",
      "    N := N.to_int,\n",
      "    K := K.to_int,\n",
      "    \n",
      "    % function\n",
      "    F = new_array(N),\n",
      "    F :: 1..K,\n",
      "    \n",
      "    % injective\n",
      "    all_different(F),\n",
      "\n",
      "    % dual model if it is a bijection (K=N and injective)\n",
      "    FInv = new_array(K),\n",
      "    FInv :: 1..N,\n",
      "\n",
      "    % channeling if it is a bijection (K=N and injective)\n",
      "    assignment(F, FInv),\n",
      "\n",
      "    % % dual model in general\n",
      "    % FInv = new_array(K, N),\n",
      "    % FInv :: 0..1,\n",
      "  \n",
      "    % % surjective in general\n",
      "    % foreach(J in 1..N)\n",
      "    %     sum([FInv[I, J]: I in 1..K]) #>= 1\n",
      "    % end,\n",
      "\n",
      "    % % channeling in general\n",
      "    % foreach(I in 1..N)\n",
      "    %     foreach(J in 1..N)\n",
      "    %         (FInv[J, I] #= 1) #<=> (F[I] #= J)\n",
      "    %     end\n",
      "    % end,\n",
      "\n",
      "    solve(F ++ FInv),\n",
      "    println(F),\n",
      "    println(FInv).\n",
      "\n",
      "\n",
      "\n",
      "\n",
      "\n",
      "\n"
     ]
    }
   ],
   "source": [
    "!cat functions.pi"
   ]
  }
 ],
 "metadata": {
  "celltoolbar": "Slideshow",
  "kernelspec": {
   "display_name": "Python 3 (ipykernel)",
   "language": "python",
   "name": "python3"
  },
  "language_info": {
   "codemirror_mode": {
    "name": "ipython",
    "version": 3
   },
   "file_extension": ".py",
   "mimetype": "text/x-python",
   "name": "python",
   "nbconvert_exporter": "python",
   "pygments_lexer": "ipython3",
   "version": "3.10.18"
  },
  "rise": {
   "theme": "sky"
  },
  "vscode": {
   "interpreter": {
    "hash": "916dbcbb3f70747c44a77c7bcd40155683ae19c65e1c03b4aa3499c5328201f1"
   }
  }
 },
 "nbformat": 4,
 "nbformat_minor": 5
}
