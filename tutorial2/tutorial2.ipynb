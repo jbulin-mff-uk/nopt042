{
 "cells": [
  {
   "cell_type": "markdown",
   "id": "3687d7a5",
   "metadata": {
    "editable": false,
    "slideshow": {
     "slide_type": "slide"
    },
    "tags": []
   },
   "source": [
    "# NOPT042 Constraint programming: Tutorial 2 – Intro to CP"
   ]
  },
  {
   "cell_type": "markdown",
   "id": "56d88636-354b-4585-a179-52313f02b52c",
   "metadata": {
    "editable": false,
    "slideshow": {
     "slide_type": "slide"
    },
    "tags": []
   },
   "source": [
    "## What was in Lecture 2?\n",
    "\n",
    "Local search algorithms\n",
    "* generate and test\n",
    "* hill climbing, min-conflicts + random walk, tabu search\n",
    "* GSAT (local search for SAT), heuristics\n",
    "* connectionist approach (GENET)\n",
    "* simulated annealing\n",
    "* intensification vs. diversification (exploit vs. explore)"
   ]
  },
  {
   "cell_type": "markdown",
   "id": "689af1a0",
   "metadata": {
    "editable": false,
    "slideshow": {
     "slide_type": "slide"
    },
    "tags": []
   },
   "source": [
    "## Constraint programming aka modeling\n",
    "Discrete (‘combinatorial’, as opposed to ‘continuous’) optimization, constraint satisfaction\n",
    "* a form of decision making, many everyday problems\n",
    "* solve Sudoku\n",
    "* schedule classes\n",
    "* schedule trains\n",
    "* coordinate multi-facility production\n",
    "* logistics of product transportation\n",
    "* ...\n",
    "\n",
    "> Assign values to variables subject to **constraints**, satisfy/optimize."
   ]
  },
  {
   "cell_type": "markdown",
   "id": "da724a00",
   "metadata": {
    "editable": false,
    "slideshow": {
     "slide_type": "subslide"
    },
    "tags": []
   },
   "source": [
    "### We will learn to...\n",
    "* solve complex problems \"without even knowing how\"\n",
    "* state the problem in a high-level language, use a constraint solver to \"automagically\" solve it (magic explained in the lectures)\n",
    "* techniques and tricks to build efficient constraint models\n",
    "* best practices, testing and debugging"
   ]
  },
  {
   "cell_type": "markdown",
   "id": "c5e5ed48",
   "metadata": {
    "editable": false,
    "slideshow": {
     "slide_type": "subslide"
    },
    "tags": []
   },
   "source": [
    "### Why constraint programming?\n",
    "* the ‘holy grail’ of programming: tell the computer what you want, not how to do it\n",
    "* an order of magnitude easier than programming algorithms\n",
    "* huge engineering investment in constraint solvers, highly optimized, \n",
    "* often faster than your own algorithm would be (especially in “mixed” NP-complete problems), heuristic approach\n",
    "* easier for molecular biologists to learn to specify their problems in a formal language, than for programmers to learn molecular biology"
   ]
  },
  {
   "cell_type": "markdown",
   "id": "200786fb",
   "metadata": {
    "editable": false,
    "slideshow": {
     "slide_type": "subslide"
    },
    "tags": []
   },
   "source": [
    "### History and (folk) etymology\n",
    "* prográphō (\"I set forth as a public notice\"), from pró (\"towards\") + gráphō (\"I write\")\n",
    "* program of a political movement\n",
    "* program of a concert, broadcast programming, tv program\n",
    "* computer program (1940s)\n",
    "Independently:\n",
    "* U.S. Army operational programs (1940s)\n",
    "* \"linear programming\" (1946) Maximize $\\mathbf{c}^T\\mathbf x$ (objective function) subject to $A\\mathbf{x}\\leq\\mathbf{b}$, $\\mathbf{x}\\geq 0$ (constraints).\n",
    "* integer programming (1964),\n",
    "* logic programming (late 1960s)\n",
    "* constraint logic programming (1987)\n",
    "* constraint programming (early 1990s)\n",
    "* Modeling (USA) vs. Modelling (Commonwealth)"
   ]
  },
  {
   "cell_type": "markdown",
   "id": "cb629818",
   "metadata": {
    "editable": false,
    "slideshow": {
     "slide_type": "subslide"
    },
    "tags": []
   },
   "source": [
    "### Why Picat?\n",
    "From a high-level point of view, all constraint programming languages are quite similar. Picat is:\n",
    "* modern, simple yet powerful\n",
    "* easier syntax and better utils than SICStus Prolog\n",
    "* more flexible than MiniZinc\n",
    "* fast: won several CP competitions (see [Picat homepage](http://picat-lang.org/))\n"
   ]
  },
  {
   "cell_type": "markdown",
   "id": "d5959959",
   "metadata": {
    "editable": false,
    "jp-MarkdownHeadingCollapsed": true,
    "slideshow": {
     "slide_type": "slide"
    },
    "tags": []
   },
   "source": [
    "## Recall the basics of constraint programming:\n",
    "\n",
    "* **decision variables** vs. **parameters**\n",
    "* **domains**\n",
    "* **constraints**\n",
    "* **solution**\n",
    "* **constraint propagation**\n",
    "* **search space**\n",
    "* **decision** vs. **optimization**\n",
    "* modeling strategies\n",
    "\n",
    "See pages 27–⁠34 from [Modeling\tand\tSolving\tAI\t\n",
    "Problems in\tPicat](http://ktiml.mff.cuni.cz/~bartak/AAAI2017/slides.pdf)."
   ]
  },
  {
   "cell_type": "markdown",
   "id": "bb8ddd63",
   "metadata": {
    "editable": false,
    "slideshow": {
     "slide_type": "slide"
    },
    "tags": []
   },
   "source": [
    "## Structure of a constraint program"
   ]
  },
  {
   "cell_type": "markdown",
   "id": "0e29bd5f",
   "metadata": {
    "editable": false,
    "slideshow": {
     "slide_type": "fragment"
    },
    "tags": []
   },
   "source": [
    "Typically, the structure of a constraint program looks like this (code inspired by the [tutorial](http://ktiml.mff.cuni.cz/~bartak/AAAI2017/slides.pdf)):\n",
    "```\n",
    "import cp. \n",
    "\n",
    "problem(Variables) =>\n",
    "    declare_variables(Variables),\n",
    "    post_constraints(Variables).\n",
    "\n",
    "main =>\n",
    "    problem(Variables),\n",
    "    solve(Variables).    \n",
    "```\n",
    "Instead of `cp` we can use another solver, e.g. `mip` or `sat`. If the problem is parametrized, then we can pass the `Parameters` as an argument, e.g. `problem(Variables, Parameters)` or we can have a separate function `get_instance(Parameters) = Variables`.\n"
   ]
  },
  {
   "cell_type": "markdown",
   "id": "5dc3b00f",
   "metadata": {
    "editable": false,
    "slideshow": {
     "slide_type": "slide"
    },
    "tags": []
   },
   "source": [
    "## Introductory examples"
   ]
  },
  {
   "cell_type": "markdown",
   "id": "5ba3c889",
   "metadata": {
    "editable": false,
    "slideshow": {
     "slide_type": "slide"
    },
    "tags": []
   },
   "source": [
    "### Example: Chinese remainder"
   ]
  },
  {
   "cell_type": "markdown",
   "id": "19334bdb",
   "metadata": {
    "editable": false,
    "slideshow": {
     "slide_type": "fragment"
    },
    "tags": []
   },
   "source": [
    "After an indecisive battle, general Han Xin wanted to know how\n",
    "many soldiers of his 42000-strong army remained. In order to\n",
    "prevent enemy spies hidden among his soldiers to learn the\n",
    "number, he decided to use modular algebra: He ordered his soldiers\n",
    "to form rows of 5 and 3 soldiers remained. Then rows of 7; 2\n",
    "remained. Then rows of 9; 4 remained. Then rows of 11; 10\n",
    "remained. Finally, rows of 13; 1 remained."
   ]
  },
  {
   "cell_type": "markdown",
   "id": "a8ac7459",
   "metadata": {
    "editable": false,
    "slideshow": {
     "slide_type": "fragment"
    },
    "tags": []
   },
   "source": [
    "* What are the **parameters** of our problem?\n",
    "* Identify the decision variables: type, domains (as small as possible).\n",
    "* What are the constraints? (Are there some implicit constraints?)\n",
    "* Is this a satisfaction or an optimization problem?\n",
    "* Find a solution using Picat.\n",
    "* Is the last condition (rows of 13) needed?\n"
   ]
  },
  {
   "cell_type": "code",
   "execution_count": 1,
   "id": "16ad0d6d",
   "metadata": {
    "editable": true,
    "execution": {
     "iopub.execute_input": "2025-09-30T11:58:18.359972Z",
     "iopub.status.busy": "2025-09-30T11:58:18.359190Z",
     "iopub.status.idle": "2025-09-30T11:58:18.415853Z",
     "shell.execute_reply": "2025-09-30T11:58:18.414568Z"
    },
    "slideshow": {
     "slide_type": "fragment"
    },
    "tags": []
   },
   "outputs": [
    {
     "data": {
      "application/javascript": [
       "\"use strict\";\n",
       "\n",
       "CodeMirror.defineMode(\"text/picat\", function(config) {\n",
       "\n",
       "  var isOperatorChar = /[+\\-*=\\@\\&|\\:#<>\\/]/;\n",
       "\n",
       "  var keywords = {\"else\":true,\n",
       "  \"end\":true,\n",
       "  \"foreach\":true,\n",
       "  \"if\":true,\n",
       "  \"in\":true,\n",
       "  \"then\":true\n",
       "  }\n",
       "\n",
       "  var specials = {\"acyclic_term\":true,\n",
       "  \"and_to_list\":true,\n",
       "  \"append\":true,\n",
       "  \"apply\":true,\n",
       "  \"arity\":true,\n",
       "  \"array\":true,\n",
       "  \"atom\":true,\n",
       "  \"atom_chars\":true,\n",
       "  \"atom_codes\":true,\n",
       "  \"atomic\":true,\n",
       "  \"attr_var\":true,\n",
       "  \"between\":true,\n",
       "  \"bind_vars\":true,\n",
       "  \"call\":true,\n",
       "  \"call_cleanup\":true,\n",
       "  \"catch\":true,\n",
       "  \"char\":true,\n",
       "  \"chr\":true,\n",
       "  \"clear\":true,\n",
       "  \"compare_terms\":true,\n",
       "  \"compound\":true,\n",
       "  \"copy_term\":true,\n",
       "  \"count_all\":true,\n",
       "  \"delete\":true,\n",
       "  \"delete_all\":true,\n",
       "  \"different_term\":true,\n",
       "  \"digit\":true,\n",
       "  \"div\":true,\n",
       "  \"dvar\":true,\n",
       "  \"dvar_or_int\":true,\n",
       "//   \"end\":true,\n",
       "  \"fail\":true,\n",
       "  \"false\":true,\n",
       "  \"find_all\":true,\n",
       "  \"findall\":true,\n",
       "  \"first\":true,\n",
       "  \"flatten\":true,\n",
       "  \"float\":true,\n",
       "  \"fold\":true,\n",
       "//   \"foreach\":true,\n",
       "  \"freeze\":true,\n",
       "  \"get\":true,\n",
       "  \"get_attr\":true,\n",
       "  \"get_global_map\":true,\n",
       "  \"get_heap_map\":true,\n",
       "  \"get_table_map\":true,\n",
       "  \"ground\":true,\n",
       "  \"handle_exception\":true,\n",
       "  \"has_key\":true,\n",
       "  \"hash_code\":true,\n",
       "  \"head\":true,\n",
       "  \"heap_is_empty\":true,\n",
       "  \"heap_pop\":true,\n",
       "  \"heap_push\":true,\n",
       "  \"heap_size\":true,\n",
       "  \"heap_to_list\":true,\n",
       "  \"heap_top\":true,\n",
       "  \"import\":true,    \n",
       "//   \"in\":true,\n",
       "  \"insert\":true,\n",
       "  \"insert_all\":true,\n",
       "  \"insert_ordered\":true,\n",
       "  \"insert_ordered_down\":true,\n",
       "  \"int\":true,\n",
       "  \"integer\":true,\n",
       "  \"is\":true,\n",
       "  \"keys\":true,\n",
       "  \"last\":true,\n",
       "  \"len\":true,\n",
       "  \"length\":true,\n",
       "  \"list\":true,\n",
       "  \"list_to_and\":true,\n",
       "  \"lowercase\":true,\n",
       "  \"map\":true,\n",
       "  \"map_to_list\":true,\n",
       "  \"max\":true,\n",
       "  \"maxint_small\":true,\n",
       "  \"maxof\":true,\n",
       "  \"maxof_inc\":true,\n",
       "  \"membchk\":true,\n",
       "  \"member\":true,\n",
       "  \"min\":true,\n",
       "  \"minint_small\":true,\n",
       "  \"minof\":true,\n",
       "  \"minof_inc\":true,\n",
       "  \"mod\":true,\n",
       "  \"name\":true,\n",
       "  \"new_array\":true,\n",
       "  \"new_list\":true,\n",
       "  \"new_map\":true,\n",
       "  \"new_max_heap\":true,\n",
       "  \"new_min_heap\":true,\n",
       "  \"new_set\":true,\n",
       "  \"new_struct\":true,\n",
       "  \"nonvar\":true,\n",
       "  \"not\":true,\n",
       "  \"notin\":true,\n",
       "  \"nth\":true,\n",
       "  \"number\":true,\n",
       "  \"number_char\":true,\n",
       "  \"number_codes\":true,\n",
       "  \"number_vars\":true,\n",
       "  \"once\":true,\n",
       "  \"ord\":true,\n",
       "  \"parse_radix_string\":true,\n",
       "  \"parse_term\":true,\n",
       "  \"post_event\":true,\n",
       "  \"post_event_any\":true,\n",
       "  \"post_event_bound\":true,\n",
       "  \"post_event_dom\":true,\n",
       "  \"post_event_ins\":true,\n",
       "  \"print\":true,\n",
       "  \"println\":true,\n",
       "  \"prod\":true,\n",
       "  \"put\":true,\n",
       "  \"put_attr\":true,\n",
       "  \"real\":true,\n",
       "  \"reduce\":true,\n",
       "  \"rem\":true,\n",
       "  \"remove_dumps\":true,\n",
       "  \"repeat\":true,\n",
       "  \"reverse\":true,\n",
       "  \"second\":true,\n",
       "  \"select\":true,\n",
       "  \"size\":true,\n",
       "  \"slice\":true,\n",
       "  \"sort\":true,\n",
       "  \"sort_down\":true,\n",
       "  \"sort_down_remove_dups\":true,\n",
       "  \"sort_remove_dups\":true,\n",
       "  \"sorted\":true,\n",
       "  \"sorted_down\":true,\n",
       "  \"string\":true,\n",
       "  \"struct\":true,\n",
       "  \"subsumes\":true,\n",
       "  \"sum\":true,\n",
       "  \"tail\":true,\n",
       "  \"throw\":true,\n",
       "  \"to_array\":true,\n",
       "  \"to_atom\":true,\n",
       "  \"to_binary_string\":true,\n",
       "  \"to_code\":true,\n",
       "  \"to_fstring\":true,\n",
       "  \"to_hex_string\":true,\n",
       "  \"to_int\":true,\n",
       "  \"to_integer\":true,\n",
       "  \"to_list\":true,\n",
       "  \"to_lowercase\":true,\n",
       "  \"to_number\":true,\n",
       "  \"to_oct_string\":true,\n",
       "  \"to_radix_string\":true,\n",
       "  \"to_real\":true,\n",
       "  \"to_string\":true,\n",
       "  \"to_uppercase\":true,\n",
       "  \"true\":true,\n",
       "  \"uppercase\":true,\n",
       "  \"values\":true,\n",
       "  \"var\":true,\n",
       "  \"variant\":true,\n",
       "  \"vars\":true,\n",
       "  \"zip\":true,\n",
       "\n",
       "  \"abs\":true,\n",
       "  \"acos\":true,\n",
       "  \"acosh\":true,\n",
       "  \"acot\":true,\n",
       "  \"acoth\":true,\n",
       "  \"acsc\":true,\n",
       "  \"acsch\":true,\n",
       "  \"asec\":true,\n",
       "  \"asech\":true,\n",
       "  \"asin\":true,\n",
       "  \"asinh\":true,\n",
       "  \"atan\":true,\n",
       "  \"atan2\":true,\n",
       "  \"atanh\":true,\n",
       "  \"ceiling\":true,\n",
       "  \"cos\":true,\n",
       "  \"cosh\":true,\n",
       "  \"cot\":true,\n",
       "  \"coth\":true,\n",
       "  \"csc\":true,\n",
       "  \"csch\":true,\n",
       "  \"e\":true,\n",
       "  \"even\":true,\n",
       "  \"exp\":true,\n",
       "  \"floor\":true,\n",
       "  \"frand\":true,\n",
       "  \"gcd\":true,\n",
       "  \"log\":true,\n",
       "  \"log10\":true,\n",
       "  \"log2\":true,\n",
       "  \"modf\":true,\n",
       "  \"odd\":true,\n",
       "  \"pi\":true,\n",
       "  \"pow\":true,\n",
       "  \"pow_mod\":true,\n",
       "  \"prime\":true,\n",
       "  \"primes\":true,\n",
       "  \"max\":true,\n",
       "  \"random\":true,\n",
       "  \"random2\":true,\n",
       "  \"round\":true,\n",
       "  \"sec\":true,\n",
       "  \"sech\":true,\n",
       "  \"sign\":true,\n",
       "  \"sin\":true,\n",
       "  \"sinh\":true,\n",
       "  \"sqrt\":true,\n",
       "  \"tan\":true,\n",
       "  \"tanh\":true,\n",
       "  \"to_degrees\":true,\n",
       "  \"to_radians\":true,\n",
       "  \"truncate\":true,\n",
       "    \n",
       " \n",
       "  \"xor\":true};\n",
       "\n",
       "  var punc = \":;,.(){}[]\";\n",
       "\n",
       "  function tokenBase(stream, state) {\n",
       "    var ch = stream.next();\n",
       "    if (ch == '\"') {\n",
       "      state.tokenize.push(tokenString);\n",
       "      return tokenString(stream, state);\n",
       "    }\n",
       "    if (/[\\d\\.]/.test(ch)) {\n",
       "      if (ch == \".\") {\n",
       "        stream.match(/^[0-9]+([eE][\\-+]?[0-9]+)?/);\n",
       "      } else if (ch == \"0\") {\n",
       "        stream.match(/^[xX][0-9a-fA-F]+/) || stream.match(/^0[0-7]+/);\n",
       "      } else {\n",
       "        stream.match(/^[0-9]*\\.?[0-9]*([eE][\\-+]?[0-9]+)?/);\n",
       "      }\n",
       "      return \"number\";\n",
       "    }\n",
       "    if (ch == \"/\") {\n",
       "      if (stream.eat(\"*\")) {\n",
       "        state.tokenize.push(tokenComment);\n",
       "        return tokenComment(stream, state);\n",
       "      }\n",
       "    }\n",
       "    if (ch == \"%\") {\n",
       "      stream.skipToEnd();\n",
       "      return \"comment\";\n",
       "    }\n",
       "    if (isOperatorChar.test(ch)) {\n",
       "      stream.eatWhile(isOperatorChar);\n",
       "      return \"operator\";\n",
       "    }\n",
       "    if (punc.indexOf(ch) > -1) {\n",
       "      return \"punctuation\";\n",
       "    }\n",
       "    stream.eatWhile(/[\\w\\$_\\xa1-\\uffff]/);\n",
       "    var cur = stream.current();\n",
       "    if (keywords.propertyIsEnumerable(cur)) {\n",
       "      return \"keyword\";\n",
       "    }\n",
       "    return \"variable\";\n",
       "  }\n",
       "\n",
       "  function tokenComment(stream, state) {\n",
       "    var maybeEnd = false, ch;\n",
       "    while (ch = stream.next()) {\n",
       "      if (ch == \"/\" && maybeEnd) {\n",
       "        state.tokenize.pop();\n",
       "        break;\n",
       "      }\n",
       "      maybeEnd = (ch == \"*\");\n",
       "    }\n",
       "    return \"comment\";\n",
       "  }\n",
       "\n",
       "  function tokenUntilClosingParen() {\n",
       "    var depth = 0;\n",
       "    return function(stream, state, prev) {\n",
       "      var inner = tokenBase(stream, state, prev);\n",
       "      console.log(\"untilClosing\",inner,stream.current());\n",
       "      if (inner == \"punctuation\") {\n",
       "        if (stream.current() == \"(\") {\n",
       "          ++depth;\n",
       "        } else if (stream.current() == \")\") {\n",
       "          if (depth == 0) {\n",
       "            stream.backUp(1)\n",
       "            state.tokenize.pop()\n",
       "            return state.tokenize[state.tokenize.length - 1](stream, state)\n",
       "          } else {\n",
       "            --depth;\n",
       "          }\n",
       "        }\n",
       "      }\n",
       "      return inner;\n",
       "    }\n",
       "  }\n",
       "\n",
       "  function tokenString(stream, state) {\n",
       "    var escaped = false, next, end = false;\n",
       "    while ((next = stream.next()) != null) {\n",
       "      if (next=='(' && escaped) {\n",
       "        state.tokenize.push(tokenUntilClosingParen());\n",
       "        return \"string\";\n",
       "      }\n",
       "      if (next == '\"' && !escaped) {end = true; break;}\n",
       "      escaped = !escaped && next == \"\\\\\";\n",
       "    }\n",
       "    if (end || !escaped)\n",
       "      state.tokenize.pop();\n",
       "    return \"string\";\n",
       "  }\n",
       "\n",
       "  return {\n",
       "    startState: function(basecolumn) {\n",
       "      return {\n",
       "        tokenize: []\n",
       "      };\n",
       "    },\n",
       "\n",
       "    token: function(stream, state) {\n",
       "      if (stream.eatSpace()) return null;\n",
       "      var style = (state.tokenize[state.tokenize.length - 1] || tokenBase)(stream, state);\n",
       "      console.log(\"token\",style);\n",
       "      return style;\n",
       "    },\n",
       "\n",
       "    blockCommentStart: \"/*\",\n",
       "    blockCommentEnd: \"*/\",\n",
       "    lineComment: \"%\"\n",
       "  };\n",
       "});\n",
       "\n",
       "CodeMirror.defineMIME(\"text/picat\", \"text/picat\");\n",
       "\n",
       "Jupyter.CodeCell.options_default.highlight_modes['magic_text/picat'] = {'reg':[/^%%picat/]} ;\n",
       "\n",
       "Jupyter.notebook.get_cells().map(function(cell){\n",
       "  if (cell.cell_type == 'code'){ cell.auto_highlight(); }\n",
       "}) ;"
      ],
      "text/plain": [
       "<IPython.core.display.Javascript object>"
      ]
     },
     "metadata": {},
     "output_type": "display_data"
    },
    {
     "name": "stdout",
     "output_type": "stream",
     "text": [
      "Picat version 3.9\n"
     ]
    }
   ],
   "source": [
    "%load_ext ipicat"
   ]
  },
  {
   "cell_type": "code",
   "execution_count": 2,
   "id": "32627a8a",
   "metadata": {
    "editable": true,
    "execution": {
     "iopub.execute_input": "2025-09-30T11:58:18.421714Z",
     "iopub.status.busy": "2025-09-30T11:58:18.421240Z",
     "iopub.status.idle": "2025-09-30T11:58:18.428304Z",
     "shell.execute_reply": "2025-09-30T11:58:18.426564Z"
    },
    "slideshow": {
     "slide_type": "subslide"
    },
    "tags": []
   },
   "outputs": [],
   "source": [
    "%%picat -n chinese\n",
    "import cp.\n",
    "\n",
    "chinese(X) =>\n",
    "    % variables\n",
    "    X :: 0..42000,\n",
    "\n",
    "    % constraints\n",
    "    X mod 5 #= 3,\n",
    "    X mod 7 #= 2,\n",
    "    X mod 9 #= 4,\n",
    "    \n",
    "    X mod 11 #= 10.\n",
    "    \n",
    "%     X mod 11 #= 10,\n",
    "%     X mod 13 #= 1.  "
   ]
  },
  {
   "cell_type": "code",
   "execution_count": 3,
   "id": "95a70650",
   "metadata": {
    "editable": true,
    "execution": {
     "iopub.execute_input": "2025-09-30T11:58:18.432990Z",
     "iopub.status.busy": "2025-09-30T11:58:18.432481Z",
     "iopub.status.idle": "2025-09-30T11:58:18.480440Z",
     "shell.execute_reply": "2025-09-30T11:58:18.479005Z"
    },
    "scrolled": true,
    "slideshow": {
     "slide_type": "subslide"
    },
    "tags": []
   },
   "outputs": [
    {
     "name": "stdout",
     "output_type": "stream",
     "text": [
      "373\n",
      "\n"
     ]
    }
   ],
   "source": [
    "%%picat\n",
    "main =>   \n",
    "    chinese(X),\n",
    "    solve(X),\n",
    "    println(X)."
   ]
  },
  {
   "cell_type": "code",
   "execution_count": 4,
   "id": "55f7c7f5",
   "metadata": {
    "editable": true,
    "execution": {
     "iopub.execute_input": "2025-09-30T11:58:18.484323Z",
     "iopub.status.busy": "2025-09-30T11:58:18.483989Z",
     "iopub.status.idle": "2025-09-30T11:58:18.515851Z",
     "shell.execute_reply": "2025-09-30T11:58:18.514538Z"
    },
    "slideshow": {
     "slide_type": "fragment"
    },
    "tags": []
   },
   "outputs": [
    {
     "name": "stdout",
     "output_type": "stream",
     "text": [
      "373\n",
      "3838\n",
      "7303\n",
      "10768\n",
      "14233\n",
      "17698\n",
      "21163\n",
      "24628\n",
      "28093\n",
      "31558\n",
      "35023\n",
      "38488\n",
      "41953\n",
      "\n"
     ]
    }
   ],
   "source": [
    "%%picat\n",
    "main =>   \n",
    "    chinese(X),\n",
    "    solve_all(X) = Solutions,\n",
    "    foreach (Solution in Solutions)\n",
    "        println(Solution)\n",
    "    end."
   ]
  },
  {
   "cell_type": "code",
   "execution_count": 5,
   "id": "c9aecc5b",
   "metadata": {
    "editable": true,
    "execution": {
     "iopub.execute_input": "2025-09-30T11:58:18.519541Z",
     "iopub.status.busy": "2025-09-30T11:58:18.519101Z",
     "iopub.status.idle": "2025-09-30T11:58:18.855944Z",
     "shell.execute_reply": "2025-09-30T11:58:18.852818Z"
    },
    "slideshow": {
     "slide_type": "subslide"
    },
    "tags": []
   },
   "outputs": [
    {
     "name": "stdout",
     "output_type": "stream",
     "text": [
      "35023\r\n"
     ]
    }
   ],
   "source": [
    "!picat chinese-remainder/chinese-remainder"
   ]
  },
  {
   "cell_type": "code",
   "execution_count": 6,
   "id": "d0c5f733",
   "metadata": {
    "editable": true,
    "execution": {
     "iopub.execute_input": "2025-09-30T11:58:18.863714Z",
     "iopub.status.busy": "2025-09-30T11:58:18.862981Z",
     "iopub.status.idle": "2025-09-30T11:58:19.210276Z",
     "shell.execute_reply": "2025-09-30T11:58:19.207538Z"
    },
    "slideshow": {
     "slide_type": "fragment"
    },
    "tags": []
   },
   "outputs": [
    {
     "name": "stdout",
     "output_type": "stream",
     "text": [
      "5\r\n"
     ]
    }
   ],
   "source": [
    "!picat chinese-remainder/chinese-remainder 5 [2,3] [1,2]"
   ]
  },
  {
   "cell_type": "code",
   "execution_count": 7,
   "id": "d536a15d",
   "metadata": {
    "editable": true,
    "execution": {
     "iopub.execute_input": "2025-09-30T11:58:19.217794Z",
     "iopub.status.busy": "2025-09-30T11:58:19.217067Z",
     "iopub.status.idle": "2025-09-30T11:58:19.552548Z",
     "shell.execute_reply": "2025-09-30T11:58:19.550223Z"
    },
    "slideshow": {
     "slide_type": "fragment"
    },
    "tags": []
   },
   "outputs": [
    {
     "name": "stdout",
     "output_type": "stream",
     "text": [
      "373\r\n",
      "3838\r\n",
      "7303\r\n",
      "10768\r\n",
      "14233\r\n",
      "17698\r\n",
      "21163\r\n",
      "24628\r\n",
      "28093\r\n",
      "31558\r\n",
      "35023\r\n",
      "38488\r\n",
      "41953\r\n"
     ]
    }
   ],
   "source": [
    "!picat chinese-remainder/chinese-remainder 42000 [5,7,9,11] [3,2,4,10]"
   ]
  },
  {
   "cell_type": "code",
   "execution_count": 8,
   "id": "0dfdc47a",
   "metadata": {
    "editable": true,
    "execution": {
     "iopub.execute_input": "2025-09-30T11:58:19.559909Z",
     "iopub.status.busy": "2025-09-30T11:58:19.558899Z",
     "iopub.status.idle": "2025-09-30T11:58:19.862834Z",
     "shell.execute_reply": "2025-09-30T11:58:19.859957Z"
    },
    "slideshow": {
     "slide_type": "subslide"
    },
    "tags": []
   },
   "outputs": [
    {
     "name": "stdout",
     "output_type": "stream",
     "text": [
      "import cp.\r\n",
      "\r\n",
      "\r\n",
      "chinese(X, Parameters) =>\r\n",
      "    % parameters\r\n",
      "    [Max, Primes, Moduli] = Parameters,\r\n",
      "    \r\n",
      "    % here we could test input data\r\n",
      "    if Primes.length != Moduli.length then\r\n",
      "        throw(illegal_arguments)\r\n",
      "    end,\r\n",
      "\r\n",
      "    % variables\r\n",
      "    X :: 0..Max,\r\n",
      "\r\n",
      "    % constraints\r\n",
      "    foreach(I in 1..Primes.length)        \r\n",
      "        X mod Primes[I] #= Moduli[I]\r\n",
      "    end.\r\n",
      "\r\n",
      "\r\n",
      "solve_and_output(Parameters) =>\r\n",
      "    chinese(X, Parameters),\r\n",
      "    solve_all(X) = Solutions,\r\n",
      "    foreach (Solution in Solutions)\r\n",
      "        println(Solution)\r\n",
      "    end.\r\n",
      "\r\n",
      "\r\n",
      "main =>\r\n",
      "    Parameters = [42000, [5,7,9,11,13], [3,2,4,10,1]],\r\n",
      "    solve_and_output(Parameters).\r\n",
      "\r\n",
      "\r\n",
      "main(Parameters_as_Strings) =>\r\n",
      "    Parameters = map(parse_term, Parameters_as_Strings),\r\n",
      "    solve_and_output(Parameters).\r\n"
     ]
    }
   ],
   "source": [
    "!cat chinese-remainder/chinese-remainder.pi"
   ]
  },
  {
   "cell_type": "markdown",
   "id": "57084bc1",
   "metadata": {
    "editable": false,
    "slideshow": {
     "slide_type": "slide"
    },
    "tags": []
   },
   "source": [
    "### Example: SEND + MORE = MONEY"
   ]
  },
  {
   "cell_type": "markdown",
   "id": "261b8354",
   "metadata": {
    "editable": false,
    "slideshow": {
     "slide_type": "fragment"
    },
    "tags": []
   },
   "source": [
    "Solve the crypt-arithmetic puzzle (each letter represents a different base-10 digit, S and M are nonzero):\n",
    "> SEND + MORE = MONEY"
   ]
  },
  {
   "cell_type": "code",
   "execution_count": 9,
   "id": "1fc1f777",
   "metadata": {
    "editable": true,
    "execution": {
     "iopub.execute_input": "2025-09-30T11:58:19.869955Z",
     "iopub.status.busy": "2025-09-30T11:58:19.869323Z",
     "iopub.status.idle": "2025-09-30T11:58:20.205904Z",
     "shell.execute_reply": "2025-09-30T11:58:20.202940Z"
    },
    "slideshow": {
     "slide_type": "fragment"
    },
    "tags": []
   },
   "outputs": [
    {
     "name": "stdout",
     "output_type": "stream",
     "text": [
      "[9,5,6,7,1,0,8,2]\r\n"
     ]
    }
   ],
   "source": [
    "!picat send-more-money/send-more-money"
   ]
  },
  {
   "cell_type": "code",
   "execution_count": 10,
   "id": "9ecb5cd0",
   "metadata": {
    "editable": true,
    "execution": {
     "iopub.execute_input": "2025-09-30T11:58:20.213753Z",
     "iopub.status.busy": "2025-09-30T11:58:20.213044Z",
     "iopub.status.idle": "2025-09-30T11:58:20.528632Z",
     "shell.execute_reply": "2025-09-30T11:58:20.526224Z"
    },
    "scrolled": true,
    "slideshow": {
     "slide_type": "subslide"
    },
    "tags": []
   },
   "outputs": [
    {
     "name": "stdout",
     "output_type": "stream",
     "text": [
      "import cp.\r\n",
      "\r\n",
      "send_more_money(Digits) =>\r\n",
      "    Digits = [S,E,N,D,M,O,R,Y],\r\n",
      "    Digits :: 0..9,\r\n",
      "    S #!= 0,\r\n",
      "    M #!= 0,\r\n",
      "\r\n",
      "    % digits are all different: naive\r\n",
      "    % foreach(I in 1..Digits.length, J in I+1..Digits.length)\r\n",
      "    %     Digits[I] #!= Digits[J]\r\n",
      "    % end,\r\n",
      "\r\n",
      "    % digits are all different: using a global constraint (much better propagation!)\r\n",
      "    all_different(Digits),\r\n",
      "    \r\n",
      "    % arithmetic\r\n",
      "                   1000 * S + 100 * E + 10 * N + D\r\n",
      "    +              1000 * M + 100 * O + 10 * R + E\r\n",
      "    #= 10000 * M + 1000 * O + 100 * N + 10 * E + Y.\r\n",
      "\r\n",
      "\r\n",
      "main =>\r\n",
      "    send_more_money(Digits),\r\n",
      "    solve(Digits),\r\n",
      "    println(Digits)."
     ]
    }
   ],
   "source": [
    "!cat send-more-money/send-more-money.pi"
   ]
  },
  {
   "cell_type": "markdown",
   "id": "61d2ce74",
   "metadata": {
    "editable": true,
    "slideshow": {
     "slide_type": "subslide"
    },
    "tags": []
   },
   "source": [
    "All constraint languages are somewhat similar, see the included models in `send-more-money/models-in-other-languages/`: one in the C++-based solver Gecode, two in SICStus Prolog, and two in the high-level modeling language MiniZinc:"
   ]
  },
  {
   "cell_type": "code",
   "execution_count": 11,
   "id": "8e5b14df",
   "metadata": {
    "editable": true,
    "execution": {
     "iopub.execute_input": "2025-09-30T11:58:20.534896Z",
     "iopub.status.busy": "2025-09-30T11:58:20.533983Z",
     "iopub.status.idle": "2025-09-30T11:58:20.845685Z",
     "shell.execute_reply": "2025-09-30T11:58:20.842793Z"
    },
    "scrolled": true,
    "slideshow": {
     "slide_type": "fragment"
    },
    "tags": []
   },
   "outputs": [
    {
     "name": "stdout",
     "output_type": "stream",
     "text": [
      "send-more-money.cpp  send-more-money.pl    send-more-money2.pl\r\n",
      "send-more-money.mzn  send-more-money2.mzn\r\n"
     ]
    }
   ],
   "source": [
    "!ls send-more-money/models-in-other-languages/\n",
    "#!cat send-more-money/models-in-other-languages/*"
   ]
  },
  {
   "cell_type": "markdown",
   "id": "1bc7a360",
   "metadata": {
    "editable": false,
    "slideshow": {
     "slide_type": "slide"
    },
    "tags": []
   },
   "source": [
    "## Exercises"
   ]
  },
  {
   "cell_type": "markdown",
   "id": "93a1cc65",
   "metadata": {
    "editable": false,
    "slideshow": {
     "slide_type": "subslide"
    },
    "tags": []
   },
   "source": [
    "### Exercise: Pythagorean triples\n",
    "1. Generate all Pythagorean triples up to a given parameter, i.e. positive integers such that $a^2+b^2=c^2$, where $a\\leq b$ (an example of [symmetry breaking](https://en.wikipedia.org/wiki/Symmetry-breaking_constraints)). \n",
    "2. Modify your program to accept the flag -c to output the number of solutions.\n",
    "```\n",
    "picat pythagorean 42\n",
    "picat pythagorean -c 42\n",
    "```"
   ]
  },
  {
   "cell_type": "markdown",
   "id": "e791aefb",
   "metadata": {
    "editable": false,
    "slideshow": {
     "slide_type": "subslide"
    },
    "tags": []
   },
   "source": [
    "### Exercise: Send more carry bits\n",
    "Write a better constraint model for the SEND+MORE=MONEY crypt-arithmetic puzzle based on carry bits. \n",
    "\n",
    "Why is it better?\n",
    "\n",
    "> Some letters can be computed from other letters and invalidity of the\n",
    "constraint can be checked before all letters are known. (from R. Barták’s\n",
    "tutorial in Prolog, see the code)\n",
    "\n",
    "> If we don't study the mistakes of the future, we're bound to repeat them for the first time. (Ken M)"
   ]
  }
 ],
 "metadata": {
  "celltoolbar": "Slideshow",
  "kernelspec": {
   "display_name": "Python 3 (ipykernel)",
   "language": "python",
   "name": "python3"
  },
  "language_info": {
   "codemirror_mode": {
    "name": "ipython",
    "version": 3
   },
   "file_extension": ".py",
   "mimetype": "text/x-python",
   "name": "python",
   "nbconvert_exporter": "python",
   "pygments_lexer": "ipython3",
   "version": "3.10.18"
  },
  "rise": {
   "theme": "sky"
  },
  "vscode": {
   "interpreter": {
    "hash": "916dbcbb3f70747c44a77c7bcd40155683ae19c65e1c03b4aa3499c5328201f1"
   }
  }
 },
 "nbformat": 4,
 "nbformat_minor": 5
}
