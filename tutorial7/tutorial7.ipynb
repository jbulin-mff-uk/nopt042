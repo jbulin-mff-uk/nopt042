{
 "cells": [
  {
   "cell_type": "markdown",
   "id": "0d8742c9",
   "metadata": {
    "editable": false,
    "slideshow": {
     "slide_type": "slide"
    },
    "tags": []
   },
   "source": [
    "# NOPT042 Constraint programming: Tutorial 7 – Rostering, table constraint"
   ]
  },
  {
   "cell_type": "markdown",
   "id": "33720ad8-6e99-4f97-9a54-f7474d71b722",
   "metadata": {
    "editable": false,
    "slideshow": {
     "slide_type": "subslide"
    },
    "tags": []
   },
   "source": [
    "### What was in the lecture? Nothing, the lecture was canceled."
   ]
  },
  {
   "cell_type": "markdown",
   "id": "b6f2dfd4-340f-493c-85d1-5eca9940ba01",
   "metadata": {
    "editable": false,
    "slideshow": {
     "slide_type": "subslide"
    },
    "tags": []
   },
   "source": [
    "### Exercise:\n",
    "\n",
    "* Explain why PC is equivalent to path consistency for paths of length two\n",
    "* Give an example of an instance which is AC but not PC\n",
    "* Give an example of an instance which is PC (with all domains nonempty) but not solvable"
   ]
  },
  {
   "cell_type": "code",
   "execution_count": 1,
   "id": "ebb50602",
   "metadata": {
    "editable": true,
    "execution": {
     "iopub.execute_input": "2025-10-06T10:43:53.718702Z",
     "iopub.status.busy": "2025-10-06T10:43:53.717959Z",
     "iopub.status.idle": "2025-10-06T10:43:53.738303Z",
     "shell.execute_reply": "2025-10-06T10:43:53.737667Z"
    },
    "scrolled": true,
    "slideshow": {
     "slide_type": "skip"
    },
    "tags": []
   },
   "outputs": [
    {
     "data": {
      "application/javascript": [
       "\"use strict\";\n",
       "\n",
       "CodeMirror.defineMode(\"text/picat\", function(config) {\n",
       "\n",
       "  var isOperatorChar = /[+\\-*=\\@\\&|\\:#<>\\/]/;\n",
       "\n",
       "  var keywords = {\"else\":true,\n",
       "  \"end\":true,\n",
       "  \"foreach\":true,\n",
       "  \"if\":true,\n",
       "  \"in\":true,\n",
       "  \"then\":true\n",
       "  }\n",
       "\n",
       "  var specials = {\"acyclic_term\":true,\n",
       "  \"and_to_list\":true,\n",
       "  \"append\":true,\n",
       "  \"apply\":true,\n",
       "  \"arity\":true,\n",
       "  \"array\":true,\n",
       "  \"atom\":true,\n",
       "  \"atom_chars\":true,\n",
       "  \"atom_codes\":true,\n",
       "  \"atomic\":true,\n",
       "  \"attr_var\":true,\n",
       "  \"between\":true,\n",
       "  \"bind_vars\":true,\n",
       "  \"call\":true,\n",
       "  \"call_cleanup\":true,\n",
       "  \"catch\":true,\n",
       "  \"char\":true,\n",
       "  \"chr\":true,\n",
       "  \"clear\":true,\n",
       "  \"compare_terms\":true,\n",
       "  \"compound\":true,\n",
       "  \"copy_term\":true,\n",
       "  \"count_all\":true,\n",
       "  \"delete\":true,\n",
       "  \"delete_all\":true,\n",
       "  \"different_term\":true,\n",
       "  \"digit\":true,\n",
       "  \"div\":true,\n",
       "  \"dvar\":true,\n",
       "  \"dvar_or_int\":true,\n",
       "//   \"end\":true,\n",
       "  \"fail\":true,\n",
       "  \"false\":true,\n",
       "  \"find_all\":true,\n",
       "  \"findall\":true,\n",
       "  \"first\":true,\n",
       "  \"flatten\":true,\n",
       "  \"float\":true,\n",
       "  \"fold\":true,\n",
       "//   \"foreach\":true,\n",
       "  \"freeze\":true,\n",
       "  \"get\":true,\n",
       "  \"get_attr\":true,\n",
       "  \"get_global_map\":true,\n",
       "  \"get_heap_map\":true,\n",
       "  \"get_table_map\":true,\n",
       "  \"ground\":true,\n",
       "  \"handle_exception\":true,\n",
       "  \"has_key\":true,\n",
       "  \"hash_code\":true,\n",
       "  \"head\":true,\n",
       "  \"heap_is_empty\":true,\n",
       "  \"heap_pop\":true,\n",
       "  \"heap_push\":true,\n",
       "  \"heap_size\":true,\n",
       "  \"heap_to_list\":true,\n",
       "  \"heap_top\":true,\n",
       "  \"import\":true,    \n",
       "//   \"in\":true,\n",
       "  \"insert\":true,\n",
       "  \"insert_all\":true,\n",
       "  \"insert_ordered\":true,\n",
       "  \"insert_ordered_down\":true,\n",
       "  \"int\":true,\n",
       "  \"integer\":true,\n",
       "  \"is\":true,\n",
       "  \"keys\":true,\n",
       "  \"last\":true,\n",
       "  \"len\":true,\n",
       "  \"length\":true,\n",
       "  \"list\":true,\n",
       "  \"list_to_and\":true,\n",
       "  \"lowercase\":true,\n",
       "  \"map\":true,\n",
       "  \"map_to_list\":true,\n",
       "  \"max\":true,\n",
       "  \"maxint_small\":true,\n",
       "  \"maxof\":true,\n",
       "  \"maxof_inc\":true,\n",
       "  \"membchk\":true,\n",
       "  \"member\":true,\n",
       "  \"min\":true,\n",
       "  \"minint_small\":true,\n",
       "  \"minof\":true,\n",
       "  \"minof_inc\":true,\n",
       "  \"mod\":true,\n",
       "  \"name\":true,\n",
       "  \"new_array\":true,\n",
       "  \"new_list\":true,\n",
       "  \"new_map\":true,\n",
       "  \"new_max_heap\":true,\n",
       "  \"new_min_heap\":true,\n",
       "  \"new_set\":true,\n",
       "  \"new_struct\":true,\n",
       "  \"nonvar\":true,\n",
       "  \"not\":true,\n",
       "  \"notin\":true,\n",
       "  \"nth\":true,\n",
       "  \"number\":true,\n",
       "  \"number_char\":true,\n",
       "  \"number_codes\":true,\n",
       "  \"number_vars\":true,\n",
       "  \"once\":true,\n",
       "  \"ord\":true,\n",
       "  \"parse_radix_string\":true,\n",
       "  \"parse_term\":true,\n",
       "  \"post_event\":true,\n",
       "  \"post_event_any\":true,\n",
       "  \"post_event_bound\":true,\n",
       "  \"post_event_dom\":true,\n",
       "  \"post_event_ins\":true,\n",
       "  \"print\":true,\n",
       "  \"println\":true,\n",
       "  \"prod\":true,\n",
       "  \"put\":true,\n",
       "  \"put_attr\":true,\n",
       "  \"real\":true,\n",
       "  \"reduce\":true,\n",
       "  \"rem\":true,\n",
       "  \"remove_dumps\":true,\n",
       "  \"repeat\":true,\n",
       "  \"reverse\":true,\n",
       "  \"second\":true,\n",
       "  \"select\":true,\n",
       "  \"size\":true,\n",
       "  \"slice\":true,\n",
       "  \"sort\":true,\n",
       "  \"sort_down\":true,\n",
       "  \"sort_down_remove_dups\":true,\n",
       "  \"sort_remove_dups\":true,\n",
       "  \"sorted\":true,\n",
       "  \"sorted_down\":true,\n",
       "  \"string\":true,\n",
       "  \"struct\":true,\n",
       "  \"subsumes\":true,\n",
       "  \"sum\":true,\n",
       "  \"tail\":true,\n",
       "  \"throw\":true,\n",
       "  \"to_array\":true,\n",
       "  \"to_atom\":true,\n",
       "  \"to_binary_string\":true,\n",
       "  \"to_code\":true,\n",
       "  \"to_fstring\":true,\n",
       "  \"to_hex_string\":true,\n",
       "  \"to_int\":true,\n",
       "  \"to_integer\":true,\n",
       "  \"to_list\":true,\n",
       "  \"to_lowercase\":true,\n",
       "  \"to_number\":true,\n",
       "  \"to_oct_string\":true,\n",
       "  \"to_radix_string\":true,\n",
       "  \"to_real\":true,\n",
       "  \"to_string\":true,\n",
       "  \"to_uppercase\":true,\n",
       "  \"true\":true,\n",
       "  \"uppercase\":true,\n",
       "  \"values\":true,\n",
       "  \"var\":true,\n",
       "  \"variant\":true,\n",
       "  \"vars\":true,\n",
       "  \"zip\":true,\n",
       "\n",
       "  \"abs\":true,\n",
       "  \"acos\":true,\n",
       "  \"acosh\":true,\n",
       "  \"acot\":true,\n",
       "  \"acoth\":true,\n",
       "  \"acsc\":true,\n",
       "  \"acsch\":true,\n",
       "  \"asec\":true,\n",
       "  \"asech\":true,\n",
       "  \"asin\":true,\n",
       "  \"asinh\":true,\n",
       "  \"atan\":true,\n",
       "  \"atan2\":true,\n",
       "  \"atanh\":true,\n",
       "  \"ceiling\":true,\n",
       "  \"cos\":true,\n",
       "  \"cosh\":true,\n",
       "  \"cot\":true,\n",
       "  \"coth\":true,\n",
       "  \"csc\":true,\n",
       "  \"csch\":true,\n",
       "  \"e\":true,\n",
       "  \"even\":true,\n",
       "  \"exp\":true,\n",
       "  \"floor\":true,\n",
       "  \"frand\":true,\n",
       "  \"gcd\":true,\n",
       "  \"log\":true,\n",
       "  \"log10\":true,\n",
       "  \"log2\":true,\n",
       "  \"modf\":true,\n",
       "  \"odd\":true,\n",
       "  \"pi\":true,\n",
       "  \"pow\":true,\n",
       "  \"pow_mod\":true,\n",
       "  \"prime\":true,\n",
       "  \"primes\":true,\n",
       "  \"max\":true,\n",
       "  \"random\":true,\n",
       "  \"random2\":true,\n",
       "  \"round\":true,\n",
       "  \"sec\":true,\n",
       "  \"sech\":true,\n",
       "  \"sign\":true,\n",
       "  \"sin\":true,\n",
       "  \"sinh\":true,\n",
       "  \"sqrt\":true,\n",
       "  \"tan\":true,\n",
       "  \"tanh\":true,\n",
       "  \"to_degrees\":true,\n",
       "  \"to_radians\":true,\n",
       "  \"truncate\":true,\n",
       "    \n",
       " \n",
       "  \"xor\":true};\n",
       "\n",
       "  var punc = \":;,.(){}[]\";\n",
       "\n",
       "  function tokenBase(stream, state) {\n",
       "    var ch = stream.next();\n",
       "    if (ch == '\"') {\n",
       "      state.tokenize.push(tokenString);\n",
       "      return tokenString(stream, state);\n",
       "    }\n",
       "    if (/[\\d\\.]/.test(ch)) {\n",
       "      if (ch == \".\") {\n",
       "        stream.match(/^[0-9]+([eE][\\-+]?[0-9]+)?/);\n",
       "      } else if (ch == \"0\") {\n",
       "        stream.match(/^[xX][0-9a-fA-F]+/) || stream.match(/^0[0-7]+/);\n",
       "      } else {\n",
       "        stream.match(/^[0-9]*\\.?[0-9]*([eE][\\-+]?[0-9]+)?/);\n",
       "      }\n",
       "      return \"number\";\n",
       "    }\n",
       "    if (ch == \"/\") {\n",
       "      if (stream.eat(\"*\")) {\n",
       "        state.tokenize.push(tokenComment);\n",
       "        return tokenComment(stream, state);\n",
       "      }\n",
       "    }\n",
       "    if (ch == \"%\") {\n",
       "      stream.skipToEnd();\n",
       "      return \"comment\";\n",
       "    }\n",
       "    if (isOperatorChar.test(ch)) {\n",
       "      stream.eatWhile(isOperatorChar);\n",
       "      return \"operator\";\n",
       "    }\n",
       "    if (punc.indexOf(ch) > -1) {\n",
       "      return \"punctuation\";\n",
       "    }\n",
       "    stream.eatWhile(/[\\w\\$_\\xa1-\\uffff]/);\n",
       "    var cur = stream.current();\n",
       "    if (keywords.propertyIsEnumerable(cur)) {\n",
       "      return \"keyword\";\n",
       "    }\n",
       "    return \"variable\";\n",
       "  }\n",
       "\n",
       "  function tokenComment(stream, state) {\n",
       "    var maybeEnd = false, ch;\n",
       "    while (ch = stream.next()) {\n",
       "      if (ch == \"/\" && maybeEnd) {\n",
       "        state.tokenize.pop();\n",
       "        break;\n",
       "      }\n",
       "      maybeEnd = (ch == \"*\");\n",
       "    }\n",
       "    return \"comment\";\n",
       "  }\n",
       "\n",
       "  function tokenUntilClosingParen() {\n",
       "    var depth = 0;\n",
       "    return function(stream, state, prev) {\n",
       "      var inner = tokenBase(stream, state, prev);\n",
       "      console.log(\"untilClosing\",inner,stream.current());\n",
       "      if (inner == \"punctuation\") {\n",
       "        if (stream.current() == \"(\") {\n",
       "          ++depth;\n",
       "        } else if (stream.current() == \")\") {\n",
       "          if (depth == 0) {\n",
       "            stream.backUp(1)\n",
       "            state.tokenize.pop()\n",
       "            return state.tokenize[state.tokenize.length - 1](stream, state)\n",
       "          } else {\n",
       "            --depth;\n",
       "          }\n",
       "        }\n",
       "      }\n",
       "      return inner;\n",
       "    }\n",
       "  }\n",
       "\n",
       "  function tokenString(stream, state) {\n",
       "    var escaped = false, next, end = false;\n",
       "    while ((next = stream.next()) != null) {\n",
       "      if (next=='(' && escaped) {\n",
       "        state.tokenize.push(tokenUntilClosingParen());\n",
       "        return \"string\";\n",
       "      }\n",
       "      if (next == '\"' && !escaped) {end = true; break;}\n",
       "      escaped = !escaped && next == \"\\\\\";\n",
       "    }\n",
       "    if (end || !escaped)\n",
       "      state.tokenize.pop();\n",
       "    return \"string\";\n",
       "  }\n",
       "\n",
       "  return {\n",
       "    startState: function(basecolumn) {\n",
       "      return {\n",
       "        tokenize: []\n",
       "      };\n",
       "    },\n",
       "\n",
       "    token: function(stream, state) {\n",
       "      if (stream.eatSpace()) return null;\n",
       "      var style = (state.tokenize[state.tokenize.length - 1] || tokenBase)(stream, state);\n",
       "      console.log(\"token\",style);\n",
       "      return style;\n",
       "    },\n",
       "\n",
       "    blockCommentStart: \"/*\",\n",
       "    blockCommentEnd: \"*/\",\n",
       "    lineComment: \"%\"\n",
       "  };\n",
       "});\n",
       "\n",
       "CodeMirror.defineMIME(\"text/picat\", \"text/picat\");\n",
       "\n",
       "Jupyter.CodeCell.options_default.highlight_modes['magic_text/picat'] = {'reg':[/^%%picat/]} ;\n",
       "\n",
       "Jupyter.notebook.get_cells().map(function(cell){\n",
       "  if (cell.cell_type == 'code'){ cell.auto_highlight(); }\n",
       "}) ;"
      ],
      "text/plain": [
       "<IPython.core.display.Javascript object>"
      ]
     },
     "metadata": {},
     "output_type": "display_data"
    },
    {
     "name": "stdout",
     "output_type": "stream",
     "text": [
      "Picat version 3.9\n"
     ]
    }
   ],
   "source": [
    "%load_ext ipicat"
   ]
  },
  {
   "cell_type": "markdown",
   "id": "29c94f8e",
   "metadata": {
    "editable": false,
    "jp-MarkdownHeadingCollapsed": true,
    "slideshow": {
     "slide_type": "slide"
    },
    "tags": []
   },
   "source": [
    "## The constraint `regular`\n",
    "\n",
    "```\n",
    "regular(L, Q, S, M, Q0, F)\n",
    "```\n",
    "> Given a finite automaton (DFA or NFA) of $Q$ states numbered $1, 2, \\dots, Q$ with input from $\\{1,\\dots,S\\}$, transition matrix $M$, initial state $Q_0$ ($1 \\leq Q_0\\leq Q$), and a list of accepting states $F$, this constraint is true if the list $L$ is accepted by the automaton. The transition matrix $M$ represents a mapping from $\\{1,\\dots,Q\\} \\times \\{1,\\dots,S\\}$ to $\\{0,\\dots,Q\\}$, where $0$ denotes the error state. For a DFA, every entry in $M$ is an integer, and for an NFA, entries can be a list of integers.\n",
    "\n",
    "---from [the guide](http://picat-lang.org/download/picat_guide.pdf)"
   ]
  },
  {
   "cell_type": "markdown",
   "id": "85c3fd0f",
   "metadata": {
    "editable": false,
    "slideshow": {
     "slide_type": "slide"
    },
    "tags": []
   },
   "source": [
    "## Exercise: Global contiguity\n",
    "\n",
    "Given a 0-1 sequence, express that if there are 1's, they must form a single, contiguous subsequence, e.g. accept `0000` and `0001111100` but not `00111010`. (Problem from [the book](http://picat-lang.org/picatbook2015/constraint_solving_and_planning_with_picat.pdf).)"
   ]
  },
  {
   "cell_type": "code",
   "execution_count": 2,
   "id": "dcc87890",
   "metadata": {
    "editable": true,
    "execution": {
     "iopub.execute_input": "2025-10-06T10:43:53.740691Z",
     "iopub.status.busy": "2025-10-06T10:43:53.740499Z",
     "iopub.status.idle": "2025-10-06T10:43:54.038665Z",
     "shell.execute_reply": "2025-10-06T10:43:54.035479Z"
    },
    "scrolled": true,
    "slideshow": {
     "slide_type": "fragment"
    },
    "tags": []
   },
   "outputs": [
    {
     "name": "stdout",
     "output_type": "stream",
     "text": [
      "ok\r\n",
      "\r\n",
      "*** error(failed,main/1)\r\n",
      "\r\n",
      "\r\n"
     ]
    }
   ],
   "source": [
    "!picat global-contiguity/global_contiguity 0011100\n",
    "!picat global-contiguity/global_contiguity 0110111"
   ]
  },
  {
   "cell_type": "code",
   "execution_count": 3,
   "id": "d9ba8d81",
   "metadata": {
    "editable": true,
    "execution": {
     "iopub.execute_input": "2025-10-06T10:43:54.046130Z",
     "iopub.status.busy": "2025-10-06T10:43:54.045898Z",
     "iopub.status.idle": "2025-10-06T10:43:54.162517Z",
     "shell.execute_reply": "2025-10-06T10:43:54.159484Z"
    },
    "slideshow": {
     "slide_type": "subslide"
    },
    "tags": []
   },
   "outputs": [
    {
     "name": "stdout",
     "output_type": "stream",
     "text": [
      "% Adapted from Constraint Solving and Planning with Picat, Springer \r\n",
      "% by Neng-Fa Zhou, Hakan Kjellerstrand, and Jonathan Fruhman\r\n",
      "import cp.\r\n",
      "\r\n",
      "main([Xstr]) => \r\n",
      "  X = map(to_int,Xstr),  \r\n",
      "  global_contiguity(X),\r\n",
      "  solve(X),\r\n",
      "  println(\"ok\").\r\n",
      "\r\n",
      "global_contiguity(X) =>\r\n",
      "  N = X.length,\r\n",
      "  InputMax = 2,\r\n",
      "  \r\n",
      "  % Translate X's 0..1 to 1..2\r\n",
      "  RegInput = new_list(N),\r\n",
      "  RegInput :: 1..InputMax,  % 1..2\r\n",
      "  foreach (I in 1..N) \r\n",
      "    RegInput[I] #= X[I]+1  \r\n",
      "  end,\r\n",
      "\r\n",
      "  % DFA for the regex \"0*1*0*\"\r\n",
      "  Transition = [\r\n",
      "    [1,2], % state 1: 0* \r\n",
      "    [3,2], % state 2: 1*\r\n",
      "    [3,0]  % state 3: 0*\r\n",
      "  ],\r\n",
      "  NStates = 3,  \r\n",
      "  InitialState = 1,\r\n",
      "  FinalStates = [1,2,3],\r\n",
      "  \r\n",
      "  regular(RegInput,NStates,InputMax,Transition,InitialState,FinalStates).\r\n"
     ]
    }
   ],
   "source": [
    "!cat global-contiguity/global_contiguity.pi"
   ]
  },
  {
   "cell_type": "markdown",
   "id": "ee58e1df",
   "metadata": {
    "editable": false,
    "slideshow": {
     "slide_type": "slide"
    },
    "tags": []
   },
   "source": [
    "## Exercise: Nurse roster\n",
    "\n",
    "Schedule the shifts of `NumNurses` nurses over `NumDays` days. Each nurse is scheduled for each day as either: (d) on day shift, (n) on night shift, or (o) off. In each four day period a nurse must have at least one day off, and no nurse can be scheduled for 3 night shifts in a row. \n",
    "\n",
    "We require `ReqDay` nurses on day shift each day, and `ReqNight` nurses on night shift, and that each nurse takes at least `MinNight` night shifts. (Problem from [the MiniZinc tutorial](https://www.minizinc.org/doc-2.4.3/en/predicates.html#regular), a similar problem is in [the book](http://picat-lang.org/picatbook2015/constraint_solving_and_planning_with_picat.pdf).)"
   ]
  },
  {
   "cell_type": "code",
   "execution_count": 4,
   "id": "1650833c",
   "metadata": {
    "editable": true,
    "execution": {
     "iopub.execute_input": "2025-10-06T10:43:54.172575Z",
     "iopub.status.busy": "2025-10-06T10:43:54.171745Z",
     "iopub.status.idle": "2025-10-06T10:43:54.302809Z",
     "shell.execute_reply": "2025-10-06T10:43:54.299734Z"
    },
    "slideshow": {
     "slide_type": "fragment"
    },
    "tags": []
   },
   "outputs": [
    {
     "name": "stdout",
     "output_type": "stream",
     "text": [
      "instance(NumNurses, NumDays, ReqDay, ReqNight, MinNight) =>\r\n",
      "    NumNurses     = 14,\r\n",
      "    NumDays       = 7,\r\n",
      "    ReqDay        = 3, % minimum number in day shift\r\n",
      "    ReqNight      = 2, % minimum number in night shift\r\n",
      "    MinNight      = 2. % minimum night shifts for each nurse"
     ]
    }
   ],
   "source": [
    "!cat nurse-roster/instance.pi"
   ]
  },
  {
   "cell_type": "code",
   "execution_count": 5,
   "id": "da5c037a",
   "metadata": {
    "editable": true,
    "execution": {
     "iopub.execute_input": "2025-10-06T10:43:54.310801Z",
     "iopub.status.busy": "2025-10-06T10:43:54.310561Z",
     "iopub.status.idle": "2025-10-06T10:43:54.449850Z",
     "shell.execute_reply": "2025-10-06T10:43:54.446798Z"
    },
    "scrolled": true,
    "slideshow": {
     "slide_type": "subslide"
    },
    "tags": []
   },
   "outputs": [
    {
     "name": "stdout",
     "output_type": "stream",
     "text": [
      "\r\n",
      "CPU time 0.0 seconds. Backtracks: 12\r\n",
      "\r\n",
      "|  day  |  day  |  day  |  off  |  day  | night | night |\r\n",
      "|  day  |  day  |  day  |  off  |  day  | night | night |\r\n",
      "|  day  |  day  |  day  |  off  |  day  | night | night |\r\n",
      "|  day  |  day  |  day  |  off  |  day  | night | night |\r\n",
      "|  day  |  day  |  day  |  off  |  day  | night | night |\r\n",
      "|  day  |  day  |  day  |  off  |  day  | night | night |\r\n",
      "|  day  |  day  |  day  |  off  |  day  | night | night |\r\n",
      "|  day  |  day  |  day  |  off  |  day  | night | night |\r\n",
      "|  day  |  day  |  day  |  off  |  day  | night | night |\r\n",
      "|  day  |  day  |  off  |  day  | night | night |  off  |\r\n",
      "|  day  |  day  |  off  |  day  | night | night |  off  |\r\n",
      "| night | night |  off  | night |  off  |  day  |  day  |\r\n",
      "| night |  off  | night | night |  off  |  day  |  day  |\r\n",
      "|  off  | night | night |  day  |  off  |  day  |  day  |\r\n"
     ]
    }
   ],
   "source": [
    "!picat nurse-roster/nurse_roster_regular instance"
   ]
  },
  {
   "cell_type": "markdown",
   "id": "b9705b41",
   "metadata": {
    "editable": false,
    "slideshow": {
     "slide_type": "subslide"
    },
    "tags": []
   },
   "source": [
    "State diagram of the DFA (in mermaid, will not render in the RISE slides), start state is 1, all states are final:\n",
    "```mermaid\n",
    "stateDiagram-v2\n",
    "    1 --> 2: day\n",
    "    1 --> 3: night\n",
    "    1 --> 1: off\n",
    "\n",
    "    2 --> 4: day\n",
    "    2 --> 4: night\n",
    "    2 --> 1: off\n",
    "\n",
    "    3 --> 4: day\n",
    "    3 --> 5: night\n",
    "    3 --> 1: off\n",
    "\n",
    "    4 --> 6: day\n",
    "    4 --> 6: night\n",
    "    4 --> 1: off\n",
    "\n",
    "    5 --> 6: day\n",
    "    5 --> 1: off\n",
    "\n",
    "    6 --> 1: off\n",
    "```"
   ]
  },
  {
   "cell_type": "code",
   "execution_count": 6,
   "id": "cc15858b",
   "metadata": {
    "editable": true,
    "execution": {
     "iopub.execute_input": "2025-10-06T10:43:54.459829Z",
     "iopub.status.busy": "2025-10-06T10:43:54.458985Z",
     "iopub.status.idle": "2025-10-06T10:43:54.602003Z",
     "shell.execute_reply": "2025-10-06T10:43:54.598972Z"
    },
    "slideshow": {
     "slide_type": "subslide"
    },
    "tags": []
   },
   "outputs": [
    {
     "name": "stdout",
     "output_type": "stream",
     "text": [
      "% Adapted from Constraint Solving and Planning with Picat, Springer\r\n",
      "% by Neng-Fa Zhou, Hakan Kjellerstrand, and Jonathan Fruhman\r\n",
      "import cp.\r\n",
      "\r\n",
      "main([Filename]) =>\r\n",
      "  cl(Filename), \r\n",
      "  instance(NumNurses, NumDays, ReqDay, ReqNight, MinNight),\r\n",
      "  nurse_rostering(NumNurses, NumDays, ReqDay, ReqNight, MinNight, Roster, Stat),\r\n",
      "  Vars = Roster.vars() ++ Stat.vars(),\r\n",
      "  time2(solve(Vars)),\r\n",
      "  output(Roster).\r\n",
      "\r\n",
      "nurse_rostering(NumNurses, NumDays, ReqDay, ReqNight, MinNight, Roster, Stat) =>\r\n",
      "  DayShift   = 1,\r\n",
      "  NightShift = 2,\r\n",
      "  OffShift   = 3,\r\n",
      "\r\n",
      "  % decision variables\r\n",
      "  Roster = new_array(NumNurses, NumDays),\r\n",
      "  Roster :: DayShift..OffShift,\r\n",
      "\r\n",
      "  % summary of the shifts: day-night-off\r\n",
      "  Stat = new_array(NumDays,3),\r\n",
      "  Stat :: 0..NumNurses,\r\n",
      "\r\n",
      "  % The DFA for the regular constraint. \r\n",
      "  Transition = [ \r\n",
      "    % day-night-off\r\n",
      "    [2,3,1], % state 1\r\n",
      "    [4,4,1], % state 2\r\n",
      "    [4,5,1], % state 3\r\n",
      "    [6,6,1], % state 4\r\n",
      "    [6,0,1], % state 5\r\n",
      "    [0,0,1]  % state 6\r\n",
      "  ],\r\n",
      "  NStates      = Transition.length, % number of states\r\n",
      "  InputMax     = 3,                 % 3 states\r\n",
      "  InitialState = 1,                 % start at state 1\r\n",
      "  FinalStates  = 1..6,              % all states are final\r\n",
      "  \r\n",
      "  % constraints\r\n",
      "    \r\n",
      "  % valid schedule\r\n",
      "  foreach (I in 1..NumNurses) \r\n",
      "    regular([Roster[I,J] : J in 1..NumDays],\r\n",
      "    NStates,\r\n",
      "    InputMax,\r\n",
      "    Transition,\r\n",
      "    InitialState,\r\n",
      "    FinalStates)\r\n",
      "  end,\r\n",
      "\r\n",
      "  % statistics for each day\r\n",
      "  foreach (Day in 1..NumDays)\r\n",
      "    foreach (Type in 1..3)\r\n",
      "      Stat[Day,Type] #= sum([Roster[Nurse,Day] #= Type : Nurse in 1..NumNurses])\r\n",
      "    end,\r\n",
      "    sum([Stat[Day,Type] : Type in 1..3]) #= NumNurses,\r\n",
      "    % For each day the must be at least 3 nurses with \r\n",
      "    % day shift, and 2 nurses with night shift\r\n",
      "    Stat[Day,DayShift] #>= ReqDay, \r\n",
      "    Stat[Day,NightShift] #>= ReqNight\r\n",
      "  end,\r\n",
      "\r\n",
      "  % each nurse gets MinNight shifts\r\n",
      "  foreach (Nurse in 1..NumNurses)\r\n",
      "    sum([Roster[Nurse, Day] #= NightShift : Day in 1..NumDays]) #>= MinNight \r\n",
      "  end.\r\n",
      "\r\n",
      "output(Roster) =>\r\n",
      "  Shifts = new_map(3,[1=\"|  day  \",2=\"| night \",3=\"|  off  \"]),\r\n",
      "  foreach(Nurse in Roster)     \r\n",
      "    foreach(I in 1..Nurse.length)\r\n",
      "      print(get(Shifts,Nurse[I]))\r\n",
      "    end,\r\n",
      "    print(\"|\\n\")\r\n",
      "  end."
     ]
    }
   ],
   "source": [
    "!cat nurse-roster/nurse_roster_regular.pi"
   ]
  },
  {
   "cell_type": "markdown",
   "id": "f31b5240",
   "metadata": {
    "editable": false,
    "slideshow": {
     "slide_type": "subslide"
    },
    "tags": []
   },
   "source": [
    "## Constraint `sliding_sum` (not available in Picat)\n",
    "```\n",
    "sliding_sum(Low, Up, Seq, Variables) =>\n",
    "   foreach(I in 1..Variables.length-Seq+1)\n",
    "      Sum #= sum([Variables[J] : J in I..I+Seq-1]),\n",
    "      Sum #>= Low,\n",
    "      Sum #=< Up\n",
    "   end.\n",
    "```\n",
    "-- from [Hakank's Picat webpage](https://www.hakank.org/picat/), model [sliding_sum.pi](https://www.hakank.org/picat/sliding_sum.pi)."
   ]
  },
  {
   "cell_type": "markdown",
   "id": "c22e9fdc",
   "metadata": {
    "editable": false,
    "slideshow": {
     "slide_type": "slide"
    },
    "tags": []
   },
   "source": [
    "## The table constraint\n",
    "\n",
    "> A _table constraint_, or an _extensional constraint_, over a tuple of variables specifies a set of tuples\n",
    "that are allowed (called positive) or disallowed (called negative) for the variables. A positive\n",
    "constraint takes the form \n",
    "```\n",
    "table_in(Vars,R)\n",
    "``` \n",
    "> where `Vars` is either a tuple of variables or a list of tuples of variables, and `R` is a list of tuples in which each tuple takes the form $[a_1, ..., a_n]$, where $a_i$ is an integer or the don’t-care symbol ∗. A negative constraint takes the form:\n",
    "```\n",
    "table_notin(Vars, R)\n",
    "```\n",
    "--- from [the guide](http://picat-lang.org/download/picat_guide.pdf)"
   ]
  },
  {
   "cell_type": "markdown",
   "id": "89b190c1",
   "metadata": {
    "editable": false,
    "slideshow": {
     "slide_type": "subslide"
    },
    "tags": []
   },
   "source": [
    "## Exercise: Nurse roster using `table_in`\n",
    "\n",
    "Model the above nurse roster problem using the constraint `table_in`. The model is slower, we will need a simpler instance. And, for simplicity, assume that `NumDays = 7`."
   ]
  },
  {
   "cell_type": "code",
   "execution_count": 7,
   "id": "12ca1961",
   "metadata": {
    "editable": true,
    "execution": {
     "iopub.execute_input": "2025-10-06T10:43:54.612694Z",
     "iopub.status.busy": "2025-10-06T10:43:54.611847Z",
     "iopub.status.idle": "2025-10-06T10:43:54.754145Z",
     "shell.execute_reply": "2025-10-06T10:43:54.750974Z"
    },
    "slideshow": {
     "slide_type": "fragment"
    },
    "tags": []
   },
   "outputs": [
    {
     "name": "stdout",
     "output_type": "stream",
     "text": [
      "instance(NumNurses, NumDays, ReqDay, ReqNight, MinNight) =>\r\n",
      "    NumNurses     = 8,\r\n",
      "    NumDays       = 7,\r\n",
      "    ReqDay        = 2, % minimum number in day shift\r\n",
      "    ReqNight      = 2, % minimum number in night shift\r\n",
      "    MinNight      = 1. % minimum night shifts for each nurse"
     ]
    }
   ],
   "source": [
    "!cat nurse-roster/instance2.pi"
   ]
  },
  {
   "cell_type": "code",
   "execution_count": 8,
   "id": "d721bd98",
   "metadata": {
    "editable": true,
    "execution": {
     "iopub.execute_input": "2025-10-06T10:43:54.764155Z",
     "iopub.status.busy": "2025-10-06T10:43:54.763327Z",
     "iopub.status.idle": "2025-10-06T10:43:54.982544Z",
     "shell.execute_reply": "2025-10-06T10:43:54.979481Z"
    },
    "slideshow": {
     "slide_type": "fragment"
    },
    "tags": []
   },
   "outputs": [
    {
     "name": "stdout",
     "output_type": "stream",
     "text": [
      "\r\n",
      "CPU time 0.04 seconds. Backtracks: 7796\r\n",
      "\r\n",
      "|  day  |  day  |  off  | night | night |  off  |  off  |\r\n",
      "|  day  |  day  |  off  | night | night |  off  |  off  |\r\n",
      "|  day  |  off  | night | night |  off  |  off  |  day  |\r\n",
      "|  day  |  off  | night | night |  off  |  off  |  day  |\r\n",
      "| night | night |  off  |  off  |  day  |  day  |  off  |\r\n",
      "| night | night |  off  |  off  |  day  |  day  |  off  |\r\n",
      "|  off  |  off  |  day  |  day  |  off  | night | night |\r\n",
      "|  off  |  off  |  day  |  day  |  off  | night | night |\r\n"
     ]
    }
   ],
   "source": [
    "!picat nurse-roster/nurse_roster_table instance2"
   ]
  },
  {
   "cell_type": "code",
   "execution_count": 9,
   "id": "73073a55",
   "metadata": {
    "editable": true,
    "execution": {
     "iopub.execute_input": "2025-10-06T10:43:54.992298Z",
     "iopub.status.busy": "2025-10-06T10:43:54.991460Z",
     "iopub.status.idle": "2025-10-06T10:43:55.110326Z",
     "shell.execute_reply": "2025-10-06T10:43:55.107237Z"
    },
    "scrolled": true,
    "slideshow": {
     "slide_type": "fragment"
    },
    "tags": []
   },
   "outputs": [
    {
     "name": "stdout",
     "output_type": "stream",
     "text": [
      "% Adapted from Constraint Solving and Planning with Picat, Springer\r\n",
      "% by Neng-Fa Zhou, Hakan Kjellerstrand, and Jonathan Fruhman\r\n",
      "import cp.\r\n",
      "\r\n",
      "main([Filename]) =>\r\n",
      "  cl(Filename), \r\n",
      "  instance(NumNurses, NumDays, ReqDay, ReqNight, MinNight),\r\n",
      "  nurse_rostering(NumNurses, NumDays, ReqDay, ReqNight, MinNight, Roster, Stat),\r\n",
      "  Vars = Roster.vars() ++ Stat.vars(),\r\n",
      "  time2(solve(Vars)),\r\n",
      "  output(Roster).\r\n",
      "\r\n",
      "% rotate valid schedules\r\n",
      "rotate_left(L) = rotate_left(L,1).\r\n",
      "rotate_left(L,N) = slice(L,N+1,L.length) ++ slice(L,1,N).\r\n",
      "\r\n",
      "nurse_rostering(NumNurses, NumDays, ReqDay, ReqNight, MinNight, Roster, Stat) =>\r\n",
      "\r\n",
      "  % Only works for 7-day rosters!\r\n",
      "  NumDays = 7,\r\n",
      "  \r\n",
      "  DayShift   = 1, D = 1,\r\n",
      "  NightShift = 2, N = 2,\r\n",
      "  OffShift   = 3, O = 3,\r\n",
      "\r\n",
      "  % Valid 7 day schedules:\r\n",
      "  % - up to rotation:\r\n",
      "  Valid_up_to_rotation = [\r\n",
      "    [D,D,D,D,D,O,O],\r\n",
      "    [N,O,N,O,D,D,O],\r\n",
      "    [N,N,O,O,D,D,O]\r\n",
      "  ],\r\n",
      "  % - create all rotational variants\r\n",
      "  Valid = [],\r\n",
      "  foreach (V in Valid_up_to_rotation, R in 0..V.length-1)\r\n",
      "    Rot = rotate_left(V,R).to_array(),\r\n",
      "    Valid := Valid ++ [Rot]\r\n",
      "  end,\r\n",
      "\r\n",
      "  % decision variables:\r\n",
      "  % - the roster\r\n",
      "  Roster = new_array(NumNurses, NumDays),\r\n",
      "  Roster :: DayShift..OffShift,\r\n",
      "\r\n",
      "  % - summary of the shifts: day-night-off]\r\n",
      "  Stat = new_array(NumDays,3),\r\n",
      "  Stat :: 0..NumNurses,\r\n",
      "\r\n",
      "  % constraints\r\n",
      "\r\n",
      "  % - valid schedule\r\n",
      "  foreach (Nurse in 1..NumNurses)\r\n",
      "    table_in([Roster[Nurse,Day] : Day in 1..NumDays].to_array(), Valid)\r\n",
      "  end,\r\n",
      "  \r\n",
      "  % - statistics for each day\r\n",
      "  foreach (Day in 1..NumDays)\r\n",
      "    foreach (Type in 1..3)\r\n",
      "      Stat[Day,Type] #= sum([Roster[Nurse,Day] #= Type : Nurse in 1..NumNurses])\r\n",
      "    end,\r\n",
      "    sum([Stat[Day,Type] : Type in 1..3]) #= NumNurses,\r\n",
      "    % For each day the must be at least 3 nurses with \r\n",
      "    % day shift, and 2 nurses with night shift\r\n",
      "    Stat[Day,DayShift] #>= ReqDay, \r\n",
      "    Stat[Day,NightShift] #>= ReqNight\r\n",
      "  end,\r\n",
      "\r\n",
      "  % - each nurse gets MinNight shifts\r\n",
      "  foreach (Nurse in 1..NumNurses)\r\n",
      "    sum([Roster[Nurse, Day] #= NightShift : Day in 1..NumDays]) #>= MinNight \r\n",
      "  end.\r\n",
      "\r\n",
      "  output(Roster) =>\r\n",
      "    Shifts = new_map(3,[1=\"|  day  \",2=\"| night \",3=\"|  off  \"]),\r\n",
      "    foreach(Nurse in Roster)     \r\n",
      "      foreach(I in 1..Nurse.length)\r\n",
      "        print(get(Shifts,Nurse[I]))\r\n",
      "      end,\r\n",
      "      print(\"|\\n\")\r\n",
      "    end."
     ]
    }
   ],
   "source": [
    "!cat nurse-roster/nurse_roster_table.pi"
   ]
  },
  {
   "cell_type": "markdown",
   "id": "fd7ccc52",
   "metadata": {
    "editable": false,
    "jp-MarkdownHeadingCollapsed": true,
    "slideshow": {
     "slide_type": "slide"
    },
    "tags": []
   },
   "source": [
    "## Exercise: Graph homomorphism\n",
    "\n",
    "Given a pair of graphs $G,H$, find all homomorphisms from $G$ to $H$. A _graph homomorphism_ is a function $f:V(G)\\to V(H)$ such that $$\\{u,v\\}\\in E(G)\\Longrightarrow  \\{f(u),f(v)\\}\\in E(H)$$\n",
    "\n",
    "* Generalizes graph $k$-coloring ($c:G\\to K_k$)\n",
    "* Easier version: oriented graphs \n",
    "* How would you model the Graph Isomorphism Problem?\n"
   ]
  }
 ],
 "metadata": {
  "celltoolbar": "Slideshow",
  "kernelspec": {
   "display_name": "Python 3 (ipykernel)",
   "language": "python",
   "name": "python3"
  },
  "language_info": {
   "codemirror_mode": {
    "name": "ipython",
    "version": 3
   },
   "file_extension": ".py",
   "mimetype": "text/x-python",
   "name": "python",
   "nbconvert_exporter": "python",
   "pygments_lexer": "ipython3",
   "version": "3.10.18"
  },
  "vscode": {
   "interpreter": {
    "hash": "916dbcbb3f70747c44a77c7bcd40155683ae19c65e1c03b4aa3499c5328201f1"
   }
  }
 },
 "nbformat": 4,
 "nbformat_minor": 5
}
