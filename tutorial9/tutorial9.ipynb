{
 "cells": [
  {
   "cell_type": "markdown",
   "id": "0d8742c9",
   "metadata": {
    "editable": false,
    "slideshow": {
     "slide_type": "slide"
    },
    "tags": []
   },
   "source": [
    "# NOPT042 Constraint programming: Tutorial 9 - Implicit constraints\n"
   ]
  },
  {
   "cell_type": "markdown",
   "id": "8b59314f-47cc-4830-ab98-d22fb016b7a4",
   "metadata": {
    "editable": false,
    "jp-MarkdownHeadingCollapsed": true,
    "slideshow": {
     "slide_type": "slide"
    },
    "tags": []
   },
   "source": [
    "### What was in Lecture 6 \n",
    "\n",
    "Higher levels of consistencies\n",
    "\n",
    "* arc consistency: vertex extends to an edge\n",
    "* path consistency: edge extends to a triangle\n",
    "* **k-consistency**: any consistent assignment of (k-1) different variables can be extended to one additional variable\n",
    "* **strong k-consistency**: j-konsistency for all $j\\leq k$\n",
    "* NC is 1-consistency=strong1-consistency, AC is (strong) 2-consistency, PC is (strong) 3-consistency, NC+AC+PC = **strong path consistency**\n",
    "* example: n-vertex graphs, neither n-consistency nor k-consistency for all $n\\leq k$ is enough\n",
    "* **backtrack-free search**: \"for some order of variables we can find a value for each variable compatible with the values of already assigned\n",
    "variables\" (k backward edges needs (k+1)-consistency)\n",
    "* graph width $w$: minimal width (max number of backward edges) among all node orders\n",
    "* **Theorem**: strongly ($w+1$)-consistent => there is an order of variables giving a backtrack-free solution\n",
    "* **directional k-consistency**: in some order of vars, any consistent assignment of k-1 variables can be extended to any kth variable coming after\n",
    "* **adaptive consistency**: ensure directional i-consistency where i depends on node width\n",
    "* **[strong] (i,j)-consistency**: extend any consistent assignment on i variables to j additional variables\n",
    "* **inverse consistency** is (1,k)-consistency: look for support of a value in other variables, neighborhood inverse consistency\n",
    "* **singleton consistency**: assign value to a variable, then test consistency\n",
    "* nonbinary constraints, **generalized arc consistency** (GAC), AC-3 adapted for GAC\n",
    "* **bounds consistency**: GAC only for boundary values of the domains (often used in practice)\n"
   ]
  },
  {
   "cell_type": "code",
   "execution_count": 1,
   "id": "ebb50602",
   "metadata": {
    "editable": true,
    "execution": {
     "iopub.execute_input": "2025-09-30T12:14:33.225720Z",
     "iopub.status.busy": "2025-09-30T12:14:33.224859Z",
     "iopub.status.idle": "2025-09-30T12:14:33.271609Z",
     "shell.execute_reply": "2025-09-30T12:14:33.270159Z"
    },
    "scrolled": true,
    "slideshow": {
     "slide_type": "skip"
    },
    "tags": []
   },
   "outputs": [
    {
     "data": {
      "application/javascript": [
       "\"use strict\";\n",
       "\n",
       "CodeMirror.defineMode(\"text/picat\", function(config) {\n",
       "\n",
       "  var isOperatorChar = /[+\\-*=\\@\\&|\\:#<>\\/]/;\n",
       "\n",
       "  var keywords = {\"else\":true,\n",
       "  \"end\":true,\n",
       "  \"foreach\":true,\n",
       "  \"if\":true,\n",
       "  \"in\":true,\n",
       "  \"then\":true\n",
       "  }\n",
       "\n",
       "  var specials = {\"acyclic_term\":true,\n",
       "  \"and_to_list\":true,\n",
       "  \"append\":true,\n",
       "  \"apply\":true,\n",
       "  \"arity\":true,\n",
       "  \"array\":true,\n",
       "  \"atom\":true,\n",
       "  \"atom_chars\":true,\n",
       "  \"atom_codes\":true,\n",
       "  \"atomic\":true,\n",
       "  \"attr_var\":true,\n",
       "  \"between\":true,\n",
       "  \"bind_vars\":true,\n",
       "  \"call\":true,\n",
       "  \"call_cleanup\":true,\n",
       "  \"catch\":true,\n",
       "  \"char\":true,\n",
       "  \"chr\":true,\n",
       "  \"clear\":true,\n",
       "  \"compare_terms\":true,\n",
       "  \"compound\":true,\n",
       "  \"copy_term\":true,\n",
       "  \"count_all\":true,\n",
       "  \"delete\":true,\n",
       "  \"delete_all\":true,\n",
       "  \"different_term\":true,\n",
       "  \"digit\":true,\n",
       "  \"div\":true,\n",
       "  \"dvar\":true,\n",
       "  \"dvar_or_int\":true,\n",
       "//   \"end\":true,\n",
       "  \"fail\":true,\n",
       "  \"false\":true,\n",
       "  \"find_all\":true,\n",
       "  \"findall\":true,\n",
       "  \"first\":true,\n",
       "  \"flatten\":true,\n",
       "  \"float\":true,\n",
       "  \"fold\":true,\n",
       "//   \"foreach\":true,\n",
       "  \"freeze\":true,\n",
       "  \"get\":true,\n",
       "  \"get_attr\":true,\n",
       "  \"get_global_map\":true,\n",
       "  \"get_heap_map\":true,\n",
       "  \"get_table_map\":true,\n",
       "  \"ground\":true,\n",
       "  \"handle_exception\":true,\n",
       "  \"has_key\":true,\n",
       "  \"hash_code\":true,\n",
       "  \"head\":true,\n",
       "  \"heap_is_empty\":true,\n",
       "  \"heap_pop\":true,\n",
       "  \"heap_push\":true,\n",
       "  \"heap_size\":true,\n",
       "  \"heap_to_list\":true,\n",
       "  \"heap_top\":true,\n",
       "  \"import\":true,    \n",
       "//   \"in\":true,\n",
       "  \"insert\":true,\n",
       "  \"insert_all\":true,\n",
       "  \"insert_ordered\":true,\n",
       "  \"insert_ordered_down\":true,\n",
       "  \"int\":true,\n",
       "  \"integer\":true,\n",
       "  \"is\":true,\n",
       "  \"keys\":true,\n",
       "  \"last\":true,\n",
       "  \"len\":true,\n",
       "  \"length\":true,\n",
       "  \"list\":true,\n",
       "  \"list_to_and\":true,\n",
       "  \"lowercase\":true,\n",
       "  \"map\":true,\n",
       "  \"map_to_list\":true,\n",
       "  \"max\":true,\n",
       "  \"maxint_small\":true,\n",
       "  \"maxof\":true,\n",
       "  \"maxof_inc\":true,\n",
       "  \"membchk\":true,\n",
       "  \"member\":true,\n",
       "  \"min\":true,\n",
       "  \"minint_small\":true,\n",
       "  \"minof\":true,\n",
       "  \"minof_inc\":true,\n",
       "  \"mod\":true,\n",
       "  \"name\":true,\n",
       "  \"new_array\":true,\n",
       "  \"new_list\":true,\n",
       "  \"new_map\":true,\n",
       "  \"new_max_heap\":true,\n",
       "  \"new_min_heap\":true,\n",
       "  \"new_set\":true,\n",
       "  \"new_struct\":true,\n",
       "  \"nonvar\":true,\n",
       "  \"not\":true,\n",
       "  \"notin\":true,\n",
       "  \"nth\":true,\n",
       "  \"number\":true,\n",
       "  \"number_char\":true,\n",
       "  \"number_codes\":true,\n",
       "  \"number_vars\":true,\n",
       "  \"once\":true,\n",
       "  \"ord\":true,\n",
       "  \"parse_radix_string\":true,\n",
       "  \"parse_term\":true,\n",
       "  \"post_event\":true,\n",
       "  \"post_event_any\":true,\n",
       "  \"post_event_bound\":true,\n",
       "  \"post_event_dom\":true,\n",
       "  \"post_event_ins\":true,\n",
       "  \"print\":true,\n",
       "  \"println\":true,\n",
       "  \"prod\":true,\n",
       "  \"put\":true,\n",
       "  \"put_attr\":true,\n",
       "  \"real\":true,\n",
       "  \"reduce\":true,\n",
       "  \"rem\":true,\n",
       "  \"remove_dumps\":true,\n",
       "  \"repeat\":true,\n",
       "  \"reverse\":true,\n",
       "  \"second\":true,\n",
       "  \"select\":true,\n",
       "  \"size\":true,\n",
       "  \"slice\":true,\n",
       "  \"sort\":true,\n",
       "  \"sort_down\":true,\n",
       "  \"sort_down_remove_dups\":true,\n",
       "  \"sort_remove_dups\":true,\n",
       "  \"sorted\":true,\n",
       "  \"sorted_down\":true,\n",
       "  \"string\":true,\n",
       "  \"struct\":true,\n",
       "  \"subsumes\":true,\n",
       "  \"sum\":true,\n",
       "  \"tail\":true,\n",
       "  \"throw\":true,\n",
       "  \"to_array\":true,\n",
       "  \"to_atom\":true,\n",
       "  \"to_binary_string\":true,\n",
       "  \"to_code\":true,\n",
       "  \"to_fstring\":true,\n",
       "  \"to_hex_string\":true,\n",
       "  \"to_int\":true,\n",
       "  \"to_integer\":true,\n",
       "  \"to_list\":true,\n",
       "  \"to_lowercase\":true,\n",
       "  \"to_number\":true,\n",
       "  \"to_oct_string\":true,\n",
       "  \"to_radix_string\":true,\n",
       "  \"to_real\":true,\n",
       "  \"to_string\":true,\n",
       "  \"to_uppercase\":true,\n",
       "  \"true\":true,\n",
       "  \"uppercase\":true,\n",
       "  \"values\":true,\n",
       "  \"var\":true,\n",
       "  \"variant\":true,\n",
       "  \"vars\":true,\n",
       "  \"zip\":true,\n",
       "\n",
       "  \"abs\":true,\n",
       "  \"acos\":true,\n",
       "  \"acosh\":true,\n",
       "  \"acot\":true,\n",
       "  \"acoth\":true,\n",
       "  \"acsc\":true,\n",
       "  \"acsch\":true,\n",
       "  \"asec\":true,\n",
       "  \"asech\":true,\n",
       "  \"asin\":true,\n",
       "  \"asinh\":true,\n",
       "  \"atan\":true,\n",
       "  \"atan2\":true,\n",
       "  \"atanh\":true,\n",
       "  \"ceiling\":true,\n",
       "  \"cos\":true,\n",
       "  \"cosh\":true,\n",
       "  \"cot\":true,\n",
       "  \"coth\":true,\n",
       "  \"csc\":true,\n",
       "  \"csch\":true,\n",
       "  \"e\":true,\n",
       "  \"even\":true,\n",
       "  \"exp\":true,\n",
       "  \"floor\":true,\n",
       "  \"frand\":true,\n",
       "  \"gcd\":true,\n",
       "  \"log\":true,\n",
       "  \"log10\":true,\n",
       "  \"log2\":true,\n",
       "  \"modf\":true,\n",
       "  \"odd\":true,\n",
       "  \"pi\":true,\n",
       "  \"pow\":true,\n",
       "  \"pow_mod\":true,\n",
       "  \"prime\":true,\n",
       "  \"primes\":true,\n",
       "  \"max\":true,\n",
       "  \"random\":true,\n",
       "  \"random2\":true,\n",
       "  \"round\":true,\n",
       "  \"sec\":true,\n",
       "  \"sech\":true,\n",
       "  \"sign\":true,\n",
       "  \"sin\":true,\n",
       "  \"sinh\":true,\n",
       "  \"sqrt\":true,\n",
       "  \"tan\":true,\n",
       "  \"tanh\":true,\n",
       "  \"to_degrees\":true,\n",
       "  \"to_radians\":true,\n",
       "  \"truncate\":true,\n",
       "    \n",
       " \n",
       "  \"xor\":true};\n",
       "\n",
       "  var punc = \":;,.(){}[]\";\n",
       "\n",
       "  function tokenBase(stream, state) {\n",
       "    var ch = stream.next();\n",
       "    if (ch == '\"') {\n",
       "      state.tokenize.push(tokenString);\n",
       "      return tokenString(stream, state);\n",
       "    }\n",
       "    if (/[\\d\\.]/.test(ch)) {\n",
       "      if (ch == \".\") {\n",
       "        stream.match(/^[0-9]+([eE][\\-+]?[0-9]+)?/);\n",
       "      } else if (ch == \"0\") {\n",
       "        stream.match(/^[xX][0-9a-fA-F]+/) || stream.match(/^0[0-7]+/);\n",
       "      } else {\n",
       "        stream.match(/^[0-9]*\\.?[0-9]*([eE][\\-+]?[0-9]+)?/);\n",
       "      }\n",
       "      return \"number\";\n",
       "    }\n",
       "    if (ch == \"/\") {\n",
       "      if (stream.eat(\"*\")) {\n",
       "        state.tokenize.push(tokenComment);\n",
       "        return tokenComment(stream, state);\n",
       "      }\n",
       "    }\n",
       "    if (ch == \"%\") {\n",
       "      stream.skipToEnd();\n",
       "      return \"comment\";\n",
       "    }\n",
       "    if (isOperatorChar.test(ch)) {\n",
       "      stream.eatWhile(isOperatorChar);\n",
       "      return \"operator\";\n",
       "    }\n",
       "    if (punc.indexOf(ch) > -1) {\n",
       "      return \"punctuation\";\n",
       "    }\n",
       "    stream.eatWhile(/[\\w\\$_\\xa1-\\uffff]/);\n",
       "    var cur = stream.current();\n",
       "    if (keywords.propertyIsEnumerable(cur)) {\n",
       "      return \"keyword\";\n",
       "    }\n",
       "    return \"variable\";\n",
       "  }\n",
       "\n",
       "  function tokenComment(stream, state) {\n",
       "    var maybeEnd = false, ch;\n",
       "    while (ch = stream.next()) {\n",
       "      if (ch == \"/\" && maybeEnd) {\n",
       "        state.tokenize.pop();\n",
       "        break;\n",
       "      }\n",
       "      maybeEnd = (ch == \"*\");\n",
       "    }\n",
       "    return \"comment\";\n",
       "  }\n",
       "\n",
       "  function tokenUntilClosingParen() {\n",
       "    var depth = 0;\n",
       "    return function(stream, state, prev) {\n",
       "      var inner = tokenBase(stream, state, prev);\n",
       "      console.log(\"untilClosing\",inner,stream.current());\n",
       "      if (inner == \"punctuation\") {\n",
       "        if (stream.current() == \"(\") {\n",
       "          ++depth;\n",
       "        } else if (stream.current() == \")\") {\n",
       "          if (depth == 0) {\n",
       "            stream.backUp(1)\n",
       "            state.tokenize.pop()\n",
       "            return state.tokenize[state.tokenize.length - 1](stream, state)\n",
       "          } else {\n",
       "            --depth;\n",
       "          }\n",
       "        }\n",
       "      }\n",
       "      return inner;\n",
       "    }\n",
       "  }\n",
       "\n",
       "  function tokenString(stream, state) {\n",
       "    var escaped = false, next, end = false;\n",
       "    while ((next = stream.next()) != null) {\n",
       "      if (next=='(' && escaped) {\n",
       "        state.tokenize.push(tokenUntilClosingParen());\n",
       "        return \"string\";\n",
       "      }\n",
       "      if (next == '\"' && !escaped) {end = true; break;}\n",
       "      escaped = !escaped && next == \"\\\\\";\n",
       "    }\n",
       "    if (end || !escaped)\n",
       "      state.tokenize.pop();\n",
       "    return \"string\";\n",
       "  }\n",
       "\n",
       "  return {\n",
       "    startState: function(basecolumn) {\n",
       "      return {\n",
       "        tokenize: []\n",
       "      };\n",
       "    },\n",
       "\n",
       "    token: function(stream, state) {\n",
       "      if (stream.eatSpace()) return null;\n",
       "      var style = (state.tokenize[state.tokenize.length - 1] || tokenBase)(stream, state);\n",
       "      console.log(\"token\",style);\n",
       "      return style;\n",
       "    },\n",
       "\n",
       "    blockCommentStart: \"/*\",\n",
       "    blockCommentEnd: \"*/\",\n",
       "    lineComment: \"%\"\n",
       "  };\n",
       "});\n",
       "\n",
       "CodeMirror.defineMIME(\"text/picat\", \"text/picat\");\n",
       "\n",
       "Jupyter.CodeCell.options_default.highlight_modes['magic_text/picat'] = {'reg':[/^%%picat/]} ;\n",
       "\n",
       "Jupyter.notebook.get_cells().map(function(cell){\n",
       "  if (cell.cell_type == 'code'){ cell.auto_highlight(); }\n",
       "}) ;"
      ],
      "text/plain": [
       "<IPython.core.display.Javascript object>"
      ]
     },
     "metadata": {},
     "output_type": "display_data"
    },
    {
     "name": "stdout",
     "output_type": "stream",
     "text": [
      "Picat version 3.9\n"
     ]
    }
   ],
   "source": [
    "%load_ext ipicat"
   ]
  },
  {
   "cell_type": "markdown",
   "id": "598abb00",
   "metadata": {
    "editable": false,
    "slideshow": {
     "slide_type": "slide"
    },
    "tags": []
   },
   "source": [
    "## Exercise: Seesaw\n",
    "\n",
    "Adam, Boris, and Cecil want to sit on a 10-feet long seesaw such that they are at least 2 feet apart and the seesaw is balanced. \n",
    "Adam weighs 36 lbs, Boris 32 lbs, and Cecil 16 lbs. Write a general model. (You can assume that the length is even, the distance is integer, and that they can only sit at integer points.)\n",
    "\n",
    "(Problem from  Marriott & Stuckey \"Programming with Constraints\", page 257. Instance from R. Barták's tutorial.)"
   ]
  },
  {
   "cell_type": "markdown",
   "id": "c71c07c6",
   "metadata": {
    "editable": false,
    "slideshow": {
     "slide_type": "subslide"
    },
    "tags": []
   },
   "source": [
    "Possible decision variables?\n",
    "* Position on the seesaw for each person.\n",
    "* Distances between persons, position of the first person, and order of persons.\n",
    "* Person or empty for each position on the seesaw.\n",
    "\n",
    "Global constraints? Symmetry breaking? Multiple modeling? Search strategies? "
   ]
  },
  {
   "cell_type": "code",
   "execution_count": 2,
   "id": "b2df09f2",
   "metadata": {
    "editable": true,
    "execution": {
     "iopub.execute_input": "2025-09-30T12:14:33.277610Z",
     "iopub.status.busy": "2025-09-30T12:14:33.277115Z",
     "iopub.status.idle": "2025-09-30T12:14:33.917497Z",
     "shell.execute_reply": "2025-09-30T12:14:33.914729Z"
    },
    "scrolled": true,
    "slideshow": {
     "slide_type": "subslide"
    },
    "tags": []
   },
   "outputs": [
    {
     "name": "stdout",
     "output_type": "stream",
     "text": [
      "instance1.pi  instance2.pi  instance3.pi  instance4.pi\tinstance5.pi\r\n"
     ]
    },
    {
     "name": "stdout",
     "output_type": "stream",
     "text": [
      "% sample instance\r\n",
      "instance(NumPeople, Length, Distance, Weights) =>\r\n",
      "    NumPeople = 3,\r\n",
      "    Length = 10,\r\n",
      "    Distance = 2,\r\n",
      "    Weights = [36, 32, 16].\r\n"
     ]
    }
   ],
   "source": [
    "!ls seesaw\n",
    "!cat seesaw/instance1.pi"
   ]
  },
  {
   "cell_type": "code",
   "execution_count": 3,
   "id": "eee076fc",
   "metadata": {
    "editable": true,
    "execution": {
     "iopub.execute_input": "2025-09-30T12:14:33.925932Z",
     "iopub.status.busy": "2025-09-30T12:14:33.925005Z",
     "iopub.status.idle": "2025-09-30T12:15:03.751480Z",
     "shell.execute_reply": "2025-09-30T12:15:03.748846Z"
    },
    "scrolled": true,
    "slideshow": {
     "slide_type": "subslide"
    },
    "tags": []
   },
   "outputs": [
    {
     "name": "stdout",
     "output_type": "stream",
     "text": [
      "[-16,-15,-14,-13,-12,-11,-10,-9,-8,-7,-6,-5,-4,-3,-2,-1,0,1,2,6,8,7,9,14,15,10,16,11,12,13]\r\n",
      "\r\n",
      "real\t0m29.146s\r\n",
      "user\t0m29.180s\r\n",
      "sys\t0m0.009s\r\n"
     ]
    },
    {
     "name": "stdout",
     "output_type": "stream",
     "text": [
      "[-8,0,1,2,3,4,5,6,7,8,9,10,11,12,13,14,15,16,-7,-6,-5,-4,-3,-9,-10,-13,-12,-11,-16,-14]\r\n",
      "\r\n",
      "real\t0m0.022s\r\n",
      "user\t0m0.015s\r\n",
      "sys\t0m0.004s\r\n"
     ]
    }
   ],
   "source": [
    "!time picat seesaw/.solution/seesaw1.pi seesaw/instance4.pi\n",
    "!time picat seesaw/.solution/seesaw4.pi seesaw/instance4.pi"
   ]
  },
  {
   "cell_type": "markdown",
   "id": "85c3fd0f",
   "metadata": {
    "editable": false,
    "slideshow": {
     "slide_type": "slide"
    },
    "tags": []
   },
   "source": [
    "## Exercise: Golomb's ruler\n",
    "\n",
    "A [Golomb's ruler](https://en.wikipedia.org/wiki/Golomb_ruler) is an imaginary ruler with $n$ marks such that the distance between every two marks is different. Find the shortest possible ruler for a given $n$.\n",
    "\n",
    "(The solution for N=28 was announced on Nov 23, 2022! The length is 585.)\n",
    "\n",
    "* What length are you able to solve in reasonable time?\n",
    "* Add suitable implicit constraints. (We will discuss this in class.)"
   ]
  },
  {
   "cell_type": "markdown",
   "id": "29c94f8e",
   "metadata": {
    "editable": false,
    "slideshow": {
     "slide_type": "subslide"
    },
    "tags": []
   },
   "source": [
    "## Redundant (implicit) constraints\n",
    "\n",
    "Redundant constraints do not restrict the solution set but rather express properties of a solution from a different viewpoint. This can lead to\n",
    "\n",
    "* faster domain reduction,\n",
    "* a significant boost in propagation,\n",
    "* improved communication between variables.\n",
    "\n",
    "We have already seen one example last week in the Magic sequence problem: adding the `scalar_product` constraint."
   ]
  },
  {
   "cell_type": "markdown",
   "id": "7791d6c9",
   "metadata": {
    "editable": false,
    "execution": {
     "iopub.execute_input": "2023-10-03T09:43:52.238250Z",
     "iopub.status.busy": "2023-10-03T09:43:52.238055Z",
     "iopub.status.idle": "2023-10-03T09:43:52.256620Z",
     "shell.execute_reply": "2023-10-03T09:43:52.255987Z"
    },
    "slideshow": {
     "slide_type": "subslide"
    },
    "tags": []
   },
   "source": [
    "Implicit constraints based on the following:\n",
    "$$\n",
    "dist[i,j] = dist[i,i+1] + dist[i+1,i+2] + ... + dist[j-1,j]\n",
    "$$\n",
    "Now estimate distances by 1, sum from i to j:\n",
    "\n",
    "```\n",
    "   \n",
    "    foreach(I in 1..N-1, J in I+1..N)\n",
    "        Distances[I,J-I] #>= (J-I)*(J-I+1) div 2,\n",
    "        Distances[I,J-I] #<= Length - (N-J+I-1)*(N-J+I) div 2\n",
    "    end\n",
    "```"
   ]
  },
  {
   "cell_type": "code",
   "execution_count": 4,
   "id": "09aeeec1",
   "metadata": {
    "editable": true,
    "execution": {
     "iopub.execute_input": "2025-09-30T12:15:03.759538Z",
     "iopub.status.busy": "2025-09-30T12:15:03.758792Z",
     "iopub.status.idle": "2025-09-30T12:17:27.078277Z",
     "shell.execute_reply": "2025-09-30T12:17:27.070813Z"
    },
    "slideshow": {
     "slide_type": "subslide"
    },
    "tags": []
   },
   "outputs": [
    {
     "name": "stdout",
     "output_type": "stream",
     "text": [
      "\r\n",
      "CPU time 143.388 seconds. Backtracks: 14554575\r\n",
      "\r\n",
      "length = 55\r\n",
      "[0,1,6,10,23,26,34,41,53,55]\r\n"
     ]
    }
   ],
   "source": [
    "!picat golomb/.solution/golomb.pi 10"
   ]
  },
  {
   "cell_type": "code",
   "execution_count": 5,
   "id": "1bf66ea5",
   "metadata": {
    "editable": true,
    "execution": {
     "iopub.execute_input": "2025-09-30T12:17:27.095319Z",
     "iopub.status.busy": "2025-09-30T12:17:27.094204Z",
     "iopub.status.idle": "2025-09-30T12:17:27.939908Z",
     "shell.execute_reply": "2025-09-30T12:17:27.936400Z"
    },
    "slideshow": {
     "slide_type": "fragment"
    },
    "tags": []
   },
   "outputs": [
    {
     "name": "stdout",
     "output_type": "stream",
     "text": [
      "\r\n",
      "CPU time 0.281 seconds. Backtracks: 17432\r\n",
      "\r\n",
      "length = 55\r\n",
      "[0,1,6,10,23,26,34,41,53,55]\r\n"
     ]
    }
   ],
   "source": [
    "!picat golomb/.solution/golomb-improved 10"
   ]
  },
  {
   "cell_type": "code",
   "execution_count": 6,
   "id": "715c554c",
   "metadata": {
    "editable": true,
    "execution": {
     "iopub.execute_input": "2025-09-30T12:17:27.948632Z",
     "iopub.status.busy": "2025-09-30T12:17:27.947723Z",
     "iopub.status.idle": "2025-09-30T12:17:59.017132Z",
     "shell.execute_reply": "2025-09-30T12:17:59.014472Z"
    },
    "slideshow": {
     "slide_type": "fragment"
    },
    "tags": []
   },
   "outputs": [
    {
     "name": "stdout",
     "output_type": "stream",
     "text": [
      "\r\n",
      "CPU time 30.643 seconds. Backtracks: 1224484\r\n",
      "\r\n",
      "length = 72\r\n",
      "[0,1,4,13,28,33,47,54,64,70,72]\r\n"
     ]
    }
   ],
   "source": [
    "!picat golomb/.solution/golomb-improved 11"
   ]
  }
 ],
 "metadata": {
  "celltoolbar": "Slideshow",
  "kernelspec": {
   "display_name": "Python 3 (ipykernel)",
   "language": "python",
   "name": "python3"
  },
  "language_info": {
   "codemirror_mode": {
    "name": "ipython",
    "version": 3
   },
   "file_extension": ".py",
   "mimetype": "text/x-python",
   "name": "python",
   "nbconvert_exporter": "python",
   "pygments_lexer": "ipython3",
   "version": "3.10.18"
  },
  "vscode": {
   "interpreter": {
    "hash": "916dbcbb3f70747c44a77c7bcd40155683ae19c65e1c03b4aa3499c5328201f1"
   }
  }
 },
 "nbformat": 4,
 "nbformat_minor": 5
}
